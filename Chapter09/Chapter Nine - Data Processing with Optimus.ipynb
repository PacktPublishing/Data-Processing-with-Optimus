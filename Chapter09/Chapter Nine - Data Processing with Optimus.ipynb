{
 "cells": [
  {
   "cell_type": "markdown",
   "metadata": {},
   "source": [
    "# Chapter Nine - Natural Language processing"
   ]
  },
  {
   "cell_type": "code",
   "execution_count": 4,
   "metadata": {},
   "outputs": [
    {
     "name": "stdout",
     "output_type": "stream",
     "text": [
      "The autoreload extension is already loaded. To reload it, use:\n",
      "  %reload_ext autoreload\n"
     ]
    }
   ],
   "source": [
    "%load_ext autoreload\n",
    "%autoreload 2"
   ]
  },
  {
   "cell_type": "code",
   "execution_count": 5,
   "metadata": {},
   "outputs": [],
   "source": [
    "import sys\n",
    "sys.path.append(\"../../../optimus\")"
   ]
  },
  {
   "cell_type": "code",
   "execution_count": 7,
   "metadata": {},
   "outputs": [
    {
     "name": "stderr",
     "output_type": "stream",
     "text": [
      "[nltk_data] Downloading package averaged_perceptron_tagger to\n",
      "[nltk_data]     C:\\Users\\LuisA\\AppData\\Roaming\\nltk_data...\n",
      "[nltk_data]   Package averaged_perceptron_tagger is already up-to-\n",
      "[nltk_data]       date!\n"
     ]
    }
   ],
   "source": [
    "from optimus import Optimus\n",
    "op = Optimus(\"pandas\")"
   ]
  },
  {
   "cell_type": "markdown",
   "metadata": {},
   "source": [
    "### Removing unwanted strings"
   ]
  },
  {
   "cell_type": "code",
   "execution_count": 12,
   "metadata": {},
   "outputs": [
    {
     "data": {
      "text/plain": [
       "{'text': ['\"<a>http://google.com</a> <span>Transformers is an American and Japanese media franchise produced by American toy company Hasbro and Japanese toy company Takara Tomy. It follows the battles of sentient, living autonomous robots, often the Autobots and the Decepticons, who can transform into other forms, such as vehicles and animals. The franchise encompasses toys, animation, comic books, video games and films.The franchise began in 1984 with the Transformers toy line, comprising transforming mecha toys from Takara\\'s Diaclone and Microman toylines rebranded for western markets.[1] </span><span>The term \\'Generation 1\\' covers both the animated television series The Transformers and the comic book series of the same name, which are further divided into Japanese, British and Canadian spin-offs, respectively. Sequels followed, such as the Generation 2 comic book and Beast Wars TV series, which became its own mini-universe. Generation 1 characters underwent two reboots with Dreamwave in 2001 and IDW Publishing in 2005, with a third starting in 2019. There have been other incarnations of the story based on different toy lines during and after the 20th century. The first was the Robots in Disguise series, followed by three shows (Armada, Energon, and Cybertron) that constitute a single universe called the \\'Unicron Trilogy\\'.A live-action film series started in 2007, again distinct from previous incarnations, while the Transformers: Animated series merged concepts from the G1 continuity, the 2007 live-action film and the \\'Unicron Trilogy\\'.</span> <span>For most of the 2010s, in an attempt to mitigate the wave of reboots, the \\'Aligned\\' continuity was established. In 2018, Transformers: Cyberverse debuted, once again, distinct from the previous incarnations.Although initially a separate and competing franchise started in 1983, Tonka\\'s Gobots became the intellectual property of Hasbro after their buyout of Tonka in 1991. Subsequently, the universe depicted in the animated series Challenge of the GoBots and follow-up film GoBots: Battle of the Rock Lords was retroactively established as an alternate universe within the Transformers robot superhero storyline.[2]</span>\"']}"
      ]
     },
     "execution_count": 12,
     "metadata": {},
     "output_type": "execute_result"
    }
   ],
   "source": [
    "df = op.load.csv(\"text.csv\", sep=\";\")\n",
    "df.to_dict()"
   ]
  },
  {
   "cell_type": "code",
   "execution_count": 13,
   "metadata": {},
   "outputs": [
    {
     "data": {
      "text/plain": [
       "{'text': ['\"http://google.com Transformers is an American and Japanese media franchise produced by American toy company Hasbro and Japanese toy company Takara Tomy. It follows the battles of sentient, living autonomous robots, often the Autobots and the Decepticons, who can transform into other forms, such as vehicles and animals. The franchise encompasses toys, animation, comic books, video games and films.The franchise began in 1984 with the Transformers toy line, comprising transforming mecha toys from Takara\\'s Diaclone and Microman toylines rebranded for western markets.[1] The term \\'Generation 1\\' covers both the animated television series The Transformers and the comic book series of the same name, which are further divided into Japanese, British and Canadian spin-offs, respectively. Sequels followed, such as the Generation 2 comic book and Beast Wars TV series, which became its own mini-universe. Generation 1 characters underwent two reboots with Dreamwave in 2001 and IDW Publishing in 2005, with a third starting in 2019. There have been other incarnations of the story based on different toy lines during and after the 20th century. The first was the Robots in Disguise series, followed by three shows (Armada, Energon, and Cybertron) that constitute a single universe called the \\'Unicron Trilogy\\'.A live-action film series started in 2007, again distinct from previous incarnations, while the Transformers: Animated series merged concepts from the G1 continuity, the 2007 live-action film and the \\'Unicron Trilogy\\'. For most of the 2010s, in an attempt to mitigate the wave of reboots, the \\'Aligned\\' continuity was established. In 2018, Transformers: Cyberverse debuted, once again, distinct from the previous incarnations.Although initially a separate and competing franchise started in 1983, Tonka\\'s Gobots became the intellectual property of Hasbro after their buyout of Tonka in 1991. Subsequently, the universe depicted in the animated series Challenge of the GoBots and follow-up film GoBots: Battle of the Rock Lords was retroactively established as an alternate universe within the Transformers robot superhero storyline.[2]\"']}"
      ]
     },
     "execution_count": 13,
     "metadata": {},
     "output_type": "execute_result"
    }
   ],
   "source": [
    "df.cols.strip_html(\"text\").to_dict()"
   ]
  },
  {
   "cell_type": "code",
   "execution_count": 14,
   "metadata": {},
   "outputs": [
    {
     "data": {
      "text/plain": [
       "{'text': ['\"<>http://google.com</> <span>transformers american japanese media franchise produced american toy company hasbro japanese toy company takara tomy. follows battles sentient, living autonomous robots, often autobots decepticons, transform forms, vehicles animals. franchise encompasses toys, animation, comic books, video games films. franchise began 1984 transformers toy line, comprising transforming mecha toys takara\\' diaclone microman toylines rebranded western markets.[1] </span><span> term \\'generation 1\\' covers animated television series transformers comic book series name, divided japanese, british canadian spin-offs, respectively. sequels followed, generation 2 comic book beast wars tv series, became mini-universe. generation 1 characters underwent two reboots dreamwave 2001 idw publishing 2005, third starting 2019. incarnations story based different toy lines 20th century. first robots disguise series, followed three shows (armada, energon, cybertron) constitute single universe called \\'unicron trilogy\\'. live-action film series started 2007, distinct previous incarnations, transformers: animated series merged concepts g1 continuity, 2007 live-action film \\'unicron trilogy\\'.</span> <span> 2010s, attempt mitigate wave reboots, \\'aligned\\' continuity established. 2018, transformers: cyberverse debuted, , distinct previous incarnations.although initially separate competing franchise started 1983, tonka\\' gobots became intellectual property hasbro buyout tonka 1991. subsequently, universe depicted animated series challenge gobots follow- film gobots: battle rock lords retroactively established alternate universe within transformers robot superhero storyline.[2]</span>\"']}"
      ]
     },
     "execution_count": 14,
     "metadata": {},
     "output_type": "execute_result"
    }
   ],
   "source": [
    "df.cols.remove_stopwords(\"text\").to_dict()"
   ]
  },
  {
   "cell_type": "code",
   "execution_count": 15,
   "metadata": {},
   "outputs": [
    {
     "data": {
      "text/plain": [
       "{'text': ['\"<>http://google.com</> <span>transformers is an american and japanese media franchise produced by american toy company hasbro and japanese toy company takara tomy. it follows the battles of sentient, living autonomous robots, often the autobots and the decepticons, who can transform into other forms, such as vehicles and animals. the franchise encompasses toys, animation, comic books, video games and films.the franchise began in 1984 with the transformers toy line, comprising transforming mecha toys from takara\\'s diaclone and microman toylines rebranded for western markets.[1] </span><span>the term \\'generation 1\\' covers both the animated television series the transformers and the comic book series of the same name, which are further divided into japanese, british and canadian spin-offs, respectively. sequels followed, such as the generation 2 comic book and beast wars tv series, which became its own mini-universe. generation 1 characters underwent two reboots with dreamwave in 2001 and idw publishing in 2005, with third starting in 2019. there have been other incarnations of the story based on different toy lines during and after the 20th century. the first was the robots in disguise series, followed by three shows (armada, energon, and cybertron) that constitute single universe called the \\'unicron trilogy\\'. live-action film series started in 2007, again distinct from previous incarnations, while the transformers: animated series merged concepts from the g1 continuity, the 2007 live-action film and the \\'unicron trilogy\\'.</span> <span>for most of the 2010s, in an attempt to mitigate the wave of reboots, the \\'aligned\\' continuity was established. in 2018, transformers: cyberverse debuted, once again, distinct from the previous incarnations.although initially separate and competing franchise started in 1983, tonka\\'s gobots became the intellectual property of hasbro after their buyout of tonka in 1991. subsequently, the universe depicted in the animated series challenge of the gobots and follow-up film gobots: battle of the rock lords was retroactively established as an alternate universe within the transformers robot superhero storyline.[2]</span>\"']}"
      ]
     },
     "execution_count": 15,
     "metadata": {},
     "output_type": "execute_result"
    }
   ],
   "source": [
    "df.cols.remove_stopwords(\"text\",language=\"spanish\").to_dict()"
   ]
  },
  {
   "cell_type": "code",
   "execution_count": 16,
   "metadata": {},
   "outputs": [
    {
     "name": "stdout",
     "output_type": "stream",
     "text": [
      "['arabic', 'azerbaijani', 'danish', 'dutch', 'english', 'finnish', 'french', 'german', 'greek', 'hungarian', 'indonesian', 'italian', 'kazakh', 'nepali', 'norwegian', 'portuguese', 'romanian', 'russian', 'slovene', 'spanish', 'swedish', 'tajik', 'turkish']\n"
     ]
    }
   ],
   "source": [
    "from nltk.corpus import stopwords\n",
    "print(stopwords.fileids())"
   ]
  },
  {
   "cell_type": "code",
   "execution_count": 17,
   "metadata": {},
   "outputs": [
    {
     "name": "stdout",
     "output_type": "stream",
     "text": [
      "['i', 'me', 'my', 'myself', 'we', 'our', 'ours', 'ourselves', 'you', \"you're\", \"you've\", \"you'll\", \"you'd\", 'your', 'yours', 'yourself', 'yourselves', 'he', 'him', 'his', 'himself', 'she', \"she's\", 'her', 'hers', 'herself', 'it', \"it's\", 'its', 'itself', 'they', 'them', 'their', 'theirs', 'themselves', 'what', 'which', 'who', 'whom', 'this', 'that', \"that'll\", 'these', 'those', 'am', 'is', 'are', 'was', 'were', 'be', 'been', 'being', 'have', 'has', 'had', 'having', 'do', 'does', 'did', 'doing', 'a', 'an', 'the', 'and', 'but', 'if', 'or', 'because', 'as', 'until', 'while', 'of', 'at', 'by', 'for', 'with', 'about', 'against', 'between', 'into', 'through', 'during', 'before', 'after', 'above', 'below', 'to', 'from', 'up', 'down', 'in', 'out', 'on', 'off', 'over', 'under', 'again', 'further', 'then', 'once', 'here', 'there', 'when', 'where', 'why', 'how', 'all', 'any', 'both', 'each', 'few', 'more', 'most', 'other', 'some', 'such', 'no', 'nor', 'not', 'only', 'own', 'same', 'so', 'than', 'too', 'very', 's', 't', 'can', 'will', 'just', 'don', \"don't\", 'should', \"should've\", 'now', 'd', 'll', 'm', 'o', 're', 've', 'y', 'ain', 'aren', \"aren't\", 'couldn', \"couldn't\", 'didn', \"didn't\", 'doesn', \"doesn't\", 'hadn', \"hadn't\", 'hasn', \"hasn't\", 'haven', \"haven't\", 'isn', \"isn't\", 'ma', 'mightn', \"mightn't\", 'mustn', \"mustn't\", 'needn', \"needn't\", 'shan', \"shan't\", 'shouldn', \"shouldn't\", 'wasn', \"wasn't\", 'weren', \"weren't\", 'won', \"won't\", 'wouldn', \"wouldn't\"]\n"
     ]
    }
   ],
   "source": [
    "print(stopwords.words(\"english\"))"
   ]
  },
  {
   "cell_type": "code",
   "execution_count": 18,
   "metadata": {},
   "outputs": [
    {
     "data": {
      "text/plain": [
       "{'text': ['\"http://google.com Transformers is an American and Japanese media franchise produced by American toy company Hasbro and Japanese toy company Takara Tomy. It follows the battles of sentient, living autonomous robots, often the Autobots and the Decepticons, who can transform into other forms, such as vehicles and animals. The franchise encompasses toys, animation, comic books, video games and films.The franchise began in 1984 with the Transformers toy line, comprising transforming mecha toys from Takara\\'s Diaclone and Microman toylines rebranded for western markets.[1] The term \\'Generation 1\\' covers both the animated television series The Transformers and the comic book series of the same name, which are further divided into Japanese, British and Canadian spin-offs, respectively. Sequels followed, such as the Generation 2 comic book and Beast Wars TV series, which became its own mini-universe. Generation 1 characters underwent two reboots with Dreamwave in 2001 and IDW Publishing in 2005, with a third starting in 2019. There have been other incarnations of the story based on different toy lines during and after the 20th century. The first was the Robots in Disguise series, followed by three shows (Armada, Energon, and Cybertron) that constitute a single universe called the \\'Unicron Trilogy\\'.A live-action film series started in 2007, again distinct from previous incarnations, while the Transformers: Animated series merged concepts from the G1 continuity, the 2007 live-action film and the \\'Unicron Trilogy\\'. For most of the 2010s, in an attempt to mitigate the wave of reboots, the \\'Aligned\\' continuity was established. In 2018, Transformers: Cyberverse debuted, once again, distinct from the previous incarnations.Although initially a separate and competing franchise started in 1983, Tonka\\'s Gobots became the intellectual property of Hasbro after their buyout of Tonka in 1991. Subsequently, the universe depicted in the animated series Challenge of the GoBots and follow-up film GoBots: Battle of the Rock Lords was retroactively established as an alternate universe within the Transformers robot superhero storyline.[2]\"']}"
      ]
     },
     "execution_count": 18,
     "metadata": {},
     "output_type": "execute_result"
    }
   ],
   "source": [
    "df.cols.strip_html().to_dict()"
   ]
  },
  {
   "cell_type": "code",
   "execution_count": 19,
   "metadata": {},
   "outputs": [
    {
     "data": {
      "text/plain": [
       "{'text': ['\"<a> <span>Transformers is an American and Japanese media franchise produced by American toy company Hasbro and Japanese toy company Takara Tomy. It follows the battles of sentient, living autonomous robots, often the Autobots and the Decepticons, who can transform into other forms, such as vehicles and animals. The franchise encompasses toys, animation, comic books, video games and films.The franchise began in 1984 with the Transformers toy line, comprising transforming mecha toys from Takara\\'s Diaclone and Microman toylines rebranded for western markets.[1] </span><span>The term \\'Generation 1\\' covers both the animated television series The Transformers and the comic book series of the same name, which are further divided into Japanese, British and Canadian spin-offs, respectively. Sequels followed, such as the Generation 2 comic book and Beast Wars TV series, which became its own mini-universe. Generation 1 characters underwent two reboots with Dreamwave in 2001 and IDW Publishing in 2005, with a third starting in 2019. There have been other incarnations of the story based on different toy lines during and after the 20th century. The first was the Robots in Disguise series, followed by three shows (Armada, Energon, and Cybertron) that constitute a single universe called the \\'Unicron Trilogy\\'.A live-action film series started in 2007, again distinct from previous incarnations, while the Transformers: Animated series merged concepts from the G1 continuity, the 2007 live-action film and the \\'Unicron Trilogy\\'.</span> <span>For most of the 2010s, in an attempt to mitigate the wave of reboots, the \\'Aligned\\' continuity was established. In 2018, Transformers: Cyberverse debuted, once again, distinct from the previous incarnations.Although initially a separate and competing franchise started in 1983, Tonka\\'s Gobots became the intellectual property of Hasbro after their buyout of Tonka in 1991. Subsequently, the universe depicted in the animated series Challenge of the GoBots and follow-up film GoBots: Battle of the Rock Lords was retroactively established as an alternate universe within the Transformers robot superhero storyline.[2]</span>\"']}"
      ]
     },
     "execution_count": 19,
     "metadata": {},
     "output_type": "execute_result"
    }
   ],
   "source": [
    "df.cols.remove_urls().to_dict()"
   ]
  },
  {
   "cell_type": "code",
   "execution_count": 20,
   "metadata": {},
   "outputs": [
    {
     "data": {
      "text/html": [
       "\n",
       "\n",
       "\n",
       "\n",
       "\n",
       "<div class=\"info_items\" style=\"margin: 10px 0; font-family: sans-serif; font-size: 10px;\">Viewing 1 of 1 rows / 1 columns</div>\n",
       "<div class=\"info_items\" style=\"margin: 10px 0; font-family: sans-serif; font-size: 10px;\">1 partition(s) </div>\n",
       "\n",
       "\n",
       "<span class=\"optimus_table_container\" style=\"display: inline-flex; flex-direction: column;\">\n",
       "    <table class=\"optimus_table\" style=\"font-size: 12px; margin: 0;\">\n",
       "        <thead style=\"font-family: sans-serif; border-bottom: 1px solid currentColor;\">\n",
       "        <tr>\n",
       "            \n",
       "            <th style=\"\">\n",
       "                <div class=\"column_name\" style=\"font-size: 1.2em;\">text</div>\n",
       "                <div class=\"data_type\" style=\"font-size: 0.8em; font-weight: normal;\">1 (int64)</div>\n",
       "                \n",
       "            </th>\n",
       "            \n",
       "        </tr>\n",
       "\n",
       "        </thead>\n",
       "        <tbody style=\"font-family: monospace;\">\n",
       "        \n",
       "        <tr>\n",
       "            \n",
       "            <td style=\"border: 0px; \">\n",
       "                <div title=\"2192\" style=\"min-height: 14px;\">\n",
       "                    \n",
       "                    2192\n",
       "                    \n",
       "                </div>\n",
       "            </td>\n",
       "            \n",
       "        </tr>\n",
       "        \n",
       "        </tbody>\n",
       "    </table>\n",
       "    <div class=\"optimus_table_border\" style=\"background-color: currentColor; opacity: 0.2; height: 1px; width: 100%;\"></div>\n",
       "</span>\n",
       "\n",
       "<div class=\"info_items\" style=\"margin: 10px 0; font-family: sans-serif; font-size: 10px;\">Viewing 1 of 1 rows / 1 columns</div>\n",
       "<div class=\"info_items\" style=\"margin: 10px 0; font-family: sans-serif; font-size: 10px;\">1 partition(s) &lt;class &#39;optimus.engines.pandas.dataframe.PandasDataFrame&#39;&gt;</div>\n",
       "\n"
      ],
      "text/plain": [
       "     text\n",
       "  (int64)\n",
       "---------\n",
       "     2192"
      ]
     },
     "execution_count": 20,
     "metadata": {},
     "output_type": "execute_result"
    }
   ],
   "source": [
    "df.cols.len(\"text\")"
   ]
  },
  {
   "cell_type": "code",
   "execution_count": 21,
   "metadata": {},
   "outputs": [
    {
     "name": "stdout",
     "output_type": "stream",
     "text": [
      "Wall time: 216 ms\n"
     ]
    },
    {
     "data": {
      "text/plain": [
       "{'text': ['\"<a>http://google.com</a> <span>Transformers is an American and Japanese media franchise produced by American toy company Hasbro and Japanese toy company Takara Tomy. It follows the battles of sentient, living autonomous robots, often the Autobots and the Decepticons, who can transform into other forms, such as vehicles and animals. The franchise encompasses toys, animation, comic books, video games and films.The franchise began in 1984 with the Transformers toy line, comprising transforming mecha toys from Takara\\'s Diaclone and Microman toylines rebranded for western markets.[1] </span><span>The term \\'Generation 1\\' covers both the animated television series The Transformers and the comic book series of the same name, which are further divided into Japanese, British and Canadian spin-offs, respectively. Sequels followed, such as the Generation 2 comic book and Beast Wars TV series, which became its own mini-universe. Generation 1 characters underwent two reboots with Dreamwave in 2001 and IDW Publishing in 2005, with a third starting in 2019. There have been other incarnations of the story based on different toy lines during and after the 20th century. The first was the Robots in Disguise series, followed by three shows (Armada, Energon, and Cybertron) that constitute a single universe called the \\'Unicron Trilogy\\'.A live-action film series started in 2007, again distinct from previous incarnations, while the Transformers: Animated series merged concepts from the G1 continuity, the 2007 live-action film and the \\'Unicron Trilogy\\'.</span> <span>For most of the 2010s, in an attempt to mitigate the wave of reboots, the \\'Aligned\\' continuity was established. In 2018, Transformers: Cyberverse debuted, once again, distinct from the previous incarnations.Although initially a separate and competing franchise started in 1983, Tonka\\'s Gobots became the intellectual property of Hasbro after their buyout of Tonka in 1991. Subsequently, the universe depicted in the animated series Challenge of the GoBots and follow-up film GoBots: Battle of the Rock Lords was retroactively established as an alternate universe within the Transformers robot superhero storyline.[2]</span>\"'],\n",
       " 'tokens': [['``',\n",
       "   '<',\n",
       "   'a',\n",
       "   '>',\n",
       "   'http',\n",
       "   ':',\n",
       "   '//google.com',\n",
       "   '<',\n",
       "   '/a',\n",
       "   '>',\n",
       "   '<',\n",
       "   'span',\n",
       "   '>',\n",
       "   'Transformers',\n",
       "   'is',\n",
       "   'an',\n",
       "   'American',\n",
       "   'and',\n",
       "   'Japanese',\n",
       "   'media',\n",
       "   'franchise',\n",
       "   'produced',\n",
       "   'by',\n",
       "   'American',\n",
       "   'toy',\n",
       "   'company',\n",
       "   'Hasbro',\n",
       "   'and',\n",
       "   'Japanese',\n",
       "   'toy',\n",
       "   'company',\n",
       "   'Takara',\n",
       "   'Tomy',\n",
       "   '.',\n",
       "   'It',\n",
       "   'follows',\n",
       "   'the',\n",
       "   'battles',\n",
       "   'of',\n",
       "   'sentient',\n",
       "   ',',\n",
       "   'living',\n",
       "   'autonomous',\n",
       "   'robots',\n",
       "   ',',\n",
       "   'often',\n",
       "   'the',\n",
       "   'Autobots',\n",
       "   'and',\n",
       "   'the',\n",
       "   'Decepticons',\n",
       "   ',',\n",
       "   'who',\n",
       "   'can',\n",
       "   'transform',\n",
       "   'into',\n",
       "   'other',\n",
       "   'forms',\n",
       "   ',',\n",
       "   'such',\n",
       "   'as',\n",
       "   'vehicles',\n",
       "   'and',\n",
       "   'animals',\n",
       "   '.',\n",
       "   'The',\n",
       "   'franchise',\n",
       "   'encompasses',\n",
       "   'toys',\n",
       "   ',',\n",
       "   'animation',\n",
       "   ',',\n",
       "   'comic',\n",
       "   'books',\n",
       "   ',',\n",
       "   'video',\n",
       "   'games',\n",
       "   'and',\n",
       "   'films.The',\n",
       "   'franchise',\n",
       "   'began',\n",
       "   'in',\n",
       "   '1984',\n",
       "   'with',\n",
       "   'the',\n",
       "   'Transformers',\n",
       "   'toy',\n",
       "   'line',\n",
       "   ',',\n",
       "   'comprising',\n",
       "   'transforming',\n",
       "   'mecha',\n",
       "   'toys',\n",
       "   'from',\n",
       "   'Takara',\n",
       "   \"'s\",\n",
       "   'Diaclone',\n",
       "   'and',\n",
       "   'Microman',\n",
       "   'toylines',\n",
       "   'rebranded',\n",
       "   'for',\n",
       "   'western',\n",
       "   'markets',\n",
       "   '.',\n",
       "   '[',\n",
       "   '1',\n",
       "   ']',\n",
       "   '<',\n",
       "   '/span',\n",
       "   '>',\n",
       "   '<',\n",
       "   'span',\n",
       "   '>',\n",
       "   'The',\n",
       "   'term',\n",
       "   \"'Generation\",\n",
       "   '1',\n",
       "   \"'\",\n",
       "   'covers',\n",
       "   'both',\n",
       "   'the',\n",
       "   'animated',\n",
       "   'television',\n",
       "   'series',\n",
       "   'The',\n",
       "   'Transformers',\n",
       "   'and',\n",
       "   'the',\n",
       "   'comic',\n",
       "   'book',\n",
       "   'series',\n",
       "   'of',\n",
       "   'the',\n",
       "   'same',\n",
       "   'name',\n",
       "   ',',\n",
       "   'which',\n",
       "   'are',\n",
       "   'further',\n",
       "   'divided',\n",
       "   'into',\n",
       "   'Japanese',\n",
       "   ',',\n",
       "   'British',\n",
       "   'and',\n",
       "   'Canadian',\n",
       "   'spin-offs',\n",
       "   ',',\n",
       "   'respectively',\n",
       "   '.',\n",
       "   'Sequels',\n",
       "   'followed',\n",
       "   ',',\n",
       "   'such',\n",
       "   'as',\n",
       "   'the',\n",
       "   'Generation',\n",
       "   '2',\n",
       "   'comic',\n",
       "   'book',\n",
       "   'and',\n",
       "   'Beast',\n",
       "   'Wars',\n",
       "   'TV',\n",
       "   'series',\n",
       "   ',',\n",
       "   'which',\n",
       "   'became',\n",
       "   'its',\n",
       "   'own',\n",
       "   'mini-universe',\n",
       "   '.',\n",
       "   'Generation',\n",
       "   '1',\n",
       "   'characters',\n",
       "   'underwent',\n",
       "   'two',\n",
       "   'reboots',\n",
       "   'with',\n",
       "   'Dreamwave',\n",
       "   'in',\n",
       "   '2001',\n",
       "   'and',\n",
       "   'IDW',\n",
       "   'Publishing',\n",
       "   'in',\n",
       "   '2005',\n",
       "   ',',\n",
       "   'with',\n",
       "   'a',\n",
       "   'third',\n",
       "   'starting',\n",
       "   'in',\n",
       "   '2019',\n",
       "   '.',\n",
       "   'There',\n",
       "   'have',\n",
       "   'been',\n",
       "   'other',\n",
       "   'incarnations',\n",
       "   'of',\n",
       "   'the',\n",
       "   'story',\n",
       "   'based',\n",
       "   'on',\n",
       "   'different',\n",
       "   'toy',\n",
       "   'lines',\n",
       "   'during',\n",
       "   'and',\n",
       "   'after',\n",
       "   'the',\n",
       "   '20th',\n",
       "   'century',\n",
       "   '.',\n",
       "   'The',\n",
       "   'first',\n",
       "   'was',\n",
       "   'the',\n",
       "   'Robots',\n",
       "   'in',\n",
       "   'Disguise',\n",
       "   'series',\n",
       "   ',',\n",
       "   'followed',\n",
       "   'by',\n",
       "   'three',\n",
       "   'shows',\n",
       "   '(',\n",
       "   'Armada',\n",
       "   ',',\n",
       "   'Energon',\n",
       "   ',',\n",
       "   'and',\n",
       "   'Cybertron',\n",
       "   ')',\n",
       "   'that',\n",
       "   'constitute',\n",
       "   'a',\n",
       "   'single',\n",
       "   'universe',\n",
       "   'called',\n",
       "   'the',\n",
       "   \"'Unicron\",\n",
       "   \"Trilogy'.A\",\n",
       "   'live-action',\n",
       "   'film',\n",
       "   'series',\n",
       "   'started',\n",
       "   'in',\n",
       "   '2007',\n",
       "   ',',\n",
       "   'again',\n",
       "   'distinct',\n",
       "   'from',\n",
       "   'previous',\n",
       "   'incarnations',\n",
       "   ',',\n",
       "   'while',\n",
       "   'the',\n",
       "   'Transformers',\n",
       "   ':',\n",
       "   'Animated',\n",
       "   'series',\n",
       "   'merged',\n",
       "   'concepts',\n",
       "   'from',\n",
       "   'the',\n",
       "   'G1',\n",
       "   'continuity',\n",
       "   ',',\n",
       "   'the',\n",
       "   '2007',\n",
       "   'live-action',\n",
       "   'film',\n",
       "   'and',\n",
       "   'the',\n",
       "   \"'Unicron\",\n",
       "   \"Trilogy'.\",\n",
       "   '<',\n",
       "   '/span',\n",
       "   '>',\n",
       "   '<',\n",
       "   'span',\n",
       "   '>',\n",
       "   'For',\n",
       "   'most',\n",
       "   'of',\n",
       "   'the',\n",
       "   '2010s',\n",
       "   ',',\n",
       "   'in',\n",
       "   'an',\n",
       "   'attempt',\n",
       "   'to',\n",
       "   'mitigate',\n",
       "   'the',\n",
       "   'wave',\n",
       "   'of',\n",
       "   'reboots',\n",
       "   ',',\n",
       "   'the',\n",
       "   \"'Aligned\",\n",
       "   \"'\",\n",
       "   'continuity',\n",
       "   'was',\n",
       "   'established',\n",
       "   '.',\n",
       "   'In',\n",
       "   '2018',\n",
       "   ',',\n",
       "   'Transformers',\n",
       "   ':',\n",
       "   'Cyberverse',\n",
       "   'debuted',\n",
       "   ',',\n",
       "   'once',\n",
       "   'again',\n",
       "   ',',\n",
       "   'distinct',\n",
       "   'from',\n",
       "   'the',\n",
       "   'previous',\n",
       "   'incarnations.Although',\n",
       "   'initially',\n",
       "   'a',\n",
       "   'separate',\n",
       "   'and',\n",
       "   'competing',\n",
       "   'franchise',\n",
       "   'started',\n",
       "   'in',\n",
       "   '1983',\n",
       "   ',',\n",
       "   'Tonka',\n",
       "   \"'s\",\n",
       "   'Gobots',\n",
       "   'became',\n",
       "   'the',\n",
       "   'intellectual',\n",
       "   'property',\n",
       "   'of',\n",
       "   'Hasbro',\n",
       "   'after',\n",
       "   'their',\n",
       "   'buyout',\n",
       "   'of',\n",
       "   'Tonka',\n",
       "   'in',\n",
       "   '1991',\n",
       "   '.',\n",
       "   'Subsequently',\n",
       "   ',',\n",
       "   'the',\n",
       "   'universe',\n",
       "   'depicted',\n",
       "   'in',\n",
       "   'the',\n",
       "   'animated',\n",
       "   'series',\n",
       "   'Challenge',\n",
       "   'of',\n",
       "   'the',\n",
       "   'GoBots',\n",
       "   'and',\n",
       "   'follow-up',\n",
       "   'film',\n",
       "   'GoBots',\n",
       "   ':',\n",
       "   'Battle',\n",
       "   'of',\n",
       "   'the',\n",
       "   'Rock',\n",
       "   'Lords',\n",
       "   'was',\n",
       "   'retroactively',\n",
       "   'established',\n",
       "   'as',\n",
       "   'an',\n",
       "   'alternate',\n",
       "   'universe',\n",
       "   'within',\n",
       "   'the',\n",
       "   'Transformers',\n",
       "   'robot',\n",
       "   'superhero',\n",
       "   'storyline',\n",
       "   '.',\n",
       "   '[',\n",
       "   '2',\n",
       "   ']',\n",
       "   '<',\n",
       "   '/span',\n",
       "   '>',\n",
       "   \"''\"]]}"
      ]
     },
     "execution_count": 21,
     "metadata": {},
     "output_type": "execute_result"
    }
   ],
   "source": [
    "%%time\n",
    "df.cols.word_tokenize(\"text\",\"tokens\").to_dict()"
   ]
  },
  {
   "cell_type": "markdown",
   "metadata": {},
   "source": [
    "## Remove Special Chars"
   ]
  },
  {
   "cell_type": "code",
   "execution_count": 18,
   "metadata": {},
   "outputs": [
    {
     "data": {
      "text/plain": [
       "'!\"#$%&\\'()*+,-./:;<=>?@[\\\\]^_`{|}~'"
      ]
     },
     "execution_count": 18,
     "metadata": {},
     "output_type": "execute_result"
    }
   ],
   "source": [
    "import string\n",
    "string.punctuation"
   ]
  },
  {
   "cell_type": "code",
   "execution_count": 19,
   "metadata": {},
   "outputs": [
    {
     "data": {
      "text/plain": [
       "0    \"<a>http://google.com</a> <span>..ansfo.me.s i...\n",
       "Name: text, dtype: object"
      ]
     },
     "execution_count": 19,
     "metadata": {},
     "output_type": "execute_result"
    }
   ],
   "source": [
    "df.data[\"text\"].replace([\"T\",\"r\"],\".\",regex=True)"
   ]
  },
  {
   "cell_type": "code",
   "execution_count": 20,
   "metadata": {},
   "outputs": [
    {
     "name": "stdout",
     "output_type": "stream",
     "text": [
      "text\n",
      "(object)\n",
      "-------------------------------------------------------------------------------------------------------------------------------------------------------------------------------------------------------------------------------------------------------------------------------------------------------------------------------------------------------------------------------------------------------------------------------------------------------------------------------------------------------------------------------------------------------------------------------------------------------------------------------------------------------------------------------------------------------------------------------------------------------------------------------------------------------------------------------------------------------------------------------------------------------------------------------------------------------------------------------------------------------------------------------------------------------------------------------------------------------------------------------------------------------------------------------------------------------------------------------------------------------------------------------------------------------------------------------------------------------------------------------------------------------------------------------------------------------------------------------------------------------------------------------------------------------------------------------------------------------------------------------------------------------------------------------------------------------------------------------------------------------------------------------------------------------------------------------------------------------------------------------------------------------------------------------------------------------------------------------------------------------------------------------------------------------------------------------------------------------------------------------------------------------------------------------------\n",
      "ahttpgooglecoma spanTransformers is an American and Japanese media franchise produced by American toy company Hasbro and Japanese toy company Takara Tomy It follows the battles of sentient living autonomous robots often the Autobots and the Decepticons who can transform into other forms such as vehicles and animals The franchise encompasses toys animation comic books video games and filmsThe franchise began in 1984 with the Transformers toy line comprising transforming mecha toys from Takaras Diaclone and Microman toylines rebranded for western markets1 spanspanThe term Generation 1 covers both the animated television series The Transformers and the comic book series of the same name which are further divided into Japanese British and Canadian spinoffs respectively Sequels followed such as the Generation 2 comic book and Beast Wars TV series which became its own miniuniverse Generation 1 characters underwent two reboots with Dreamwave in 2001 and IDW Publishing in 2005 with a third starting in 2019 There have been other incarnations of the story based on different toy lines during and after the 20th century The first was the Robots in Disguise series followed by three shows Armada Energon and Cybertron that constitute a single universe called the Unicron TrilogyA liveaction film series started in 2007 again distinct from previous incarnations while the Transformers Animated series merged concepts from the G1 continuity the 2007 liveaction film and the Unicron Trilogyspan spanFor most of the 2010s in an attempt to mitigate the wave of reboots the Aligned continuity was established In 2018 Transformers Cyberverse debuted once again distinct from the previous incarnationsAlthough initially a separate and competing franchise started in 1983 Tonkas Gobots became the intellectual property of Hasbro after their buyout of Tonka in 1991 Subsequently the universe depicted in the animated series Challenge of the GoBots and followup film GoBots Battle of the Rock Lords was retroactively established as an alternate universe within the Transformers robot superhero storyline2span\n"
     ]
    }
   ],
   "source": [
    "print(df.cols.remove_special_chars(\"text\"))"
   ]
  },
  {
   "cell_type": "code",
   "execution_count": 26,
   "metadata": {},
   "outputs": [
    {
     "data": {
      "text/html": [
       "\n",
       "\n",
       "\n",
       "\n",
       "\n",
       "<div class=\"info_items\" style=\"margin: 10px 0; font-family: sans-serif; font-size: 10px;\">Viewing 1 of 1 rows / 1 columns</div>\n",
       "<div class=\"info_items\" style=\"margin: 10px 0; font-family: sans-serif; font-size: 10px;\">1 partition(s) </div>\n",
       "\n",
       "\n",
       "<table class=\"optimus_table\" style=\"font-size: 12px;\">\n",
       "    <thead style=\"border-bottom: 1px solid black;\">\n",
       "    <tr>\n",
       "        \n",
       "        <th style=\"font-family: sans-serif;\">\n",
       "            <div class=\"column_name\" style=\"font-size: 1.2em;\">text</div>\n",
       "            <div class=\"data_type\" style=\"font-size: 0.8em; font-weight: normal;\">1 (object)</div>\n",
       "            <div class=\"data_type\" style=\"font-size: 0.8em; font-weight: normal;\">\n",
       "                \n",
       "                not nullable\n",
       "                \n",
       "            </div>\n",
       "        </th>\n",
       "        \n",
       "    </tr>\n",
       "\n",
       "    </thead>\n",
       "    <tbody style=\"font-family: monospace; border-bottom: 1px solid #cccccc;\">\n",
       "    \n",
       "    <tr>\n",
       "        \n",
       "        <td style=\"border: 0px;\">\n",
       "            <div style=\"min-height: 14px;\" title=\"ahttpgooglecoma&#8901;spanTransformers&#8901;is&#8901;an&#8901;American&#8901;and&#8901;Japanese&#8901;media&#8901;franchise&#8901;produced&#8901;by&#8901;American&#8901;toy&#8901;company&#8901;Hasbro&#8901;and&#8901;Japanese&#8901;toy&#8901;company&#8901;Takara&#8901;Tomy&#8901;It&#8901;follows&#8901;the&#8901;battles&#8901;of&#8901;sentient&#8901;living&#8901;autonomous&#8901;robots&#8901;often&#8901;the&#8901;Autobots&#8901;and&#8901;the&#8901;Decepticons&#8901;who&#8901;can&#8901;transform&#8901;into&#8901;other&#8901;forms&#8901;such&#8901;as&#8901;vehicles&#8901;and&#8901;animals&#8901;The&#8901;franchise&#8901;encompasses&#8901;toys&#8901;animation&#8901;comic&#8901;books&#8901;video&#8901;games&#8901;and&#8901;filmsThe&#8901;franchise&#8901;began&#8901;in&#8901;1984&#8901;with&#8901;the&#8901;Transformers&#8901;toy&#8901;line&#8901;comprising&#8901;transforming&#8901;mecha&#8901;toys&#8901;from&#8901;Takaras&#8901;Diaclone&#8901;and&#8901;Microman&#8901;toylines&#8901;rebranded&#8901;for&#8901;western&#8901;markets1&#8901;spanspanThe&#8901;term&#8901;Generation&#8901;1&#8901;covers&#8901;both&#8901;the&#8901;animated&#8901;television&#8901;series&#8901;The&#8901;Transformers&#8901;and&#8901;the&#8901;comic&#8901;book&#8901;series&#8901;of&#8901;the&#8901;same&#8901;name&#8901;which&#8901;are&#8901;further&#8901;divided&#8901;into&#8901;Japanese&#8901;British&#8901;and&#8901;Canadian&#8901;spinoffs&#8901;respectively&#8901;Sequels&#8901;followed&#8901;such&#8901;as&#8901;the&#8901;Generation&#8901;2&#8901;comic&#8901;book&#8901;and&#8901;Beast&#8901;Wars&#8901;TV&#8901;series&#8901;which&#8901;became&#8901;its&#8901;own&#8901;miniuniverse&#8901;Generation&#8901;1&#8901;characters&#8901;underwent&#8901;two&#8901;reboots&#8901;with&#8901;Dreamwave&#8901;in&#8901;2001&#8901;and&#8901;IDW&#8901;Publishing&#8901;in&#8901;2005&#8901;with&#8901;a&#8901;third&#8901;starting&#8901;in&#8901;2019&#8901;There&#8901;have&#8901;been&#8901;other&#8901;incarnations&#8901;of&#8901;the&#8901;story&#8901;based&#8901;on&#8901;different&#8901;toy&#8901;lines&#8901;during&#8901;and&#8901;after&#8901;the&#8901;20th&#8901;century&#8901;The&#8901;first&#8901;was&#8901;the&#8901;Robots&#8901;in&#8901;Disguise&#8901;series&#8901;followed&#8901;by&#8901;three&#8901;shows&#8901;Armada&#8901;Energon&#8901;and&#8901;Cybertron&#8901;that&#8901;constitute&#8901;a&#8901;single&#8901;universe&#8901;called&#8901;the&#8901;Unicron&#8901;TrilogyA&#8901;liveaction&#8901;film&#8901;series&#8901;started&#8901;in&#8901;2007&#8901;again&#8901;distinct&#8901;from&#8901;previous&#8901;incarnations&#8901;while&#8901;the&#8901;Transformers&#8901;Animated&#8901;series&#8901;merged&#8901;concepts&#8901;from&#8901;the&#8901;G1&#8901;continuity&#8901;the&#8901;2007&#8901;liveaction&#8901;film&#8901;and&#8901;the&#8901;Unicron&#8901;Trilogyspan&#8901;spanFor&#8901;most&#8901;of&#8901;the&#8901;2010s&#8901;in&#8901;an&#8901;attempt&#8901;to&#8901;mitigate&#8901;the&#8901;wave&#8901;of&#8901;reboots&#8901;the&#8901;Aligned&#8901;continuity&#8901;was&#8901;established&#8901;In&#8901;2018&#8901;Transformers&#8901;Cyberverse&#8901;debuted&#8901;once&#8901;again&#8901;distinct&#8901;from&#8901;the&#8901;previous&#8901;incarnationsAlthough&#8901;initially&#8901;a&#8901;separate&#8901;and&#8901;competing&#8901;franchise&#8901;started&#8901;in&#8901;1983&#8901;Tonkas&#8901;Gobots&#8901;became&#8901;the&#8901;intellectual&#8901;property&#8901;of&#8901;Hasbro&#8901;after&#8901;their&#8901;buyout&#8901;of&#8901;Tonka&#8901;in&#8901;1991&#8901;Subsequently&#8901;the&#8901;universe&#8901;depicted&#8901;in&#8901;the&#8901;animated&#8901;series&#8901;Challenge&#8901;of&#8901;the&#8901;GoBots&#8901;and&#8901;followup&#8901;film&#8901;GoBots&#8901;Battle&#8901;of&#8901;the&#8901;Rock&#8901;Lords&#8901;was&#8901;retroactively&#8901;established&#8901;as&#8901;an&#8901;alternate&#8901;universe&#8901;within&#8901;the&#8901;Transformers&#8901;robot&#8901;superhero&#8901;storyline2span\">\n",
       "                \n",
       "                ahttpgooglecoma&#8901;spanTransformers&#8901;is&#8901;an&#8901;American&#8901;and&#8901;Japanese&#8901;media&#8901;franchise&...\n",
       "                 \n",
       "            </div>\n",
       "        </td>\n",
       "        \n",
       "    </tr>\n",
       "    \n",
       "    </tbody>\n",
       "</table>\n",
       "\n",
       "<div class=\"info_items\" style=\"margin: 10px 0; font-family: sans-serif; font-size: 10px;\">Viewing 1 of 1 rows / 1 columns</div>\n",
       "<div class=\"info_items\" style=\"margin: 10px 0; font-family: sans-serif; font-size: 10px;\">1 partition(s) &lt;class &#39;optimus.engines.pandas.dataframe.PandasDataFrame&#39;&gt;</div>\n",
       "\n"
      ],
      "text/plain": [
       "text\n",
       "(object)\n",
       "-------------------------------------------------------------------------------------------------------------------------------------------------------------------------------------------------------------------------------------------------------------------------------------------------------------------------------------------------------------------------------------------------------------------------------------------------------------------------------------------------------------------------------------------------------------------------------------------------------------------------------------------------------------------------------------------------------------------------------------------------------------------------------------------------------------------------------------------------------------------------------------------------------------------------------------------------------------------------------------------------------------------------------------------------------------------------------------------------------------------------------------------------------------------------------------------------------------------------------------------------------------------------------------------------------------------------------------------------------------------------------------------------------------------------------------------------------------------------------------------------------------------------------------------------------------------------------------------------------------------------------------------------------------------------------------------------------------------------------------------------------------------------------------------------------------------------------------------------------------------------------------------------------------------------------------------------------------------------------------------------------------------------------------------------------------------------------------------------------------------------------------------------------------------------------------\n",
       "ahttpgooglecoma spanTransformers is an American and Japanese media franchise produced by American toy company Hasbro and Japanese toy company Takara Tomy It follows the battles of sentient living autonomous robots often the Autobots and the Decepticons who can transform into other forms such as vehicles and animals The franchise encompasses toys animation comic books video games and filmsThe franchise began in 1984 with the Transformers toy line comprising transforming mecha toys from Takaras Diaclone and Microman toylines rebranded for western markets1 spanspanThe term Generation 1 covers both the animated television series The Transformers and the comic book series of the same name which are further divided into Japanese British and Canadian spinoffs respectively Sequels followed such as the Generation 2 comic book and Beast Wars TV series which became its own miniuniverse Generation 1 characters underwent two reboots with Dreamwave in 2001 and IDW Publishing in 2005 with a third starting in 2019 There have been other incarnations of the story based on different toy lines during and after the 20th century The first was the Robots in Disguise series followed by three shows Armada Energon and Cybertron that constitute a single universe called the Unicron TrilogyA liveaction film series started in 2007 again distinct from previous incarnations while the Transformers Animated series merged concepts from the G1 continuity the 2007 liveaction film and the Unicron Trilogyspan spanFor most of the 2010s in an attempt to mitigate the wave of reboots the Aligned continuity was established In 2018 Transformers Cyberverse debuted once again distinct from the previous incarnationsAlthough initially a separate and competing franchise started in 1983 Tonkas Gobots became the intellectual property of Hasbro after their buyout of Tonka in 1991 Subsequently the universe depicted in the animated series Challenge of the GoBots and followup film GoBots Battle of the Rock Lords was retroactively established as an alternate universe within the Transformers robot superhero storyline2span"
      ]
     },
     "execution_count": 26,
     "metadata": {},
     "output_type": "execute_result"
    }
   ],
   "source": [
    "df.cols.remove_special_chars()"
   ]
  },
  {
   "cell_type": "code",
   "execution_count": 29,
   "metadata": {},
   "outputs": [
    {
     "name": "stdout",
     "output_type": "stream",
     "text": [
      "text\n",
      "(object)\n",
      "-----------------------------------------------------------------------------------------------------------------------------------------------------------------------------------------------------------------------------------------------------------------------------------------------------------------------------------------------------------------------------------------------------------------------------------------------------------------------------------------------------------------------------------------------------------------------------------------------------------------------------------------------------------------------------------------------------------------------------------------------------------------------------------------------------------------------------------------------------------------------------------------------------------------------------------------------------------------------------------------------------------------------------------------------------------------------------------------------------------------------------------------------------------------------------------------------------------------------------------------------------------------------------------------------------------------------------------------------------------------------------------------------------------------------------------------------------------------------------------------------------------------------------------------------------------------------------------------------------------------------------------------------------------------------------------------------------------------------------------------------------------------------------------------------------------------------------------------------------------------------------------------------------------------------------------------------------------------------------------------------------------------------------------------------------------------------------------------------------------------------------------------------------------------------------------------------------------------------------------------------------------------------------------------------------------------------------------------------------------------------------------------------------------------------------------------------------------------------------------------------------------------------------------------------------------------------------------------------------------------------------------------------------------------------------------------------------------------------------------------------------------------------------------------------------------------------------------------------------------------------------------------------------------------------------------------------------------------------------------------------------------------------------------------------------------------------------------------------------------------------------------------------------------------------------------------------------------------------------------------------------\n",
      "['\"<a>http://google.com</a>', '<span>Transformers', 'is', 'an', 'American', 'and', 'Japanese', 'medium', 'franchise', 'produced', 'by', 'American', 'toy', 'company', 'Hasbro', 'and', 'Japanese', 'toy', 'company', 'Takara', 'Tomy.', 'It', 'follows', 'the', 'battle', 'of', 'sentient,', 'living', 'autonomous', 'robots,', 'often', 'the', 'Autobots', 'and', 'the', 'Decepticons,', 'who', 'can', 'transform', 'into', 'other', 'forms,', 'such', 'a', 'vehicle', 'and', 'animals.', 'The', 'franchise', 'encompasses', 'toys,', 'animation,', 'comic', 'books,', 'video', 'game', 'and', 'films.The', 'franchise', 'began', 'in', '1984', 'with', 'the', 'Transformers', 'toy', 'line,', 'comprising', 'transforming', 'mecha', 'toy', 'from', \"Takara's\", 'Diaclone', 'and', 'Microman', 'toylines', 'rebranded', 'for', 'western', 'markets.[1]', '</span><span>The', 'term', \"'Generation\", \"1'\", 'cover', 'both', 'the', 'animated', 'television', 'series', 'The', 'Transformers', 'and', 'the', 'comic', 'book', 'series', 'of', 'the', 'same', 'name,', 'which', 'are', 'further', 'divided', 'into', 'Japanese,', 'British', 'and', 'Canadian', 'spin-offs,', 'respectively.', 'Sequels', 'followed,', 'such', 'a', 'the', 'Generation', '2', 'comic', 'book', 'and', 'Beast', 'Wars', 'TV', 'series,', 'which', 'became', 'it', 'own', 'mini-universe.', 'Generation', '1', 'character', 'underwent', 'two', 'reboots', 'with', 'Dreamwave', 'in', '2001', 'and', 'IDW', 'Publishing', 'in', '2005,', 'with', 'a', 'third', 'starting', 'in', '2019.', 'There', 'have', 'been', 'other', 'incarnation', 'of', 'the', 'story', 'based', 'on', 'different', 'toy', 'line', 'during', 'and', 'after', 'the', '20th', 'century.', 'The', 'first', 'wa', 'the', 'Robots', 'in', 'Disguise', 'series,', 'followed', 'by', 'three', 'show', '(Armada,', 'Energon,', 'and', 'Cybertron)', 'that', 'constitute', 'a', 'single', 'universe', 'called', 'the', \"'Unicron\", \"Trilogy'.A\", 'live-action', 'film', 'series', 'started', 'in', '2007,', 'again', 'distinct', 'from', 'previous', 'incarnations,', 'while', 'the', 'Transformers:', 'Animated', 'series', 'merged', 'concept', 'from', 'the', 'G1', 'continuity,', 'the', '2007', 'live-action', 'film', 'and', 'the', \"'Unicron\", \"Trilogy'.</span>\", '<span>For', 'most', 'of', 'the', '2010s,', 'in', 'an', 'attempt', 'to', 'mitigate', 'the', 'wave', 'of', 'reboots,', 'the', \"'Aligned'\", 'continuity', 'wa', 'established.', 'In', '2018,', 'Transformers:', 'Cyberverse', 'debuted,', 'once', 'again,', 'distinct', 'from', 'the', 'previous', 'incarnations.Although', 'initially', 'a', 'separate', 'and', 'competing', 'franchise', 'started', 'in', '1983,', \"Tonka's\", 'Gobots', 'became', 'the', 'intellectual', 'property', 'of', 'Hasbro', 'after', 'their', 'buyout', 'of', 'Tonka', 'in', '1991.', 'Subsequently,', 'the', 'universe', 'depicted', 'in', 'the', 'animated', 'series', 'Challenge', 'of', 'the', 'GoBots', 'and', 'follow-up', 'film', 'GoBots:', 'Battle', 'of', 'the', 'Rock', 'Lords', 'wa', 'retroactively', 'established', 'a', 'an', 'alternate', 'universe', 'within', 'the', 'Transformers', 'robot', 'superhero', 'storyline.[2]</span>\"']\n"
     ]
    }
   ],
   "source": [
    "print(df.cols.lemmatize_verbs())"
   ]
  },
  {
   "cell_type": "code",
   "execution_count": 39,
   "metadata": {},
   "outputs": [
    {
     "name": "stdout",
     "output_type": "stream",
     "text": [
      "text\n",
      "(object)\n",
      "--------------------------------------------------------------------------------------------------------------------------------------------------------------------------------------------------------------------------------------------------------------------------------------------------------------------------------------------------------------------------------------------------------------------------------------------------------------------------------------------------------------------------------------------------------------------------------------------------------------------------------------------------------------------------------------------------------------------------------------------------------------------------------------------------------------------------------------------------------------------------------------------------------------------------------------------------------------------------------------------------------------------------------------------------------------------------------------------------------------------------------------------------------------------------------------------------------------------------------------------------------------------------------------------------------------------------------------------------------------------------------------------------------------------------------------------------------------------------------------------------------------------------------------------------------------------------------------------------------------------------------------------------------------------------------------------------------------------------------------------------------------------------------------------------------------------------------------------------------------------------------------------------------------------------------------------------------------------------------------------------------------------------------------------------------------------------------------------------------------------------------------------------------------------------------------------------------------\n",
      "['transformer', 'american', 'japanese', 'medium', 'franchise', 'produced', 'american', 'toy', 'company', 'hasbro', 'japanese', 'toy', 'company', 'takara', 'tomy', 'follows', 'battle', 'sentient', 'living', 'autonomous', 'robot', 'often', 'autobots', 'decepticons', 'transform', 'form', 'vehicle', 'animal', 'franchise', 'encompasses', 'toy', 'animation', 'comic', 'book', 'video', 'game', 'filmsthe', 'franchise', 'began', '1984', 'transformer', 'toy', 'line', 'comprising', 'transforming', 'mecha', 'toy', 'takaras', 'diaclone', 'microman', 'toylines', 'rebranded', 'western', 'markets1', 'term', 'generation', '1', 'cover', 'animated', 'television', 'series', 'transformer', 'comic', 'book', 'series', 'name', 'divided', 'japanese', 'british', 'canadian', 'spinoffs', 'respectively', 'sequel', 'followed', 'generation', '2', 'comic', 'book', 'beast', 'war', 'tv', 'series', 'became', 'miniuniverse', 'generation', '1', 'character', 'underwent', 'two', 'reboots', 'dreamwave', '2001', 'idw', 'publishing', '2005', 'third', 'starting', '2019', 'incarnation', 'story', 'based', 'different', 'toy', 'line', '20th', 'century', 'first', 'robot', 'disguise', 'series', 'followed', 'three', 'show', 'armada', 'energon', 'cybertron', 'constitute', 'single', 'universe', 'called', 'unicron', 'trilogya', 'liveaction', 'film', 'series', 'started', '2007', 'distinct', 'previous', 'incarnation', 'transformer', 'animated', 'series', 'merged', 'concept', 'g1', 'continuity', '2007', 'liveaction', 'film', 'unicron', 'trilogy', '2010s', 'attempt', 'mitigate', 'wave', 'reboots', 'aligned', 'continuity', 'established', '2018', 'transformer', 'cyberverse', 'debuted', 'distinct', 'previous', 'incarnationsalthough', 'initially', 'separate', 'competing', 'franchise', 'started', '1983', 'tonkas', 'gobots', 'became', 'intellectual', 'property', 'hasbro', 'buyout', 'tonka', '1991', 'subsequently', 'universe', 'depicted', 'animated', 'series', 'challenge', 'gobots', 'followup', 'film', 'gobots', 'battle', 'rock', 'lord', 'retroactively', 'established', 'alternate', 'universe', 'within', 'transformer', 'robot', 'superhero', 'storyline2']\n"
     ]
    }
   ],
   "source": [
    "print(df\n",
    "    .cols.strip_html()\n",
    "    .cols.remove_urls()\n",
    "    .cols.remove_special_chars()\n",
    "    .cols.remove_stopwords()\n",
    "    .cols.lemmatize_verbs()\n",
    ")"
   ]
  },
  {
   "cell_type": "code",
   "execution_count": null,
   "metadata": {},
   "outputs": [],
   "source": []
  },
  {
   "cell_type": "code",
   "execution_count": 92,
   "metadata": {},
   "outputs": [
    {
     "data": {
      "text/plain": [
       "Counter({1: 2, 2: 1, 3: 1})"
      ]
     },
     "execution_count": 92,
     "metadata": {},
     "output_type": "execute_result"
    }
   ],
   "source": [
    "Counter([1,2,3,1])"
   ]
  },
  {
   "cell_type": "code",
   "execution_count": 213,
   "metadata": {},
   "outputs": [
    {
     "data": {
      "text/html": [
       "\n",
       "\n",
       "\n",
       "\n",
       "\n",
       "<div class=\"info_items\" style=\"margin: 10px 0; font-family: sans-serif; font-size: 10px;\">Viewing 1 of 1 rows / 2 columns</div>\n",
       "<div class=\"info_items\" style=\"margin: 10px 0; font-family: sans-serif; font-size: 10px;\">1 partition(s) </div>\n",
       "\n",
       "\n",
       "<table class=\"optimus_table\" style=\"font-size: 12px;\">\n",
       "    <thead style=\"border-bottom: 1px solid black;\">\n",
       "    <tr>\n",
       "        \n",
       "        <th style=\"font-family: sans-serif;\">\n",
       "            <div class=\"column_name\" style=\"font-size: 1.2em;\">text</div>\n",
       "            <div class=\"data_type\" style=\"font-size: 0.8em; font-weight: normal;\">1 (object)</div>\n",
       "            <div class=\"data_type\" style=\"font-size: 0.8em; font-weight: normal;\">\n",
       "                \n",
       "                not nullable\n",
       "                \n",
       "            </div>\n",
       "        </th>\n",
       "        \n",
       "        <th style=\"font-family: sans-serif;\">\n",
       "            <div class=\"column_name\" style=\"font-size: 1.2em;\">tokens</div>\n",
       "            <div class=\"data_type\" style=\"font-size: 0.8em; font-weight: normal;\">2 (object)</div>\n",
       "            <div class=\"data_type\" style=\"font-size: 0.8em; font-weight: normal;\">\n",
       "                \n",
       "                not nullable\n",
       "                \n",
       "            </div>\n",
       "        </th>\n",
       "        \n",
       "    </tr>\n",
       "\n",
       "    </thead>\n",
       "    <tbody style=\"font-family: monospace; border-bottom: 1px solid #cccccc;\">\n",
       "    \n",
       "    <tr>\n",
       "        \n",
       "        <td style=\"border: 0px;\">\n",
       "            <div style=\"min-height: 14px;\" title=\"\"<a>http://google.com</a>&#8901;<span>Transformers&#8901;is&#8901;an&#8901;American&#8901;and&#8901;Japanese&#8901;media&#8901;franchise&#8901;produced&#8901;by&#8901;American&#8901;toy&#8901;company&#8901;Hasbro&#8901;and&#8901;Japanese&#8901;toy&#8901;company&#8901;Takara&#8901;Tomy.&#8901;It&#8901;follows&#8901;the&#8901;battles&#8901;of&#8901;sentient,&#8901;living&#8901;autonomous&#8901;robots,&#8901;often&#8901;the&#8901;Autobots&#8901;and&#8901;the&#8901;Decepticons,&#8901;who&#8901;can&#8901;transform&#8901;into&#8901;other&#8901;forms,&#8901;such&#8901;as&#8901;vehicles&#8901;and&#8901;animals.&#8901;The&#8901;franchise&#8901;encompasses&#8901;toys,&#8901;animation,&#8901;comic&#8901;books,&#8901;video&#8901;games&#8901;and&#8901;films.The&#8901;franchise&#8901;began&#8901;in&#8901;1984&#8901;with&#8901;the&#8901;Transformers&#8901;toy&#8901;line,&#8901;comprising&#8901;transforming&#8901;mecha&#8901;toys&#8901;from&#8901;Takara's&#8901;Diaclone&#8901;and&#8901;Microman&#8901;toylines&#8901;rebranded&#8901;for&#8901;western&#8901;markets.[1]&#8901;</span><span>The&#8901;term&#8901;'Generation&#8901;1'&#8901;covers&#8901;both&#8901;the&#8901;animated&#8901;television&#8901;series&#8901;The&#8901;Transformers&#8901;and&#8901;the&#8901;comic&#8901;book&#8901;series&#8901;of&#8901;the&#8901;same&#8901;name,&#8901;which&#8901;are&#8901;further&#8901;divided&#8901;into&#8901;Japanese,&#8901;British&#8901;and&#8901;Canadian&#8901;spin-offs,&#8901;respectively.&#8901;Sequels&#8901;followed,&#8901;such&#8901;as&#8901;the&#8901;Generation&#8901;2&#8901;comic&#8901;book&#8901;and&#8901;Beast&#8901;Wars&#8901;TV&#8901;series,&#8901;which&#8901;became&#8901;its&#8901;own&#8901;mini-universe.&#8901;Generation&#8901;1&#8901;characters&#8901;underwent&#8901;two&#8901;reboots&#8901;with&#8901;Dreamwave&#8901;in&#8901;2001&#8901;and&#8901;IDW&#8901;Publishing&#8901;in&#8901;2005,&#8901;with&#8901;a&#8901;third&#8901;starting&#8901;in&#8901;2019.&#8901;There&#8901;have&#8901;been&#8901;other&#8901;incarnations&#8901;of&#8901;the&#8901;story&#8901;based&#8901;on&#8901;different&#8901;toy&#8901;lines&#8901;during&#8901;and&#8901;after&#8901;the&#8901;20th&#8901;century.&#8901;The&#8901;first&#8901;was&#8901;the&#8901;Robots&#8901;in&#8901;Disguise&#8901;series,&#8901;followed&#8901;by&#8901;three&#8901;shows&#8901;(Armada,&#8901;Energon,&#8901;and&#8901;Cybertron)&#8901;that&#8901;constitute&#8901;a&#8901;single&#8901;universe&#8901;called&#8901;the&#8901;'Unicron&#8901;Trilogy'.A&#8901;live-action&#8901;film&#8901;series&#8901;started&#8901;in&#8901;2007,&#8901;again&#8901;distinct&#8901;from&#8901;previous&#8901;incarnations,&#8901;while&#8901;the&#8901;Transformers:&#8901;Animated&#8901;series&#8901;merged&#8901;concepts&#8901;from&#8901;the&#8901;G1&#8901;continuity,&#8901;the&#8901;2007&#8901;live-action&#8901;film&#8901;and&#8901;the&#8901;'Unicron&#8901;Trilogy'.</span>&#8901;<span>For&#8901;most&#8901;of&#8901;the&#8901;2010s,&#8901;in&#8901;an&#8901;attempt&#8901;to&#8901;mitigate&#8901;the&#8901;wave&#8901;of&#8901;reboots,&#8901;the&#8901;'Aligned'&#8901;continuity&#8901;was&#8901;established.&#8901;In&#8901;2018,&#8901;Transformers:&#8901;Cyberverse&#8901;debuted,&#8901;once&#8901;again,&#8901;distinct&#8901;from&#8901;the&#8901;previous&#8901;incarnations.Although&#8901;initially&#8901;a&#8901;separate&#8901;and&#8901;competing&#8901;franchise&#8901;started&#8901;in&#8901;1983,&#8901;Tonka's&#8901;Gobots&#8901;became&#8901;the&#8901;intellectual&#8901;property&#8901;of&#8901;Hasbro&#8901;after&#8901;their&#8901;buyout&#8901;of&#8901;Tonka&#8901;in&#8901;1991.&#8901;Subsequently,&#8901;the&#8901;universe&#8901;depicted&#8901;in&#8901;the&#8901;animated&#8901;series&#8901;Challenge&#8901;of&#8901;the&#8901;GoBots&#8901;and&#8901;follow-up&#8901;film&#8901;GoBots:&#8901;Battle&#8901;of&#8901;the&#8901;Rock&#8901;Lords&#8901;was&#8901;retroactively&#8901;established&#8901;as&#8901;an&#8901;alternate&#8901;universe&#8901;within&#8901;the&#8901;Transformers&#8901;robot&#8901;superhero&#8901;storyline.[2]</span>\"\">\n",
       "                \n",
       "                \"<a>http://google.com</a>&#8901;<span>Transformers&#8901;is&#8901;an&#8901;American&#8901;and&#8901;Japanese&#8901;media&#890...\n",
       "                 \n",
       "            </div>\n",
       "        </td>\n",
       "        \n",
       "        <td style=\"border: 0px;\">\n",
       "            <div style=\"min-height: 14px;\" title=\"['``',&#8901;'<',&#8901;'a',&#8901;'>',&#8901;'http',&#8901;':',&#8901;'//google.com',&#8901;'<',&#8901;'/a',&#8901;'>',&#8901;'<',&#8901;'span',&#8901;'>',&#8901;'Transformers',&#8901;'is',&#8901;'an',&#8901;'American',&#8901;'and',&#8901;'Japanese',&#8901;'media',&#8901;'franchise',&#8901;'produced',&#8901;'by',&#8901;'American',&#8901;'toy',&#8901;'company',&#8901;'Hasbro',&#8901;'and',&#8901;'Japanese',&#8901;'toy',&#8901;'company',&#8901;'Takara',&#8901;'Tomy',&#8901;'.',&#8901;'It',&#8901;'follows',&#8901;'the',&#8901;'battles',&#8901;'of',&#8901;'sentient',&#8901;',',&#8901;'living',&#8901;'autonomous',&#8901;'robots',&#8901;',',&#8901;'often',&#8901;'the',&#8901;'Autobots',&#8901;'and',&#8901;'the',&#8901;'Decepticons',&#8901;',',&#8901;'who',&#8901;'can',&#8901;'transform',&#8901;'into',&#8901;'other',&#8901;'forms',&#8901;',',&#8901;'such',&#8901;'as',&#8901;'vehicles',&#8901;'and',&#8901;'animals',&#8901;'.',&#8901;'The',&#8901;'franchise',&#8901;'encompasses',&#8901;'toys',&#8901;',',&#8901;'animation',&#8901;',',&#8901;'comic',&#8901;'books',&#8901;',',&#8901;'video',&#8901;'games',&#8901;'and',&#8901;'films.The',&#8901;'franchise',&#8901;'began',&#8901;'in',&#8901;'1984',&#8901;'with',&#8901;'the',&#8901;'Transformers',&#8901;'toy',&#8901;'line',&#8901;',',&#8901;'comprising',&#8901;'transforming',&#8901;'mecha',&#8901;'toys',&#8901;'from',&#8901;'Takara',&#8901;\"'s\",&#8901;'Diaclone',&#8901;'and',&#8901;'Microman',&#8901;'toylines',&#8901;'rebranded',&#8901;'for',&#8901;'western',&#8901;'markets',&#8901;'.',&#8901;'[',&#8901;'1',&#8901;']',&#8901;'<',&#8901;'/span',&#8901;'>',&#8901;'<',&#8901;'span',&#8901;'>',&#8901;'The',&#8901;'term',&#8901;\"'Generation\",&#8901;'1',&#8901;\"'\",&#8901;'covers',&#8901;'both',&#8901;'the',&#8901;'animated',&#8901;'television',&#8901;'series',&#8901;'The',&#8901;'Transformers',&#8901;'and',&#8901;'the',&#8901;'comic',&#8901;'book',&#8901;'series',&#8901;'of',&#8901;'the',&#8901;'same',&#8901;'name',&#8901;',',&#8901;'which',&#8901;'are',&#8901;'further',&#8901;'divided',&#8901;'into',&#8901;'Japanese',&#8901;',',&#8901;'British',&#8901;'and',&#8901;'Canadian',&#8901;'spin-offs',&#8901;',',&#8901;'respectively',&#8901;'.',&#8901;'Sequels',&#8901;'followed',&#8901;',',&#8901;'such',&#8901;'as',&#8901;'the',&#8901;'Generation',&#8901;'2',&#8901;'comic',&#8901;'book',&#8901;'and',&#8901;'Beast',&#8901;'Wars',&#8901;'TV',&#8901;'series',&#8901;',',&#8901;'which',&#8901;'became',&#8901;'its',&#8901;'own',&#8901;'mini-universe',&#8901;'.',&#8901;'Generation',&#8901;'1',&#8901;'characters',&#8901;'underwent',&#8901;'two',&#8901;'reboots',&#8901;'with',&#8901;'Dreamwave',&#8901;'in',&#8901;'2001',&#8901;'and',&#8901;'IDW',&#8901;'Publishing',&#8901;'in',&#8901;'2005',&#8901;',',&#8901;'with',&#8901;'a',&#8901;'third',&#8901;'starting',&#8901;'in',&#8901;'2019',&#8901;'.',&#8901;'There',&#8901;'have',&#8901;'been',&#8901;'other',&#8901;'incarnations',&#8901;'of',&#8901;'the',&#8901;'story',&#8901;'based',&#8901;'on',&#8901;'different',&#8901;'toy',&#8901;'lines',&#8901;'during',&#8901;'and',&#8901;'after',&#8901;'the',&#8901;'20th',&#8901;'century',&#8901;'.',&#8901;'The',&#8901;'first',&#8901;'was',&#8901;'the',&#8901;'Robots',&#8901;'in',&#8901;'Disguise',&#8901;'series',&#8901;',',&#8901;'followed',&#8901;'by',&#8901;'three',&#8901;'shows',&#8901;'(',&#8901;'Armada',&#8901;',',&#8901;'Energon',&#8901;',',&#8901;'and',&#8901;'Cybertron',&#8901;')',&#8901;'that',&#8901;'constitute',&#8901;'a',&#8901;'single',&#8901;'universe',&#8901;'called',&#8901;'the',&#8901;\"'Unicron\",&#8901;\"Trilogy'.A\",&#8901;'live-action',&#8901;'film',&#8901;'series',&#8901;'started',&#8901;'in',&#8901;'2007',&#8901;',',&#8901;'again',&#8901;'distinct',&#8901;'from',&#8901;'previous',&#8901;'incarnations',&#8901;',',&#8901;'while',&#8901;'the',&#8901;'Transformers',&#8901;':',&#8901;'Animated',&#8901;'series',&#8901;'merged',&#8901;'concepts',&#8901;'from',&#8901;'the',&#8901;'G1',&#8901;'continuity',&#8901;',',&#8901;'the',&#8901;'2007',&#8901;'live-action',&#8901;'film',&#8901;'and',&#8901;'the',&#8901;\"'Unicron\",&#8901;\"Trilogy'.\",&#8901;'<',&#8901;'/span',&#8901;'>',&#8901;'<',&#8901;'span',&#8901;'>',&#8901;'For',&#8901;'most',&#8901;'of',&#8901;'the',&#8901;'2010s',&#8901;',',&#8901;'in',&#8901;'an',&#8901;'attempt',&#8901;'to',&#8901;'mitigate',&#8901;'the',&#8901;'wave',&#8901;'of',&#8901;'reboots',&#8901;',',&#8901;'the',&#8901;\"'Aligned\",&#8901;\"'\",&#8901;'continuity',&#8901;'was',&#8901;'established',&#8901;'.',&#8901;'In',&#8901;'2018',&#8901;',',&#8901;'Transformers',&#8901;':',&#8901;'Cyberverse',&#8901;'debuted',&#8901;',',&#8901;'once',&#8901;'again',&#8901;',',&#8901;'distinct',&#8901;'from',&#8901;'the',&#8901;'previous',&#8901;'incarnations.Although',&#8901;'initially',&#8901;'a',&#8901;'separate',&#8901;'and',&#8901;'competing',&#8901;'franchise',&#8901;'started',&#8901;'in',&#8901;'1983',&#8901;',',&#8901;'Tonka',&#8901;\"'s\",&#8901;'Gobots',&#8901;'became',&#8901;'the',&#8901;'intellectual',&#8901;'property',&#8901;'of',&#8901;'Hasbro',&#8901;'after',&#8901;'their',&#8901;'buyout',&#8901;'of',&#8901;'Tonka',&#8901;'in',&#8901;'1991',&#8901;'.',&#8901;'Subsequently',&#8901;',',&#8901;'the',&#8901;'universe',&#8901;'depicted',&#8901;'in',&#8901;'the',&#8901;'animated',&#8901;'series',&#8901;'Challenge',&#8901;'of',&#8901;'the',&#8901;'GoBots',&#8901;'and',&#8901;'follow-up',&#8901;'film',&#8901;'GoBots',&#8901;':',&#8901;'Battle',&#8901;'of',&#8901;'the',&#8901;'Rock',&#8901;'Lords',&#8901;'was',&#8901;'retroactively',&#8901;'established',&#8901;'as',&#8901;'an',&#8901;'alternate',&#8901;'universe',&#8901;'within',&#8901;'the',&#8901;'Transformers',&#8901;'robot',&#8901;'superhero',&#8901;'storyline',&#8901;'.',&#8901;'[',&#8901;'2',&#8901;']',&#8901;'<',&#8901;'/span',&#8901;'>',&#8901;\"''\"]\">\n",
       "                \n",
       "                ['``',&#8901;'<',&#8901;'a',&#8901;'>',&#8901;'http',&#8901;':',&#8901;'//google.com',&#8901;'<',&#8901;'/a',&#8901;'>',&#890...\n",
       "                 \n",
       "            </div>\n",
       "        </td>\n",
       "        \n",
       "    </tr>\n",
       "    \n",
       "    </tbody>\n",
       "</table>\n",
       "\n",
       "<div class=\"info_items\" style=\"margin: 10px 0; font-family: sans-serif; font-size: 10px;\">Viewing 1 of 1 rows / 2 columns</div>\n",
       "<div class=\"info_items\" style=\"margin: 10px 0; font-family: sans-serif; font-size: 10px;\">1 partition(s) &lt;class &#39;optimus.engines.pandas.dataframe.PandasDataFrame&#39;&gt;</div>\n",
       "\n"
      ],
      "text/plain": [
       "text                                                                                                                                                                                                                                                                                                                                                                                                                                                                                                                                                                                                                                                                                                                                                                                                                                                                                                                                                                                                                                                                                                                                                                                                                                                                                                                                                                                                                                                                                                                                                                                                                                                                                                                                                                                                                                                                                                                                                                                                                                                                                                                                                                                                                                                                              tokens\n",
       "(object)                                                                                                                                                                                                                                                                                                                                                                                                                                                                                                                                                                                                                                                                                                                                                                                                                                                                                                                                                                                                                                                                                                                                                                                                                                                                                                                                                                                                                                                                                                                                                                                                                                                                                                                                                                                                                                                                                                                                                                                                                                                                                                                                                                                                                                                                          (object)\n",
       "--------------------------------------------------------------------------------------------------------------------------------------------------------------------------------------------------------------------------------------------------------------------------------------------------------------------------------------------------------------------------------------------------------------------------------------------------------------------------------------------------------------------------------------------------------------------------------------------------------------------------------------------------------------------------------------------------------------------------------------------------------------------------------------------------------------------------------------------------------------------------------------------------------------------------------------------------------------------------------------------------------------------------------------------------------------------------------------------------------------------------------------------------------------------------------------------------------------------------------------------------------------------------------------------------------------------------------------------------------------------------------------------------------------------------------------------------------------------------------------------------------------------------------------------------------------------------------------------------------------------------------------------------------------------------------------------------------------------------------------------------------------------------------------------------------------------------------------------------------------------------------------------------------------------------------------------------------------------------------------------------------------------------------------------------------------------------------------------------------------------------------------------------------------------------------------------------------------------------------------------------------------------------------  -------------------------------------------------------------------------------------------------------------------------------------------------------------------------------------------------------------------------------------------------------------------------------------------------------------------------------------------------------------------------------------------------------------------------------------------------------------------------------------------------------------------------------------------------------------------------------------------------------------------------------------------------------------------------------------------------------------------------------------------------------------------------------------------------------------------------------------------------------------------------------------------------------------------------------------------------------------------------------------------------------------------------------------------------------------------------------------------------------------------------------------------------------------------------------------------------------------------------------------------------------------------------------------------------------------------------------------------------------------------------------------------------------------------------------------------------------------------------------------------------------------------------------------------------------------------------------------------------------------------------------------------------------------------------------------------------------------------------------------------------------------------------------------------------------------------------------------------------------------------------------------------------------------------------------------------------------------------------------------------------------------------------------------------------------------------------------------------------------------------------------------------------------------------------------------------------------------------------------------------------------------------------------------------------------------------------------------------------------------------------------------------------------------------------------------------------------------------------------------------------------------------------------------------------------------------------------------------------------------------------------------------------------------------------------------------------------------------------------------------------------------------------------------------------------------------------------------------------------------------------------------------------------------------------------------------------------------------------------------------------------------------------------------------------------------------------------------------------------------------------------------------------------------------------------------------------------------------------------------------------------------------------------------------------------------------------------------------------------------------------------------------------------------------------------------------------------------------------------------------------------------------------------------------------------------------------------------------------------\n",
       "\"<a>http://google.com</a> <span>Transformers is an American and Japanese media franchise produced by American toy company Hasbro and Japanese toy company Takara Tomy. It follows the battles of sentient, living autonomous robots, often the Autobots and the Decepticons, who can transform into other forms, such as vehicles and animals. The franchise encompasses toys, animation, comic books, video games and films.The franchise began in 1984 with the Transformers toy line, comprising transforming mecha toys from Takara's Diaclone and Microman toylines rebranded for western markets.[1] </span><span>The term 'Generation 1' covers both the animated television series The Transformers and the comic book series of the same name, which are further divided into Japanese, British and Canadian spin-offs, respectively. Sequels followed, such as the Generation 2 comic book and Beast Wars TV series, which became its own mini-universe. Generation 1 characters underwent two reboots with Dreamwave in 2001 and IDW Publishing in 2005, with a third starting in 2019. There have been other incarnations of the story based on different toy lines during and after the 20th century. The first was the Robots in Disguise series, followed by three shows (Armada, Energon, and Cybertron) that constitute a single universe called the 'Unicron Trilogy'.A live-action film series started in 2007, again distinct from previous incarnations, while the Transformers: Animated series merged concepts from the G1 continuity, the 2007 live-action film and the 'Unicron Trilogy'.</span> <span>For most of the 2010s, in an attempt to mitigate the wave of reboots, the 'Aligned' continuity was established. In 2018, Transformers: Cyberverse debuted, once again, distinct from the previous incarnations.Although initially a separate and competing franchise started in 1983, Tonka's Gobots became the intellectual property of Hasbro after their buyout of Tonka in 1991. Subsequently, the universe depicted in the animated series Challenge of the GoBots and follow-up film GoBots: Battle of the Rock Lords was retroactively established as an alternate universe within the Transformers robot superhero storyline.[2]</span>\"  ['``', '<', 'a', '>', 'http', ':', '//google.com', '<', '/a', '>', '<', 'span', '>', 'Transformers', 'is', 'an', 'American', 'and', 'Japanese', 'media', 'franchise', 'produced', 'by', 'American', 'toy', 'company', 'Hasbro', 'and', 'Japanese', 'toy', 'company', 'Takara', 'Tomy', '.', 'It', 'follows', 'the', 'battles', 'of', 'sentient', ',', 'living', 'autonomous', 'robots', ',', 'often', 'the', 'Autobots', 'and', 'the', 'Decepticons', ',', 'who', 'can', 'transform', 'into', 'other', 'forms', ',', 'such', 'as', 'vehicles', 'and', 'animals', '.', 'The', 'franchise', 'encompasses', 'toys', ',', 'animation', ',', 'comic', 'books', ',', 'video', 'games', 'and', 'films.The', 'franchise', 'began', 'in', '1984', 'with', 'the', 'Transformers', 'toy', 'line', ',', 'comprising', 'transforming', 'mecha', 'toys', 'from', 'Takara', \"'s\", 'Diaclone', 'and', 'Microman', 'toylines', 'rebranded', 'for', 'western', 'markets', '.', '[', '1', ']', '<', '/span', '>', '<', 'span', '>', 'The', 'term', \"'Generation\", '1', \"'\", 'covers', 'both', 'the', 'animated', 'television', 'series', 'The', 'Transformers', 'and', 'the', 'comic', 'book', 'series', 'of', 'the', 'same', 'name', ',', 'which', 'are', 'further', 'divided', 'into', 'Japanese', ',', 'British', 'and', 'Canadian', 'spin-offs', ',', 'respectively', '.', 'Sequels', 'followed', ',', 'such', 'as', 'the', 'Generation', '2', 'comic', 'book', 'and', 'Beast', 'Wars', 'TV', 'series', ',', 'which', 'became', 'its', 'own', 'mini-universe', '.', 'Generation', '1', 'characters', 'underwent', 'two', 'reboots', 'with', 'Dreamwave', 'in', '2001', 'and', 'IDW', 'Publishing', 'in', '2005', ',', 'with', 'a', 'third', 'starting', 'in', '2019', '.', 'There', 'have', 'been', 'other', 'incarnations', 'of', 'the', 'story', 'based', 'on', 'different', 'toy', 'lines', 'during', 'and', 'after', 'the', '20th', 'century', '.', 'The', 'first', 'was', 'the', 'Robots', 'in', 'Disguise', 'series', ',', 'followed', 'by', 'three', 'shows', '(', 'Armada', ',', 'Energon', ',', 'and', 'Cybertron', ')', 'that', 'constitute', 'a', 'single', 'universe', 'called', 'the', \"'Unicron\", \"Trilogy'.A\", 'live-action', 'film', 'series', 'started', 'in', '2007', ',', 'again', 'distinct', 'from', 'previous', 'incarnations', ',', 'while', 'the', 'Transformers', ':', 'Animated', 'series', 'merged', 'concepts', 'from', 'the', 'G1', 'continuity', ',', 'the', '2007', 'live-action', 'film', 'and', 'the', \"'Unicron\", \"Trilogy'.\", '<', '/span', '>', '<', 'span', '>', 'For', 'most', 'of', 'the', '2010s', ',', 'in', 'an', 'attempt', 'to', 'mitigate', 'the', 'wave', 'of', 'reboots', ',', 'the', \"'Aligned\", \"'\", 'continuity', 'was', 'established', '.', 'In', '2018', ',', 'Transformers', ':', 'Cyberverse', 'debuted', ',', 'once', 'again', ',', 'distinct', 'from', 'the', 'previous', 'incarnations.Although', 'initially', 'a', 'separate', 'and', 'competing', 'franchise', 'started', 'in', '1983', ',', 'Tonka', \"'s\", 'Gobots', 'became', 'the', 'intellectual', 'property', 'of', 'Hasbro', 'after', 'their', 'buyout', 'of', 'Tonka', 'in', '1991', '.', 'Subsequently', ',', 'the', 'universe', 'depicted', 'in', 'the', 'animated', 'series', 'Challenge', 'of', 'the', 'GoBots', 'and', 'follow-up', 'film', 'GoBots', ':', 'Battle', 'of', 'the', 'Rock', 'Lords', 'was', 'retroactively', 'established', 'as', 'an', 'alternate', 'universe', 'within', 'the', 'Transformers', 'robot', 'superhero', 'storyline', '.', '[', '2', ']', '<', '/span', '>', \"''\"]"
      ]
     },
     "execution_count": 213,
     "metadata": {},
     "output_type": "execute_result"
    }
   ],
   "source": [
    "from collections import Counter\n",
    "\n",
    "def func(values):\n",
    "    return Counter([1,2,1,2])\n",
    "\n",
    "df.cols.word_tokenize(\"text\",\"tokens\")"
   ]
  },
  {
   "cell_type": "code",
   "execution_count": 73,
   "metadata": {},
   "outputs": [
    {
     "name": "stdout",
     "output_type": "stream",
     "text": [
      "Wall time: 11 ms\n"
     ]
    },
    {
     "name": "stderr",
     "output_type": "stream",
     "text": [
      "C:\\Users\\argenisleon\\Anaconda3\\lib\\site-packages\\dask\\dataframe\\core.py:3370: UserWarning: \n",
      "You did not provide metadata, so Dask is running your function on a small dataset to guess output types. It is possible that Dask will guess incorrectly.\n",
      "To provide an explicit output types or to silence this message, please provide the `meta=` keyword, as described in the map or apply function that you are using.\n",
      "  Before: .apply(func)\n",
      "  After:  .apply(func, meta=('text', 'object'))\n",
      "\n",
      "  warnings.warn(meta_warning(meta))\n",
      "C:\\Users\\argenisleon\\Anaconda3\\lib\\site-packages\\dask\\dataframe\\core.py:3370: UserWarning: \n",
      "You did not provide metadata, so Dask is running your function on a small dataset to guess output types. It is possible that Dask will guess incorrectly.\n",
      "To provide an explicit output types or to silence this message, please provide the `meta=` keyword, as described in the map or apply function that you are using.\n",
      "  Before: .apply(func)\n",
      "  After:  .apply(func, meta=('n', 'int64'))\n",
      "\n",
      "  warnings.warn(meta_warning(meta))\n",
      "C:\\Users\\argenisleon\\Anaconda3\\lib\\site-packages\\dask\\dataframe\\core.py:6383: UserWarning: Insufficient elements for `head`. 10 elements requested, only 1 elements available. Try passing larger `npartitions` to `head`.\n",
      "  warnings.warn(msg.format(n, len(r)))\n",
      "C:\\Users\\argenisleon\\Anaconda3\\lib\\site-packages\\dask\\dataframe\\core.py:6383: UserWarning: Insufficient elements for `head`. 10 elements requested, only 1 elements available. Try passing larger `npartitions` to `head`.\n",
      "  warnings.warn(msg.format(n, len(r)))\n"
     ]
    },
    {
     "data": {
      "text/html": [
       "\n",
       "\n",
       "\n",
       "\n",
       "\n",
       "<div class=\"info_items\" style=\"margin: 10px 0; font-family: sans-serif; font-size: 10px;\">Viewing 1 of 1 rows / 2 columns</div>\n",
       "<div class=\"info_items\" style=\"margin: 10px 0; font-family: sans-serif; font-size: 10px;\">1 partition(s) </div>\n",
       "\n",
       "\n",
       "<table class=\"optimus_table\" style=\"font-size: 12px;\">\n",
       "    <thead style=\"border-bottom: 1px solid black;\">\n",
       "    <tr>\n",
       "        \n",
       "        <th style=\"font-family: sans-serif;\">\n",
       "            <div class=\"column_name\" style=\"font-size: 1.2em;\">text</div>\n",
       "            <div class=\"data_type\" style=\"font-size: 0.8em; font-weight: normal;\">1 (object)</div>\n",
       "            <div class=\"data_type\" style=\"font-size: 0.8em; font-weight: normal;\">\n",
       "                \n",
       "                not nullable\n",
       "                \n",
       "            </div>\n",
       "        </th>\n",
       "        \n",
       "        <th style=\"font-family: sans-serif;\">\n",
       "            <div class=\"column_name\" style=\"font-size: 1.2em;\">n</div>\n",
       "            <div class=\"data_type\" style=\"font-size: 0.8em; font-weight: normal;\">2 (int64)</div>\n",
       "            <div class=\"data_type\" style=\"font-size: 0.8em; font-weight: normal;\">\n",
       "                \n",
       "                not nullable\n",
       "                \n",
       "            </div>\n",
       "        </th>\n",
       "        \n",
       "    </tr>\n",
       "\n",
       "    </thead>\n",
       "    <tbody style=\"font-family: monospace; border-bottom: 1px solid #cccccc;\">\n",
       "    \n",
       "    <tr>\n",
       "        \n",
       "        <td style=\"border: 0px;\">\n",
       "            <div style=\"min-height: 14px;\" title=\"\n",
       "http://google.com&#8901;Transformers&#8901;is&#8901;an&#8901;American&#8901;and&#8901;Japanese&#8901;media&#8901;franchise&#8901;produced&#8901;by&#8901;American&#8901;toy&#8901;company&#8901;Hasbro&#8901;and&#8901;Japanese&#8901;toy&#8901;company&#8901;Takara&#8901;Tomy.&#8901;It&#8901;follows&#8901;the&#8901;battles&#8901;of&#8901;sentient,&#8901;living&#8901;autonomous&#8901;robots,&#8901;often&#8901;the&#8901;Autobots&#8901;and&#8901;the&#8901;Decepticons,&#8901;who&#8901;can&#8901;transform&#8901;into&#8901;other&#8901;forms,&#8901;such&#8901;as&#8901;vehicles&#8901;and&#8901;animals.&#8901;The&#8901;franchise&#8901;encompasses&#8901;toys,&#8901;animation,&#8901;comic&#8901;books,&#8901;video&#8901;games&#8901;and&#8901;films.\n",
       "\n",
       "The&#8901;franchise&#8901;began&#8901;in&#8901;1984&#8901;with&#8901;the&#8901;Transformers&#8901;toy&#8901;line,&#8901;comprising&#8901;transforming&#8901;mecha&#8901;toys&#8901;from&#8901;Takara's&#8901;Diaclone&#8901;and&#8901;Microman&#8901;toylines&#8901;rebranded&#8901;for&#8901;western&#8901;markets.[1]&#8901;The&#8901;term&#8901;\"Generation&#8901;1\"&#8901;covers&#8901;both&#8901;the&#8901;animated&#8901;television&#8901;series&#8901;The&#8901;Transformers&#8901;and&#8901;the&#8901;comic&#8901;book&#8901;series&#8901;of&#8901;the&#8901;same&#8901;name,&#8901;which&#8901;are&#8901;further&#8901;divided&#8901;into&#8901;Japanese,&#8901;British&#8901;and&#8901;Canadian&#8901;spin-offs,&#8901;respectively.&#8901;Sequels&#8901;followed,&#8901;such&#8901;as&#8901;the&#8901;Generation&#8901;2&#8901;comic&#8901;book&#8901;and&#8901;Beast&#8901;Wars&#8901;TV&#8901;series,&#8901;which&#8901;became&#8901;its&#8901;own&#8901;mini-universe.&#8901;Generation&#8901;1&#8901;characters&#8901;underwent&#8901;two&#8901;reboots&#8901;with&#8901;Dreamwave&#8901;in&#8901;2001&#8901;and&#8901;IDW&#8901;Publishing&#8901;in&#8901;2005,&#8901;with&#8901;a&#8901;third&#8901;starting&#8901;in&#8901;2019.&#8901;There&#8901;have&#8901;been&#8901;other&#8901;incarnations&#8901;of&#8901;the&#8901;story&#8901;based&#8901;on&#8901;different&#8901;toy&#8901;lines&#8901;during&#8901;and&#8901;after&#8901;the&#8901;20th&#8901;century.&#8901;The&#8901;first&#8901;was&#8901;the&#8901;Robots&#8901;in&#8901;Disguise&#8901;series,&#8901;followed&#8901;by&#8901;three&#8901;shows&#8901;(Armada,&#8901;Energon,&#8901;and&#8901;Cybertron)&#8901;that&#8901;constitute&#8901;a&#8901;single&#8901;universe&#8901;called&#8901;the&#8901;\"Unicron&#8901;Trilogy\".\n",
       "\n",
       "A&#8901;live-action&#8901;film&#8901;series&#8901;started&#8901;in&#8901;2007,&#8901;again&#8901;distinct&#8901;from&#8901;previous&#8901;incarnations,&#8901;while&#8901;the&#8901;Transformers:&#8901;Animated&#8901;series&#8901;merged&#8901;concepts&#8901;from&#8901;the&#8901;G1&#8901;continuity,&#8901;the&#8901;2007&#8901;live-action&#8901;film&#8901;and&#8901;the&#8901;\"Unicron&#8901;Trilogy\".&#8901;For&#8901;most&#8901;of&#8901;the&#8901;2010s,&#8901;in&#8901;an&#8901;attempt&#8901;to&#8901;mitigate&#8901;the&#8901;wave&#8901;of&#8901;reboots,&#8901;the&#8901;\"Aligned\"&#8901;continuity&#8901;was&#8901;established.&#8901;In&#8901;2018,&#8901;Transformers:&#8901;Cyberverse&#8901;debuted,&#8901;once&#8901;again,&#8901;distinct&#8901;from&#8901;the&#8901;previous&#8901;incarnations.\n",
       "\n",
       "Although&#8901;initially&#8901;a&#8901;separate&#8901;and&#8901;competing&#8901;franchise&#8901;started&#8901;in&#8901;1983,&#8901;Tonka's&#8901;Gobots&#8901;became&#8901;the&#8901;intellectual&#8901;property&#8901;of&#8901;Hasbro&#8901;after&#8901;their&#8901;buyout&#8901;of&#8901;Tonka&#8901;in&#8901;1991.&#8901;Subsequently,&#8901;the&#8901;universe&#8901;depicted&#8901;in&#8901;the&#8901;animated&#8901;series&#8901;Challenge&#8901;of&#8901;the&#8901;GoBots&#8901;and&#8901;follow-up&#8901;film&#8901;GoBots:&#8901;Battle&#8901;of&#8901;the&#8901;Rock&#8901;Lords&#8901;was&#8901;retroactively&#8901;established&#8901;as&#8901;an&#8901;alternate&#8901;universe&#8901;within&#8901;the&#8901;Transformers&#8901;robot&#8901;superhero&#8901;storyline.[2]\n",
       "\n",
       "\n",
       "\">\n",
       "                \n",
       "                \n",
       "http://google.com&#8901;Transformers&#8901;is&#8901;an&#8901;American&#8901;and&#8901;Japanese&#8901;media&#8901;franchise&#...\n",
       "                 \n",
       "            </div>\n",
       "        </td>\n",
       "        \n",
       "        <td style=\"border: 0px;\">\n",
       "            <div style=\"min-height: 14px;\" title=\"383\">\n",
       "                \n",
       "                383\n",
       "                 \n",
       "            </div>\n",
       "        </td>\n",
       "        \n",
       "    </tr>\n",
       "    \n",
       "    </tbody>\n",
       "</table>\n",
       "\n",
       "<div class=\"info_items\" style=\"margin: 10px 0; font-family: sans-serif; font-size: 10px;\">Viewing 1 of 1 rows / 2 columns</div>\n",
       "<div class=\"info_items\" style=\"margin: 10px 0; font-family: sans-serif; font-size: 10px;\">1 partition(s) &lt;class &#39;optimus.engines.dask.dataframe.DaskDataFrame&#39;&gt;</div>\n",
       "\n"
      ],
      "text/plain": [
       "text                                                                                                                                                                                                                                                                                                                                                                                                                                                                                                                                                                                                                                                                                                                                                                                                                                                                                                                                                    n\n",
       "(object)                                                                                                                                                                                                                                                                                                                                                                                                                                                                                                                                                                                                                                                                                                                                                                                                                                                                                                                                          (int64)\n",
       "----------------------------------------------------------------------------------------------------------------------------------------------------------------------------------------------------------------------------------------------------------------------------------------------------------------------------------------------------------------------------------------------------------------------------------------------------------------------------------------------------------------------------------------------------------------------------------------------------------------------------------------------------------------------------------------------------------------------------------------------------------------------------------------------------------------------------------------------------------------------------------------------------------------------------------------------  ---------\n",
       "http://google.com Transformers is an American and Japanese media franchise produced by American toy company Hasbro and Japanese toy company Takara Tomy. It follows the battles of sentient, living autonomous robots, often the Autobots and the Decepticons, who can transform into other forms, such as vehicles and animals. The franchise encompasses toys, animation, comic books, video games and films.                                                                                                                                                                                                                                                                                                                                                                                                                                                                                                                                       383\n",
       "\n",
       "The franchise began in 1984 with the Transformers toy line, comprising transforming mecha toys from Takara's Diaclone and Microman toylines rebranded for western markets.[1] The term \"Generation 1\" covers both the animated television series The Transformers and the comic book series of the same name, which are further divided into Japanese, British and Canadian spin-offs, respectively. Sequels followed, such as the Generation 2 comic book and Beast Wars TV series, which became its own mini-universe. Generation 1 characters underwent two reboots with Dreamwave in 2001 and IDW Publishing in 2005, with a third starting in 2019. There have been other incarnations of the story based on different toy lines during and after the 20th century. The first was the Robots in Disguise series, followed by three shows (Armada, Energon, and Cybertron) that constitute a single universe called the \"Unicron Trilogy\".\n",
       "\n",
       "A live-action film series started in 2007, again distinct from previous incarnations, while the Transformers: Animated series merged concepts from the G1 continuity, the 2007 live-action film and the \"Unicron Trilogy\". For most of the 2010s, in an attempt to mitigate the wave of reboots, the \"Aligned\" continuity was established. In 2018, Transformers: Cyberverse debuted, once again, distinct from the previous incarnations.\n",
       "\n",
       "Although initially a separate and competing franchise started in 1983, Tonka's Gobots became the intellectual property of Hasbro after their buyout of Tonka in 1991. Subsequently, the universe depicted in the animated series Challenge of the GoBots and follow-up film GoBots: Battle of the Rock Lords was retroactively established as an alternate universe within the Transformers robot superhero storyline.[2]"
      ]
     },
     "execution_count": 73,
     "metadata": {},
     "output_type": "execute_result"
    }
   ],
   "source": [
    "%%time\n",
    "df.cols.word_count(\"text\",\"n\")"
   ]
  },
  {
   "cell_type": "code",
   "execution_count": 100,
   "metadata": {},
   "outputs": [
    {
     "name": "stderr",
     "output_type": "stream",
     "text": [
      "[nltk_data] Downloading package wordnet to\n",
      "[nltk_data]     C:\\Users\\argenisleon\\AppData\\Roaming\\nltk_data...\n",
      "[nltk_data]   Unzipping corpora\\wordnet.zip.\n"
     ]
    },
    {
     "data": {
      "text/plain": [
       "True"
      ]
     },
     "execution_count": 100,
     "metadata": {},
     "output_type": "execute_result"
    }
   ],
   "source": [
    "nltk.download('wordnet')"
   ]
  },
  {
   "cell_type": "code",
   "execution_count": 118,
   "metadata": {},
   "outputs": [
    {
     "ename": "NameError",
     "evalue": "name 'pd' is not defined",
     "output_type": "error",
     "traceback": [
      "\u001b[1;31m---------------------------------------------------------------------------\u001b[0m",
      "\u001b[1;31mNameError\u001b[0m                                 Traceback (most recent call last)",
      "\u001b[1;32m<ipython-input-118-14dbe8868cdb>\u001b[0m in \u001b[0;36m<module>\u001b[1;34m\u001b[0m\n\u001b[0;32m      2\u001b[0m     \u001b[1;32mreturn\u001b[0m \u001b[1;33m[\u001b[0m\u001b[0mlemmatizer\u001b[0m\u001b[1;33m.\u001b[0m\u001b[0mlemmatize\u001b[0m\u001b[1;33m(\u001b[0m\u001b[0mw\u001b[0m\u001b[1;33m)\u001b[0m \u001b[1;32mfor\u001b[0m \u001b[0mw\u001b[0m \u001b[1;32min\u001b[0m \u001b[0mw_tokenizer\u001b[0m\u001b[1;33m.\u001b[0m\u001b[0mtokenize\u001b[0m\u001b[1;33m(\u001b[0m\u001b[0mtext\u001b[0m\u001b[1;33m)\u001b[0m\u001b[1;33m]\u001b[0m\u001b[1;33m\u001b[0m\u001b[1;33m\u001b[0m\u001b[0m\n\u001b[0;32m      3\u001b[0m \u001b[1;33m\u001b[0m\u001b[0m\n\u001b[1;32m----> 4\u001b[1;33m \u001b[0mdf\u001b[0m \u001b[1;33m=\u001b[0m \u001b[0mpd\u001b[0m\u001b[1;33m.\u001b[0m\u001b[0mDataFrame\u001b[0m\u001b[1;33m(\u001b[0m\u001b[1;33m[\u001b[0m\u001b[1;34m'this was cheesy'\u001b[0m\u001b[1;33m,\u001b[0m \u001b[1;34m'she likes these books'\u001b[0m\u001b[1;33m,\u001b[0m \u001b[1;34m'wow this is great'\u001b[0m\u001b[1;33m]\u001b[0m\u001b[1;33m,\u001b[0m \u001b[0mcolumns\u001b[0m\u001b[1;33m=\u001b[0m\u001b[1;33m[\u001b[0m\u001b[1;34m'text'\u001b[0m\u001b[1;33m]\u001b[0m\u001b[1;33m)\u001b[0m\u001b[1;33m\u001b[0m\u001b[1;33m\u001b[0m\u001b[0m\n\u001b[0m\u001b[0;32m      5\u001b[0m \u001b[0mdf\u001b[0m\u001b[1;33m[\u001b[0m\u001b[1;34m'text_lemmatized'\u001b[0m\u001b[1;33m]\u001b[0m \u001b[1;33m=\u001b[0m \u001b[0mdf\u001b[0m\u001b[1;33m.\u001b[0m\u001b[0mtext\u001b[0m\u001b[1;33m.\u001b[0m\u001b[0mapply\u001b[0m\u001b[1;33m(\u001b[0m\u001b[0mlemmatize_text\u001b[0m\u001b[1;33m)\u001b[0m\u001b[1;33m\u001b[0m\u001b[1;33m\u001b[0m\u001b[0m\n",
      "\u001b[1;31mNameError\u001b[0m: name 'pd' is not defined"
     ]
    }
   ],
   "source": [
    "\n",
    "def lemmatize_text(text):\n",
    "    return [lemmatizer.lemmatize(w) for w in w_tokenizer.tokenize(text)]\n",
    "\n",
    "df = pd.DataFrame(['this was cheesy', 'she likes these books', 'wow this is great'], columns=['text'])\n",
    "df['text_lemmatized'] = df.text.apply(lemmatize_text)"
   ]
  },
  {
   "cell_type": "code",
   "execution_count": 134,
   "metadata": {},
   "outputs": [
    {
     "name": "stdout",
     "output_type": "stream",
     "text": [
      "kw_column Dask Series Structure:\n",
      "npartitions=1\n",
      "0    object\n",
      "0       ...\n",
      "Name: text, dtype: object\n",
      "Dask Name: apply, 3 tasks\n"
     ]
    },
    {
     "name": "stderr",
     "output_type": "stream",
     "text": [
      "C:\\Users\\argenisleon\\Anaconda3\\lib\\site-packages\\dask\\dataframe\\core.py:3370: UserWarning: \n",
      "You did not provide metadata, so Dask is running your function on a small dataset to guess output types. It is possible that Dask will guess incorrectly.\n",
      "To provide an explicit output types or to silence this message, please provide the `meta=` keyword, as described in the map or apply function that you are using.\n",
      "  Before: .apply(func)\n",
      "  After:  .apply(func, meta=('text', 'object'))\n",
      "\n",
      "  warnings.warn(meta_warning(meta))\n",
      "C:\\Users\\argenisleon\\Anaconda3\\lib\\site-packages\\dask\\dataframe\\core.py:6383: UserWarning: Insufficient elements for `head`. 10 elements requested, only 1 elements available. Try passing larger `npartitions` to `head`.\n",
      "  warnings.warn(msg.format(n, len(r)))\n",
      "C:\\Users\\argenisleon\\Anaconda3\\lib\\site-packages\\dask\\dataframe\\core.py:6383: UserWarning: Insufficient elements for `head`. 10 elements requested, only 1 elements available. Try passing larger `npartitions` to `head`.\n",
      "  warnings.warn(msg.format(n, len(r)))\n"
     ]
    },
    {
     "data": {
      "text/html": [
       "\n",
       "\n",
       "\n",
       "\n",
       "\n",
       "<div class=\"info_items\" style=\"margin: 10px 0; font-family: sans-serif; font-size: 10px;\">Viewing 1 of 1 rows / 1 columns</div>\n",
       "<div class=\"info_items\" style=\"margin: 10px 0; font-family: sans-serif; font-size: 10px;\">1 partition(s) </div>\n",
       "\n",
       "\n",
       "<table class=\"optimus_table\" style=\"font-size: 12px;\">\n",
       "    <thead style=\"border-bottom: 1px solid black;\">\n",
       "    <tr>\n",
       "        \n",
       "        <th style=\"font-family: sans-serif;\">\n",
       "            <div class=\"column_name\" style=\"font-size: 1.2em;\">text</div>\n",
       "            <div class=\"data_type\" style=\"font-size: 0.8em; font-weight: normal;\">1 (object)</div>\n",
       "            <div class=\"data_type\" style=\"font-size: 0.8em; font-weight: normal;\">\n",
       "                \n",
       "                not nullable\n",
       "                \n",
       "            </div>\n",
       "        </th>\n",
       "        \n",
       "    </tr>\n",
       "\n",
       "    </thead>\n",
       "    <tbody style=\"font-family: monospace; border-bottom: 1px solid #cccccc;\">\n",
       "    \n",
       "    <tr>\n",
       "        \n",
       "        <td style=\"border: 0px;\">\n",
       "            <div style=\"min-height: 14px;\" title=\"['http',&#8901;':',&#8901;'//google.com',&#8901;'transform',&#8901;'is',&#8901;'an',&#8901;'american',&#8901;'and',&#8901;'japanes',&#8901;'media',&#8901;'franchis',&#8901;'produc',&#8901;'by',&#8901;'american',&#8901;'toy',&#8901;'compani',&#8901;'hasbro',&#8901;'and',&#8901;'japanes',&#8901;'toy',&#8901;'compani',&#8901;'takara',&#8901;'tomi',&#8901;'.',&#8901;'It',&#8901;'follow',&#8901;'the',&#8901;'battl',&#8901;'of',&#8901;'sentient',&#8901;',',&#8901;'live',&#8901;'autonom',&#8901;'robot',&#8901;',',&#8901;'often',&#8901;'the',&#8901;'autobot',&#8901;'and',&#8901;'the',&#8901;'decepticon',&#8901;',',&#8901;'who',&#8901;'can',&#8901;'transform',&#8901;'into',&#8901;'other',&#8901;'form',&#8901;',',&#8901;'such',&#8901;'as',&#8901;'vehicl',&#8901;'and',&#8901;'anim',&#8901;'.',&#8901;'the',&#8901;'franchis',&#8901;'encompass',&#8901;'toy',&#8901;',',&#8901;'anim',&#8901;',',&#8901;'comic',&#8901;'book',&#8901;',',&#8901;'video',&#8901;'game',&#8901;'and',&#8901;'film',&#8901;'.',&#8901;'the',&#8901;'franchis',&#8901;'began',&#8901;'in',&#8901;'1984',&#8901;'with',&#8901;'the',&#8901;'transform',&#8901;'toy',&#8901;'line',&#8901;',',&#8901;'compris',&#8901;'transform',&#8901;'mecha',&#8901;'toy',&#8901;'from',&#8901;'takara',&#8901;\"'s\",&#8901;'diaclon',&#8901;'and',&#8901;'microman',&#8901;'toylin',&#8901;'rebrand',&#8901;'for',&#8901;'western',&#8901;'market',&#8901;'.',&#8901;'[',&#8901;'1',&#8901;']',&#8901;'the',&#8901;'term',&#8901;'``',&#8901;'gener',&#8901;'1',&#8901;\"''\",&#8901;'cover',&#8901;'both',&#8901;'the',&#8901;'anim',&#8901;'televis',&#8901;'seri',&#8901;'the',&#8901;'transform',&#8901;'and',&#8901;'the',&#8901;'comic',&#8901;'book',&#8901;'seri',&#8901;'of',&#8901;'the',&#8901;'same',&#8901;'name',&#8901;',',&#8901;'which',&#8901;'are',&#8901;'further',&#8901;'divid',&#8901;'into',&#8901;'japanes',&#8901;',',&#8901;'british',&#8901;'and',&#8901;'canadian',&#8901;'spin-off',&#8901;',',&#8901;'respect',&#8901;'.',&#8901;'sequel',&#8901;'follow',&#8901;',',&#8901;'such',&#8901;'as',&#8901;'the',&#8901;'gener',&#8901;'2',&#8901;'comic',&#8901;'book',&#8901;'and',&#8901;'beast',&#8901;'war',&#8901;'TV',&#8901;'seri',&#8901;',',&#8901;'which',&#8901;'becam',&#8901;'it',&#8901;'own',&#8901;'mini-univers',&#8901;'.',&#8901;'gener',&#8901;'1',&#8901;'charact',&#8901;'underw',&#8901;'two',&#8901;'reboot',&#8901;'with',&#8901;'dreamwav',&#8901;'in',&#8901;'2001',&#8901;'and',&#8901;'idw',&#8901;'publish',&#8901;'in',&#8901;'2005',&#8901;',',&#8901;'with',&#8901;'a',&#8901;'third',&#8901;'start',&#8901;'in',&#8901;'2019',&#8901;'.',&#8901;'there',&#8901;'have',&#8901;'been',&#8901;'other',&#8901;'incarn',&#8901;'of',&#8901;'the',&#8901;'stori',&#8901;'base',&#8901;'on',&#8901;'differ',&#8901;'toy',&#8901;'line',&#8901;'dure',&#8901;'and',&#8901;'after',&#8901;'the',&#8901;'20th',&#8901;'centuri',&#8901;'.',&#8901;'the',&#8901;'first',&#8901;'wa',&#8901;'the',&#8901;'robot',&#8901;'in',&#8901;'disguis',&#8901;'seri',&#8901;',',&#8901;'follow',&#8901;'by',&#8901;'three',&#8901;'show',&#8901;'(',&#8901;'armada',&#8901;',',&#8901;'energon',&#8901;',',&#8901;'and',&#8901;'cybertron',&#8901;')',&#8901;'that',&#8901;'constitut',&#8901;'a',&#8901;'singl',&#8901;'univers',&#8901;'call',&#8901;'the',&#8901;'``',&#8901;'unicron',&#8901;'trilog',&#8901;\"''\",&#8901;'.',&#8901;'A',&#8901;'live-act',&#8901;'film',&#8901;'seri',&#8901;'start',&#8901;'in',&#8901;'2007',&#8901;',',&#8901;'again',&#8901;'distinct',&#8901;'from',&#8901;'previou',&#8901;'incarn',&#8901;',',&#8901;'while',&#8901;'the',&#8901;'transform',&#8901;':',&#8901;'anim',&#8901;'seri',&#8901;'merg',&#8901;'concept',&#8901;'from',&#8901;'the',&#8901;'G1',&#8901;'continu',&#8901;',',&#8901;'the',&#8901;'2007',&#8901;'live-act',&#8901;'film',&#8901;'and',&#8901;'the',&#8901;'``',&#8901;'unicron',&#8901;'trilog',&#8901;\"''\",&#8901;'.',&#8901;'for',&#8901;'most',&#8901;'of',&#8901;'the',&#8901;'2010',&#8901;',',&#8901;'in',&#8901;'an',&#8901;'attempt',&#8901;'to',&#8901;'mitig',&#8901;'the',&#8901;'wave',&#8901;'of',&#8901;'reboot',&#8901;',',&#8901;'the',&#8901;'``',&#8901;'align',&#8901;\"''\",&#8901;'continu',&#8901;'wa',&#8901;'establish',&#8901;'.',&#8901;'In',&#8901;'2018',&#8901;',',&#8901;'transform',&#8901;':',&#8901;'cybervers',&#8901;'debut',&#8901;',',&#8901;'onc',&#8901;'again',&#8901;',',&#8901;'distinct',&#8901;'from',&#8901;'the',&#8901;'previou',&#8901;'incarn',&#8901;'.',&#8901;'although',&#8901;'initi',&#8901;'a',&#8901;'separ',&#8901;'and',&#8901;'compet',&#8901;'franchis',&#8901;'start',&#8901;'in',&#8901;'1983',&#8901;',',&#8901;'tonka',&#8901;\"'s\",&#8901;'gobot',&#8901;'becam',&#8901;'the',&#8901;'intellectu',&#8901;'properti',&#8901;'of',&#8901;'hasbro',&#8901;'after',&#8901;'their',&#8901;'buyout',&#8901;'of',&#8901;'tonka',&#8901;'in',&#8901;'1991',&#8901;'.',&#8901;'subsequ',&#8901;',',&#8901;'the',&#8901;'univers',&#8901;'depict',&#8901;'in',&#8901;'the',&#8901;'anim',&#8901;'seri',&#8901;'challeng',&#8901;'of',&#8901;'the',&#8901;'gobot',&#8901;'and',&#8901;'follow-up',&#8901;'film',&#8901;'gobot',&#8901;':',&#8901;'battl',&#8901;'of',&#8901;'the',&#8901;'rock',&#8901;'lord',&#8901;'wa',&#8901;'retroact',&#8901;'establish',&#8901;'as',&#8901;'an',&#8901;'altern',&#8901;'univers',&#8901;'within',&#8901;'the',&#8901;'transform',&#8901;'robot',&#8901;'superhero',&#8901;'storylin',&#8901;'.',&#8901;'[',&#8901;'2',&#8901;']']\">\n",
       "                \n",
       "                ['http',&#8901;':',&#8901;'//google.com',&#8901;'transform',&#8901;'is',&#8901;'an',&#8901;'american',&#8901;'and',&#8901;'ja...\n",
       "                 \n",
       "            </div>\n",
       "        </td>\n",
       "        \n",
       "    </tr>\n",
       "    \n",
       "    </tbody>\n",
       "</table>\n",
       "\n",
       "<div class=\"info_items\" style=\"margin: 10px 0; font-family: sans-serif; font-size: 10px;\">Viewing 1 of 1 rows / 1 columns</div>\n",
       "<div class=\"info_items\" style=\"margin: 10px 0; font-family: sans-serif; font-size: 10px;\">1 partition(s) &lt;class &#39;optimus.engines.dask.dataframe.DaskDataFrame&#39;&gt;</div>\n",
       "\n"
      ],
      "text/plain": [
       "text\n",
       "(object)\n",
       "------------------------------------------------------------------------------------------------------------------------------------------------------------------------------------------------------------------------------------------------------------------------------------------------------------------------------------------------------------------------------------------------------------------------------------------------------------------------------------------------------------------------------------------------------------------------------------------------------------------------------------------------------------------------------------------------------------------------------------------------------------------------------------------------------------------------------------------------------------------------------------------------------------------------------------------------------------------------------------------------------------------------------------------------------------------------------------------------------------------------------------------------------------------------------------------------------------------------------------------------------------------------------------------------------------------------------------------------------------------------------------------------------------------------------------------------------------------------------------------------------------------------------------------------------------------------------------------------------------------------------------------------------------------------------------------------------------------------------------------------------------------------------------------------------------------------------------------------------------------------------------------------------------------------------------------------------------------------------------------------------------------------------------------------------------------------------------------------------------------------------------------------------------------------------------------------------------------------------------------------------------------------------------------------------------------------------------------------------------------------------------------------------------------------------------------------------------------------------------------------------------------------------------------------------------------------------------------------------------------------------------------------------------------------------------------------------------------------------------------------------------------------------------------------------------------------------------------------------------------------------------------------------------------------------------------------------------------------------------------------------------------------------------------------------------------------------------------------------------------------------------------------------------------------------------------------------------------------------------------\n",
       "['http', ':', '//google.com', 'transform', 'is', 'an', 'american', 'and', 'japanes', 'media', 'franchis', 'produc', 'by', 'american', 'toy', 'compani', 'hasbro', 'and', 'japanes', 'toy', 'compani', 'takara', 'tomi', '.', 'It', 'follow', 'the', 'battl', 'of', 'sentient', ',', 'live', 'autonom', 'robot', ',', 'often', 'the', 'autobot', 'and', 'the', 'decepticon', ',', 'who', 'can', 'transform', 'into', 'other', 'form', ',', 'such', 'as', 'vehicl', 'and', 'anim', '.', 'the', 'franchis', 'encompass', 'toy', ',', 'anim', ',', 'comic', 'book', ',', 'video', 'game', 'and', 'film', '.', 'the', 'franchis', 'began', 'in', '1984', 'with', 'the', 'transform', 'toy', 'line', ',', 'compris', 'transform', 'mecha', 'toy', 'from', 'takara', \"'s\", 'diaclon', 'and', 'microman', 'toylin', 'rebrand', 'for', 'western', 'market', '.', '[', '1', ']', 'the', 'term', '``', 'gener', '1', \"''\", 'cover', 'both', 'the', 'anim', 'televis', 'seri', 'the', 'transform', 'and', 'the', 'comic', 'book', 'seri', 'of', 'the', 'same', 'name', ',', 'which', 'are', 'further', 'divid', 'into', 'japanes', ',', 'british', 'and', 'canadian', 'spin-off', ',', 'respect', '.', 'sequel', 'follow', ',', 'such', 'as', 'the', 'gener', '2', 'comic', 'book', 'and', 'beast', 'war', 'TV', 'seri', ',', 'which', 'becam', 'it', 'own', 'mini-univers', '.', 'gener', '1', 'charact', 'underw', 'two', 'reboot', 'with', 'dreamwav', 'in', '2001', 'and', 'idw', 'publish', 'in', '2005', ',', 'with', 'a', 'third', 'start', 'in', '2019', '.', 'there', 'have', 'been', 'other', 'incarn', 'of', 'the', 'stori', 'base', 'on', 'differ', 'toy', 'line', 'dure', 'and', 'after', 'the', '20th', 'centuri', '.', 'the', 'first', 'wa', 'the', 'robot', 'in', 'disguis', 'seri', ',', 'follow', 'by', 'three', 'show', '(', 'armada', ',', 'energon', ',', 'and', 'cybertron', ')', 'that', 'constitut', 'a', 'singl', 'univers', 'call', 'the', '``', 'unicron', 'trilog', \"''\", '.', 'A', 'live-act', 'film', 'seri', 'start', 'in', '2007', ',', 'again', 'distinct', 'from', 'previou', 'incarn', ',', 'while', 'the', 'transform', ':', 'anim', 'seri', 'merg', 'concept', 'from', 'the', 'G1', 'continu', ',', 'the', '2007', 'live-act', 'film', 'and', 'the', '``', 'unicron', 'trilog', \"''\", '.', 'for', 'most', 'of', 'the', '2010', ',', 'in', 'an', 'attempt', 'to', 'mitig', 'the', 'wave', 'of', 'reboot', ',', 'the', '``', 'align', \"''\", 'continu', 'wa', 'establish', '.', 'In', '2018', ',', 'transform', ':', 'cybervers', 'debut', ',', 'onc', 'again', ',', 'distinct', 'from', 'the', 'previou', 'incarn', '.', 'although', 'initi', 'a', 'separ', 'and', 'compet', 'franchis', 'start', 'in', '1983', ',', 'tonka', \"'s\", 'gobot', 'becam', 'the', 'intellectu', 'properti', 'of', 'hasbro', 'after', 'their', 'buyout', 'of', 'tonka', 'in', '1991', '.', 'subsequ', ',', 'the', 'univers', 'depict', 'in', 'the', 'anim', 'seri', 'challeng', 'of', 'the', 'gobot', 'and', 'follow-up', 'film', 'gobot', ':', 'battl', 'of', 'the', 'rock', 'lord', 'wa', 'retroact', 'establish', 'as', 'an', 'altern', 'univers', 'within', 'the', 'transform', 'robot', 'superhero', 'storylin', '.', '[', '2', ']']"
      ]
     },
     "execution_count": 134,
     "metadata": {},
     "output_type": "execute_result"
    },
    {
     "name": "stderr",
     "output_type": "stream",
     "text": [
      "distributed.comm.inproc - WARNING - Closing dangling queue in <InProc  local=inproc://192.168.100.4/29488/1 remote=inproc://192.168.100.4/29488/9>\n"
     ]
    }
   ],
   "source": [
    "from nltk.stem import PorterStemmer\n",
    "stemming = PorterStemmer()\n",
    "\n",
    "def stemmer1(value):    \n",
    "    return [stemming.stem(word) for word in nltk.word_tokenize(value)]\n",
    "\n",
    "df.cols.apply(\"text\", stemmer1, mode=\"map\")"
   ]
  },
  {
   "cell_type": "markdown",
   "metadata": {},
   "source": [
    "https://towardsdatascience.com/tf-idf-for-document-ranking-from-scratch-in-python-on-real-world-dataset-796d339a4089\n",
    "\n",
    "https://medium.com/rapids-ai/gpu-text-processing-now-even-simpler-and-faster-bde7e42c8c8a\n",
    "\n",
    "https://towardsdatascience.com/introduction-to-nlp-part-1-preprocessing-text-in-python-8f007d44ca96\n",
    "\n",
    "https://medium.com/rapids-ai/gpu-text-processing-now-even-simpler-and-faster-bde7e42c8c8a\n",
    "\n",
    "https://monkeylearn.com/blog/what-is-tf-idf/\n"
   ]
  },
  {
   "cell_type": "code",
   "execution_count": 138,
   "metadata": {},
   "outputs": [
    {
     "name": "stderr",
     "output_type": "stream",
     "text": [
      "[nltk_data] Downloading package wordnet to\n",
      "[nltk_data]     C:\\Users\\argenisleon\\AppData\\Roaming\\nltk_data...\n",
      "[nltk_data]   Package wordnet is already up-to-date!\n",
      "[nltk_data] Downloading package stopwords to\n",
      "[nltk_data]     C:\\Users\\argenisleon\\AppData\\Roaming\\nltk_data...\n",
      "[nltk_data]   Package stopwords is already up-to-date!\n",
      "C:\\Users\\argenisleon\\Anaconda3\\lib\\site-packages\\dask\\dataframe\\core.py:6383: UserWarning: Insufficient elements for `head`. 10 elements requested, only 4 elements available. Try passing larger `npartitions` to `head`.\n",
      "  warnings.warn(msg.format(n, len(r)))\n"
     ]
    },
    {
     "data": {
      "text/html": [
       "\n",
       "\n",
       "\n",
       "\n",
       "\n",
       "<div class=\"info_items\" style=\"margin: 10px 0; font-family: sans-serif; font-size: 10px;\">Viewing 4 of 4 rows / 4 columns</div>\n",
       "<div class=\"info_items\" style=\"margin: 10px 0; font-family: sans-serif; font-size: 10px;\">1 partition(s) </div>\n",
       "\n",
       "\n",
       "<table class=\"optimus_table\" style=\"font-size: 12px;\">\n",
       "    <thead style=\"border-bottom: 1px solid black;\">\n",
       "    <tr>\n",
       "        \n",
       "        <th style=\"font-family: sans-serif;\">\n",
       "            <div class=\"column_name\" style=\"font-size: 1.2em;\">A</div>\n",
       "            <div class=\"data_type\" style=\"font-size: 0.8em; font-weight: normal;\">1 (object)</div>\n",
       "            <div class=\"data_type\" style=\"font-size: 0.8em; font-weight: normal;\">\n",
       "                \n",
       "                not nullable\n",
       "                \n",
       "            </div>\n",
       "        </th>\n",
       "        \n",
       "        <th style=\"font-family: sans-serif;\">\n",
       "            <div class=\"column_name\" style=\"font-size: 1.2em;\">B</div>\n",
       "            <div class=\"data_type\" style=\"font-size: 0.8em; font-weight: normal;\">2 (int64)</div>\n",
       "            <div class=\"data_type\" style=\"font-size: 0.8em; font-weight: normal;\">\n",
       "                \n",
       "                not nullable\n",
       "                \n",
       "            </div>\n",
       "        </th>\n",
       "        \n",
       "        <th style=\"font-family: sans-serif;\">\n",
       "            <div class=\"column_name\" style=\"font-size: 1.2em;\">C</div>\n",
       "            <div class=\"data_type\" style=\"font-size: 0.8em; font-weight: normal;\">3 (float64)</div>\n",
       "            <div class=\"data_type\" style=\"font-size: 0.8em; font-weight: normal;\">\n",
       "                \n",
       "                not nullable\n",
       "                \n",
       "            </div>\n",
       "        </th>\n",
       "        \n",
       "        <th style=\"font-family: sans-serif;\">\n",
       "            <div class=\"column_name\" style=\"font-size: 1.2em;\">D</div>\n",
       "            <div class=\"data_type\" style=\"font-size: 0.8em; font-weight: normal;\">4 (object)</div>\n",
       "            <div class=\"data_type\" style=\"font-size: 0.8em; font-weight: normal;\">\n",
       "                \n",
       "                not nullable\n",
       "                \n",
       "            </div>\n",
       "        </th>\n",
       "        \n",
       "    </tr>\n",
       "\n",
       "    </thead>\n",
       "    <tbody style=\"font-family: monospace; border-bottom: 1px solid #cccccc;\">\n",
       "    \n",
       "    <tr>\n",
       "        \n",
       "        <td style=\"border: 0px;\">\n",
       "            <div style=\"min-height: 14px;\" title=\"a\">\n",
       "                \n",
       "                a\n",
       "                 \n",
       "            </div>\n",
       "        </td>\n",
       "        \n",
       "        <td style=\"border: 0px;\">\n",
       "            <div style=\"min-height: 14px;\" title=\"1\">\n",
       "                \n",
       "                1\n",
       "                 \n",
       "            </div>\n",
       "        </td>\n",
       "        \n",
       "        <td style=\"border: 0px;\">\n",
       "            <div style=\"min-height: 14px;\" title=\"2.0\">\n",
       "                \n",
       "                2.0\n",
       "                 \n",
       "            </div>\n",
       "        </td>\n",
       "        \n",
       "        <td style=\"border: 0px;\">\n",
       "            <div style=\"min-height: 14px;\" title=\"1980/04/10\">\n",
       "                \n",
       "                1980/04/10\n",
       "                 \n",
       "            </div>\n",
       "        </td>\n",
       "        \n",
       "    </tr>\n",
       "    \n",
       "    <tr>\n",
       "        \n",
       "        <td style=\"border: 0px;\">\n",
       "            <div style=\"min-height: 14px;\" title=\"b\">\n",
       "                \n",
       "                b\n",
       "                 \n",
       "            </div>\n",
       "        </td>\n",
       "        \n",
       "        <td style=\"border: 0px;\">\n",
       "            <div style=\"min-height: 14px;\" title=\"3\">\n",
       "                \n",
       "                3\n",
       "                 \n",
       "            </div>\n",
       "        </td>\n",
       "        \n",
       "        <td style=\"border: 0px;\">\n",
       "            <div style=\"min-height: 14px;\" title=\"4.0\">\n",
       "                \n",
       "                4.0\n",
       "                 \n",
       "            </div>\n",
       "        </td>\n",
       "        \n",
       "        <td style=\"border: 0px;\">\n",
       "            <div style=\"min-height: 14px;\" title=\"1980/04/10\">\n",
       "                \n",
       "                1980/04/10\n",
       "                 \n",
       "            </div>\n",
       "        </td>\n",
       "        \n",
       "    </tr>\n",
       "    \n",
       "    <tr>\n",
       "        \n",
       "        <td style=\"border: 0px;\">\n",
       "            <div style=\"min-height: 14px;\" title=\"c\">\n",
       "                \n",
       "                c\n",
       "                 \n",
       "            </div>\n",
       "        </td>\n",
       "        \n",
       "        <td style=\"border: 0px;\">\n",
       "            <div style=\"min-height: 14px;\" title=\"5\">\n",
       "                \n",
       "                5\n",
       "                 \n",
       "            </div>\n",
       "        </td>\n",
       "        \n",
       "        <td style=\"border: 0px;\">\n",
       "            <div style=\"min-height: 14px;\" title=\"6.0\">\n",
       "                \n",
       "                6.0\n",
       "                 \n",
       "            </div>\n",
       "        </td>\n",
       "        \n",
       "        <td style=\"border: 0px;\">\n",
       "            <div style=\"min-height: 14px;\" title=\"1980/04/10\">\n",
       "                \n",
       "                1980/04/10\n",
       "                 \n",
       "            </div>\n",
       "        </td>\n",
       "        \n",
       "    </tr>\n",
       "    \n",
       "    <tr>\n",
       "        \n",
       "        <td style=\"border: 0px;\">\n",
       "            <div style=\"min-height: 14px;\" title=\"d\">\n",
       "                \n",
       "                d\n",
       "                 \n",
       "            </div>\n",
       "        </td>\n",
       "        \n",
       "        <td style=\"border: 0px;\">\n",
       "            <div style=\"min-height: 14px;\" title=\"7\">\n",
       "                \n",
       "                7\n",
       "                 \n",
       "            </div>\n",
       "        </td>\n",
       "        \n",
       "        <td style=\"border: 0px;\">\n",
       "            <div style=\"min-height: 14px;\" title=\"nan\">\n",
       "                \n",
       "                nan\n",
       "                 \n",
       "            </div>\n",
       "        </td>\n",
       "        \n",
       "        <td style=\"border: 0px;\">\n",
       "            <div style=\"min-height: 14px;\" title=\"1980/04/10\">\n",
       "                \n",
       "                1980/04/10\n",
       "                 \n",
       "            </div>\n",
       "        </td>\n",
       "        \n",
       "    </tr>\n",
       "    \n",
       "    </tbody>\n",
       "</table>\n",
       "\n",
       "<div class=\"info_items\" style=\"margin: 10px 0; font-family: sans-serif; font-size: 10px;\">Viewing 4 of 4 rows / 4 columns</div>\n",
       "<div class=\"info_items\" style=\"margin: 10px 0; font-family: sans-serif; font-size: 10px;\">1 partition(s) &lt;class &#39;optimus.engines.dask.dataframe.DaskDataFrame&#39;&gt;</div>\n",
       "\n"
      ],
      "text/plain": [
       "<IPython.core.display.HTML object>"
      ]
     },
     "metadata": {},
     "output_type": "display_data"
    }
   ],
   "source": [
    "from optimus import Optimus\n",
    "op = Optimus()\n",
    "import pandas as pd\n",
    "pdf = pd.DataFrame({'A': {0: 'a', 1: 'b', 2: 'c',3:'d'},\n",
    "                    'B': {0: 1, 1: 3, 2: 5,3:7},\n",
    "                       'C': {0: 2, 1: 4, 2: 6,3:None},\n",
    "                       'D': {0:'1980/04/10',1:'1980/04/10',2:'1980/04/10',3:'1980/04/10'},\n",
    "                       })\n",
    "\n",
    "s_pdf = op.create.dataframe(pdf)\n",
    "s_pdf.display()"
   ]
  },
  {
   "cell_type": "code",
   "execution_count": 3,
   "metadata": {},
   "outputs": [
    {
     "ename": "NameError",
     "evalue": "name 'op' is not defined",
     "output_type": "error",
     "traceback": [
      "\u001b[1;31m---------------------------------------------------------------------------\u001b[0m",
      "\u001b[1;31mNameError\u001b[0m                                 Traceback (most recent call last)",
      "\u001b[1;32m<ipython-input-3-7e9f290eef00>\u001b[0m in \u001b[0;36m<module>\u001b[1;34m\u001b[0m\n\u001b[1;32m----> 1\u001b[1;33m \u001b[0mdf\u001b[0m \u001b[1;33m=\u001b[0m \u001b[0mop\u001b[0m\u001b[1;33m.\u001b[0m\u001b[0mcreate\u001b[0m\u001b[1;33m.\u001b[0m\u001b[0mdataframe\u001b[0m\u001b[1;33m(\u001b[0m\u001b[1;33m{\u001b[0m\u001b[1;34m\"email\"\u001b[0m\u001b[1;33m:\u001b[0m\u001b[1;33m[\u001b[0m\u001b[1;34m\"joaquin12@enterprise.com\"\u001b[0m\u001b[1;33m,\u001b[0m\u001b[1;34m\"howard_10@mailmail.net\"\u001b[0m\u001b[1;33m,\u001b[0m\u001b[1;34m\"melia.26@hi-bumblebee.com\"\u001b[0m\u001b[1;33m,\u001b[0m\u001b[1;34m\"a4ngelo@oasis.es\"\u001b[0m\u001b[1;33m,\u001b[0m\u001b[1;34m\"star__18@lorem.org\"\u001b[0m\u001b[1;33m,\u001b[0m\u001b[1;34m\"beatriz051@linealsecurity.org\"\u001b[0m\u001b[1;33m]\u001b[0m\u001b[1;33m}\u001b[0m\u001b[1;33m)\u001b[0m\u001b[1;33m\u001b[0m\u001b[1;33m\u001b[0m\u001b[0m\n\u001b[0m\u001b[0;32m      2\u001b[0m \u001b[0mdf\u001b[0m \u001b[1;33m=\u001b[0m \u001b[0mdf\u001b[0m\u001b[1;33m.\u001b[0m\u001b[0mrepartition\u001b[0m\u001b[1;33m(\u001b[0m\u001b[1;34m\"auto\"\u001b[0m\u001b[1;33m)\u001b[0m\u001b[1;33m.\u001b[0m\u001b[0mexecute\u001b[0m\u001b[1;33m(\u001b[0m\u001b[1;33m)\u001b[0m\u001b[1;33m\u001b[0m\u001b[1;33m\u001b[0m\u001b[0m\n\u001b[0;32m      3\u001b[0m \u001b[0mdf\u001b[0m \u001b[1;33m=\u001b[0m \u001b[0mdf\u001b[0m\u001b[1;33m.\u001b[0m\u001b[0mcols\u001b[0m\u001b[1;33m.\u001b[0m\u001b[0memail_domain\u001b[0m\u001b[1;33m(\u001b[0m\u001b[1;33m[\u001b[0m\u001b[1;34m\"email\"\u001b[0m\u001b[1;33m]\u001b[0m\u001b[1;33m,\u001b[0m \u001b[0moutput_cols\u001b[0m\u001b[1;33m=\u001b[0m\u001b[1;34m\"email\"\u001b[0m\u001b[1;33m)\u001b[0m\u001b[1;33m\u001b[0m\u001b[1;33m\u001b[0m\u001b[0m\n\u001b[0;32m      4\u001b[0m \u001b[0mdf\u001b[0m\u001b[1;33m\u001b[0m\u001b[1;33m\u001b[0m\u001b[0m\n",
      "\u001b[1;31mNameError\u001b[0m: name 'op' is not defined"
     ]
    }
   ],
   "source": []
  }
 ],
 "metadata": {
  "kernelspec": {
   "display_name": "Python 3",
   "language": "python",
   "name": "python3"
  },
  "language_info": {
   "codemirror_mode": {
    "name": "ipython",
    "version": 3
   },
   "file_extension": ".py",
   "mimetype": "text/x-python",
   "name": "python",
   "nbconvert_exporter": "python",
   "pygments_lexer": "ipython3",
   "version": "3.8.5"
  }
 },
 "nbformat": 4,
 "nbformat_minor": 4
}
