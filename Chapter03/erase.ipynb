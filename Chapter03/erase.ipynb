{
 "cells": [
  {
   "cell_type": "code",
   "execution_count": 1,
   "metadata": {},
   "outputs": [],
   "source": [
    "%load_ext autoreload\n",
    "%autoreload 2"
   ]
  },
  {
   "cell_type": "code",
   "execution_count": 2,
   "metadata": {},
   "outputs": [],
   "source": [
    "import sys\n",
    "sys.path.append(\"../../../Optimus\")"
   ]
  },
  {
   "cell_type": "code",
   "execution_count": null,
   "metadata": {},
   "outputs": [],
   "source": []
  },
  {
   "cell_type": "code",
   "execution_count": null,
   "metadata": {},
   "outputs": [],
   "source": [
    "from dask.distributed import Client\n",
    "Client(n_workers=None, threads_per_worker=None, processes=False, memory_limit=\"4GB\")\n",
    "import dask.dataframe as dd\n",
    "dfd = dd.read_csv(\"DCIGNP2AYL.txt\", header=0, sep=\",\", dtype={\"postal_code\": object}, encoding=\"latin-1\")\n",
    "dfd.head()"
   ]
  },
  {
   "cell_type": "code",
   "execution_count": null,
   "metadata": {},
   "outputs": [],
   "source": [
    "import dask.distributed as distributed\n",
    "dir(distributed)\n",
    "None"
   ]
  },
  {
   "cell_type": "markdown",
   "metadata": {},
   "source": [
    "amazon reviews\n",
    "social media influecers\n",
    "editorial review\n",
    "\n",
    "blogs\n",
    "podcasts >> discounts\n",
    "storytelling\n"
   ]
  },
  {
   "cell_type": "code",
   "execution_count": 26,
   "metadata": {},
   "outputs": [
    {
     "name": "stderr",
     "output_type": "stream",
     "text": [
      "[nltk_data] Downloading package averaged_perceptron_tagger to\n",
      "[nltk_data]     C:\\Users\\LuisA\\AppData\\Roaming\\nltk_data...\n",
      "[nltk_data]   Package averaged_perceptron_tagger is already up-to-\n",
      "[nltk_data]       date!\n"
     ]
    }
   ],
   "source": [
    "from optimus import Optimus\n",
    "op = Optimus(\"dask\")"
   ]
  },
  {
   "cell_type": "code",
   "execution_count": 24,
   "metadata": {},
   "outputs": [],
   "source": [
    "df = op.create.dataframe({\"id\": [1,2,3,4], \n",
    "                          \"canal1\": [\"rrss\", \"rrss\", \"fisica\", \"otro\"],\n",
    "                          \"canal2\": [None, \"otro\", \"fb\", None]\n",
    "                         })"
   ]
  },
  {
   "cell_type": "code",
   "execution_count": 25,
   "metadata": {},
   "outputs": [
    {
     "data": {
      "text/html": [
       "\n",
       "\n",
       "\n",
       "\n",
       "\n",
       "<div class=\"info_items\" style=\"margin: 10px 0; font-family: sans-serif; font-size: 10px;\">Viewing 4 of 4 rows / 7 columns</div>\n",
       "<div class=\"info_items\" style=\"margin: 10px 0; font-family: sans-serif; font-size: 10px;\">1 partition(s) </div>\n",
       "\n",
       "\n",
       "<span class=\"optimus_table_container\" style=\"display: inline-flex; flex-direction: column;\">\n",
       "    <table class=\"optimus_table\" style=\"font-size: 12px; margin: 0;\">\n",
       "        <thead style=\"font-family: sans-serif; border-bottom: 1px solid currentColor;\">\n",
       "        <tr>\n",
       "            \n",
       "            <th style=\"\">\n",
       "                <div class=\"column_name\" style=\"font-size: 1.2em;\">id</div>\n",
       "                <div class=\"data_type\" style=\"font-size: 0.8em; font-weight: normal;\">1 (int64)</div>\n",
       "                \n",
       "            </th>\n",
       "            \n",
       "            <th style=\"\">\n",
       "                <div class=\"column_name\" style=\"font-size: 1.2em;\">canal1</div>\n",
       "                <div class=\"data_type\" style=\"font-size: 0.8em; font-weight: normal;\">2 (object)</div>\n",
       "                \n",
       "            </th>\n",
       "            \n",
       "            <th style=\"\">\n",
       "                <div class=\"column_name\" style=\"font-size: 1.2em;\">canal2</div>\n",
       "                <div class=\"data_type\" style=\"font-size: 0.8em; font-weight: normal;\">3 (object)</div>\n",
       "                \n",
       "            </th>\n",
       "            \n",
       "            <th style=\"\">\n",
       "                <div class=\"column_name\" style=\"font-size: 1.2em;\">canal_rrss</div>\n",
       "                <div class=\"data_type\" style=\"font-size: 0.8em; font-weight: normal;\">4 (bool)</div>\n",
       "                \n",
       "            </th>\n",
       "            \n",
       "            <th style=\"\">\n",
       "                <div class=\"column_name\" style=\"font-size: 1.2em;\">canal_otro</div>\n",
       "                <div class=\"data_type\" style=\"font-size: 0.8em; font-weight: normal;\">5 (bool)</div>\n",
       "                \n",
       "            </th>\n",
       "            \n",
       "            <th style=\"\">\n",
       "                <div class=\"column_name\" style=\"font-size: 1.2em;\">canal_fb</div>\n",
       "                <div class=\"data_type\" style=\"font-size: 0.8em; font-weight: normal;\">6 (bool)</div>\n",
       "                \n",
       "            </th>\n",
       "            \n",
       "            <th style=\"\">\n",
       "                <div class=\"column_name\" style=\"font-size: 1.2em;\">canal_fisica</div>\n",
       "                <div class=\"data_type\" style=\"font-size: 0.8em; font-weight: normal;\">7 (bool)</div>\n",
       "                \n",
       "            </th>\n",
       "            \n",
       "        </tr>\n",
       "\n",
       "        </thead>\n",
       "        <tbody style=\"font-family: monospace;\">\n",
       "        \n",
       "        <tr>\n",
       "            \n",
       "            <td style=\"border: 0px; \">\n",
       "                <div title=\"1\" style=\"min-height: 14px;\">\n",
       "                    \n",
       "                    1\n",
       "                    \n",
       "                </div>\n",
       "            </td>\n",
       "            \n",
       "            <td style=\"border: 0px; \">\n",
       "                <div title=\"rrss\" style=\"min-height: 14px;\">\n",
       "                    \n",
       "                    rrss\n",
       "                    \n",
       "                </div>\n",
       "            </td>\n",
       "            \n",
       "            <td style=\"border: 0px; \">\n",
       "                <div title=\"None\" style=\"min-height: 14px;\">\n",
       "                    \n",
       "                    None\n",
       "                    \n",
       "                </div>\n",
       "            </td>\n",
       "            \n",
       "            <td style=\"border: 0px; \">\n",
       "                <div title=\"True\" style=\"min-height: 14px;\">\n",
       "                    \n",
       "                    True\n",
       "                    \n",
       "                </div>\n",
       "            </td>\n",
       "            \n",
       "            <td style=\"border: 0px; \">\n",
       "                <div title=\"False\" style=\"min-height: 14px;\">\n",
       "                    \n",
       "                    False\n",
       "                    \n",
       "                </div>\n",
       "            </td>\n",
       "            \n",
       "            <td style=\"border: 0px; \">\n",
       "                <div title=\"False\" style=\"min-height: 14px;\">\n",
       "                    \n",
       "                    False\n",
       "                    \n",
       "                </div>\n",
       "            </td>\n",
       "            \n",
       "            <td style=\"border: 0px; \">\n",
       "                <div title=\"False\" style=\"min-height: 14px;\">\n",
       "                    \n",
       "                    False\n",
       "                    \n",
       "                </div>\n",
       "            </td>\n",
       "            \n",
       "        </tr>\n",
       "        \n",
       "        <tr>\n",
       "            \n",
       "            <td style=\"border: 0px; \">\n",
       "                <div title=\"2\" style=\"min-height: 14px;\">\n",
       "                    \n",
       "                    2\n",
       "                    \n",
       "                </div>\n",
       "            </td>\n",
       "            \n",
       "            <td style=\"border: 0px; \">\n",
       "                <div title=\"rrss\" style=\"min-height: 14px;\">\n",
       "                    \n",
       "                    rrss\n",
       "                    \n",
       "                </div>\n",
       "            </td>\n",
       "            \n",
       "            <td style=\"border: 0px; \">\n",
       "                <div title=\"otro\" style=\"min-height: 14px;\">\n",
       "                    \n",
       "                    otro\n",
       "                    \n",
       "                </div>\n",
       "            </td>\n",
       "            \n",
       "            <td style=\"border: 0px; \">\n",
       "                <div title=\"True\" style=\"min-height: 14px;\">\n",
       "                    \n",
       "                    True\n",
       "                    \n",
       "                </div>\n",
       "            </td>\n",
       "            \n",
       "            <td style=\"border: 0px; \">\n",
       "                <div title=\"True\" style=\"min-height: 14px;\">\n",
       "                    \n",
       "                    True\n",
       "                    \n",
       "                </div>\n",
       "            </td>\n",
       "            \n",
       "            <td style=\"border: 0px; \">\n",
       "                <div title=\"False\" style=\"min-height: 14px;\">\n",
       "                    \n",
       "                    False\n",
       "                    \n",
       "                </div>\n",
       "            </td>\n",
       "            \n",
       "            <td style=\"border: 0px; \">\n",
       "                <div title=\"False\" style=\"min-height: 14px;\">\n",
       "                    \n",
       "                    False\n",
       "                    \n",
       "                </div>\n",
       "            </td>\n",
       "            \n",
       "        </tr>\n",
       "        \n",
       "        <tr>\n",
       "            \n",
       "            <td style=\"border: 0px; \">\n",
       "                <div title=\"3\" style=\"min-height: 14px;\">\n",
       "                    \n",
       "                    3\n",
       "                    \n",
       "                </div>\n",
       "            </td>\n",
       "            \n",
       "            <td style=\"border: 0px; \">\n",
       "                <div title=\"fisica\" style=\"min-height: 14px;\">\n",
       "                    \n",
       "                    fisica\n",
       "                    \n",
       "                </div>\n",
       "            </td>\n",
       "            \n",
       "            <td style=\"border: 0px; \">\n",
       "                <div title=\"fb\" style=\"min-height: 14px;\">\n",
       "                    \n",
       "                    fb\n",
       "                    \n",
       "                </div>\n",
       "            </td>\n",
       "            \n",
       "            <td style=\"border: 0px; \">\n",
       "                <div title=\"False\" style=\"min-height: 14px;\">\n",
       "                    \n",
       "                    False\n",
       "                    \n",
       "                </div>\n",
       "            </td>\n",
       "            \n",
       "            <td style=\"border: 0px; \">\n",
       "                <div title=\"False\" style=\"min-height: 14px;\">\n",
       "                    \n",
       "                    False\n",
       "                    \n",
       "                </div>\n",
       "            </td>\n",
       "            \n",
       "            <td style=\"border: 0px; \">\n",
       "                <div title=\"True\" style=\"min-height: 14px;\">\n",
       "                    \n",
       "                    True\n",
       "                    \n",
       "                </div>\n",
       "            </td>\n",
       "            \n",
       "            <td style=\"border: 0px; \">\n",
       "                <div title=\"True\" style=\"min-height: 14px;\">\n",
       "                    \n",
       "                    True\n",
       "                    \n",
       "                </div>\n",
       "            </td>\n",
       "            \n",
       "        </tr>\n",
       "        \n",
       "        <tr>\n",
       "            \n",
       "            <td style=\"border: 0px; \">\n",
       "                <div title=\"4\" style=\"min-height: 14px;\">\n",
       "                    \n",
       "                    4\n",
       "                    \n",
       "                </div>\n",
       "            </td>\n",
       "            \n",
       "            <td style=\"border: 0px; \">\n",
       "                <div title=\"otro\" style=\"min-height: 14px;\">\n",
       "                    \n",
       "                    otro\n",
       "                    \n",
       "                </div>\n",
       "            </td>\n",
       "            \n",
       "            <td style=\"border: 0px; \">\n",
       "                <div title=\"None\" style=\"min-height: 14px;\">\n",
       "                    \n",
       "                    None\n",
       "                    \n",
       "                </div>\n",
       "            </td>\n",
       "            \n",
       "            <td style=\"border: 0px; \">\n",
       "                <div title=\"False\" style=\"min-height: 14px;\">\n",
       "                    \n",
       "                    False\n",
       "                    \n",
       "                </div>\n",
       "            </td>\n",
       "            \n",
       "            <td style=\"border: 0px; \">\n",
       "                <div title=\"True\" style=\"min-height: 14px;\">\n",
       "                    \n",
       "                    True\n",
       "                    \n",
       "                </div>\n",
       "            </td>\n",
       "            \n",
       "            <td style=\"border: 0px; \">\n",
       "                <div title=\"False\" style=\"min-height: 14px;\">\n",
       "                    \n",
       "                    False\n",
       "                    \n",
       "                </div>\n",
       "            </td>\n",
       "            \n",
       "            <td style=\"border: 0px; \">\n",
       "                <div title=\"False\" style=\"min-height: 14px;\">\n",
       "                    \n",
       "                    False\n",
       "                    \n",
       "                </div>\n",
       "            </td>\n",
       "            \n",
       "        </tr>\n",
       "        \n",
       "        </tbody>\n",
       "    </table>\n",
       "    <div class=\"optimus_table_border\" style=\"background-color: currentColor; opacity: 0.2; height: 1px; width: 100%;\"></div>\n",
       "</span>\n",
       "\n",
       "<div class=\"info_items\" style=\"margin: 10px 0; font-family: sans-serif; font-size: 10px;\">Viewing 4 of 4 rows / 7 columns</div>\n",
       "<div class=\"info_items\" style=\"margin: 10px 0; font-family: sans-serif; font-size: 10px;\">1 partition(s) &lt;class &#39;optimus.engines.pandas.dataframe.PandasDataFrame&#39;&gt;</div>\n",
       "\n"
      ],
      "text/plain": [
       "       id  canal1      canal2      canal_rrss    canal_otro    canal_fb    canal_fisica\n",
       "  (int64)  (object)    (object)    (bool)        (bool)        (bool)      (bool)\n",
       "---------  ----------  ----------  ------------  ------------  ----------  --------------\n",
       "        1  rrss                    True          False         False       False\n",
       "        2  rrss        otro        True          True          False       False\n",
       "        3  fisica      fb          False         False         True        True\n",
       "        4  otro                    False         True          False       False"
      ]
     },
     "execution_count": 25,
     "metadata": {},
     "output_type": "execute_result"
    }
   ],
   "source": [
    "def expand_category(df, cols=\"*\", regex=None, true_value=True, false_value=False, n=10, output_cols=None):\n",
    "    \n",
    "    from optimus.helpers.columns import parse_columns\n",
    "    \n",
    "    if regex:\n",
    "        cols = parse_columns(df, regex, is_regex=True)\n",
    "    else:\n",
    "        cols = parse_columns(df, cols)\n",
    "        \n",
    "    \n",
    "    from functools import reduce\n",
    "    values = []\n",
    "    for i, col in enumerate(cols):\n",
    "        values += [v[\"value\"] for v in df.cols.frequency(col, n)[\"frequency\"][col][\"values\"]]\n",
    "\n",
    "    for value in set(values):\n",
    "        mask = reduce(lambda a,b: a | b, [df[col]==value for col in cols])\n",
    "        if callable(output_cols):\n",
    "            value = output_cols(value)\n",
    "        elif output_cols:\n",
    "            value = f\"{output_cols}_{value}\"\n",
    "        df = df.cols.set(value, true_value, default=false_value, where=mask)\n",
    "        \n",
    "    return df\n",
    "\n",
    "expand_category(df, regex=\"canal\", output_cols=\"canal\")"
   ]
  },
  {
   "cell_type": "code",
   "execution_count": 18,
   "metadata": {},
   "outputs": [
    {
     "data": {
      "text/plain": [
       "str"
      ]
     },
     "execution_count": 18,
     "metadata": {},
     "output_type": "execute_result"
    }
   ],
   "source": [
    "type(r\"a\")"
   ]
  },
  {
   "cell_type": "code",
   "execution_count": null,
   "metadata": {},
   "outputs": [],
   "source": []
  },
  {
   "cell_type": "code",
   "execution_count": null,
   "metadata": {},
   "outputs": [],
   "source": [
    "dask_client = distributed.Client(n_workers=None, threads_per_worker=None, processes=False, memory_limit=\"4GB\")"
   ]
  },
  {
   "cell_type": "code",
   "execution_count": null,
   "metadata": {},
   "outputs": [],
   "source": [
    "import dask.dataframe as dd\n",
    "dfd = dd.read_csv(\"DCIGNP2AYL.txt\", header=0, sep=\",\", dtype={\"postal_code\": object}, encoding=\"latin-1\", blocksize=1/2)"
   ]
  },
  {
   "cell_type": "code",
   "execution_count": null,
   "metadata": {},
   "outputs": [],
   "source": [
    "dfd"
   ]
  },
  {
   "cell_type": "code",
   "execution_count": 38,
   "metadata": {},
   "outputs": [
    {
     "name": "stderr",
     "output_type": "stream",
     "text": [
      "[nltk_data] Downloading package averaged_perceptron_tagger to\n",
      "[nltk_data]     C:\\Users\\LuisA\\AppData\\Roaming\\nltk_data...\n",
      "[nltk_data]   Package averaged_perceptron_tagger is already up-to-\n",
      "[nltk_data]       date!\n"
     ]
    }
   ],
   "source": [
    "from optimus import Optimus \n",
    "op = Optimus(\"dask\", processes=True)"
   ]
  },
  {
   "cell_type": "code",
   "execution_count": 41,
   "metadata": {},
   "outputs": [
    {
     "data": {
      "text/plain": [
       "2"
      ]
     },
     "execution_count": 41,
     "metadata": {},
     "output_type": "execute_result"
    }
   ],
   "source": [
    "df = op.load.file(\"DCIGNP2AYL.txt\", n_partitions=2, n_rows=20)\n",
    "df.data.npartitions"
   ]
  },
  {
   "cell_type": "code",
   "execution_count": 35,
   "metadata": {},
   "outputs": [
    {
     "data": {
      "text/plain": [
       "1631"
      ]
     },
     "execution_count": 35,
     "metadata": {},
     "output_type": "execute_result"
    }
   ],
   "source": [
    "df.rows.count()"
   ]
  },
  {
   "cell_type": "code",
   "execution_count": null,
   "metadata": {},
   "outputs": [],
   "source": [
    "df.display()"
   ]
  },
  {
   "cell_type": "code",
   "execution_count": null,
   "metadata": {},
   "outputs": [],
   "source": [
    "df.cols.upper(\"name\").data"
   ]
  },
  {
   "cell_type": "code",
   "execution_count": null,
   "metadata": {},
   "outputs": [],
   "source": [
    "dfd.head(20, npartitions=1, compute=True, safe=False)"
   ]
  },
  {
   "cell_type": "code",
   "execution_count": null,
   "metadata": {},
   "outputs": [],
   "source": [
    "??dfd._head"
   ]
  },
  {
   "cell_type": "code",
   "execution_count": null,
   "metadata": {},
   "outputs": [],
   "source": [
    "dfd.persist()"
   ]
  },
  {
   "cell_type": "code",
   "execution_count": null,
   "metadata": {},
   "outputs": [],
   "source": [
    "dfd = dfd.head(compute=False)"
   ]
  },
  {
   "cell_type": "code",
   "execution_count": null,
   "metadata": {},
   "outputs": [],
   "source": [
    "dfd.partitions[0].compute()"
   ]
  },
  {
   "cell_type": "code",
   "execution_count": null,
   "metadata": {},
   "outputs": [],
   "source": [
    "import numpy as np\n",
    "for col in df2.data.columns:\n",
    "    df2.data[col] = dd.from_array(df2.data[col].values)"
   ]
  },
  {
   "cell_type": "code",
   "execution_count": null,
   "metadata": {},
   "outputs": [],
   "source": [
    "df2.data.head()"
   ]
  },
  {
   "cell_type": "code",
   "execution_count": null,
   "metadata": {},
   "outputs": [],
   "source": [
    "dfd.head()"
   ]
  },
  {
   "cell_type": "code",
   "execution_count": null,
   "metadata": {},
   "outputs": [],
   "source": [
    "from optimus.engines.dask.dataframe import DaskDataFrame\n",
    "df = DaskDataFrame(dfd)"
   ]
  },
  {
   "cell_type": "code",
   "execution_count": null,
   "metadata": {},
   "outputs": [],
   "source": [
    "df.display()"
   ]
  },
  {
   "cell_type": "code",
   "execution_count": null,
   "metadata": {},
   "outputs": [],
   "source": [
    "from dask.distributed import get_client\n",
    "get_client()"
   ]
  },
  {
   "cell_type": "code",
   "execution_count": null,
   "metadata": {},
   "outputs": [],
   "source": [
    "?dd.read_csv"
   ]
  },
  {
   "cell_type": "code",
   "execution_count": null,
   "metadata": {},
   "outputs": [],
   "source": [
    "import pandas as pd\n",
    "?pd.read_csv"
   ]
  },
  {
   "cell_type": "code",
   "execution_count": null,
   "metadata": {},
   "outputs": [],
   "source": [
    "import pandas as pd\n",
    "pd.DataFrame({col: df[col].values for col in df.columns})"
   ]
  },
  {
   "cell_type": "code",
   "execution_count": null,
   "metadata": {},
   "outputs": [],
   "source": []
  },
  {
   "cell_type": "code",
   "execution_count": null,
   "metadata": {},
   "outputs": [],
   "source": [
    "df[\"a\"].compute()"
   ]
  },
  {
   "cell_type": "code",
   "execution_count": null,
   "metadata": {},
   "outputs": [],
   "source": [
    "dir(df.partitions[0])"
   ]
  },
  {
   "cell_type": "code",
   "execution_count": null,
   "metadata": {},
   "outputs": [],
   "source": []
  },
  {
   "cell_type": "code",
   "execution_count": null,
   "metadata": {
    "scrolled": true
   },
   "outputs": [],
   "source": [
    "import pandas as pd\n",
    "import numpy as np\n",
    "pd.Series(np.radians(df.data['latitude'])) - pd.Series(np.radians(df.data['longitude']))"
   ]
  },
  {
   "cell_type": "code",
   "execution_count": null,
   "metadata": {},
   "outputs": [],
   "source": [
    "df['latitude'] - df['longitude']"
   ]
  },
  {
   "cell_type": "code",
   "execution_count": null,
   "metadata": {},
   "outputs": [],
   "source": [
    "from optimus.functions import F\n",
    "\n",
    "def haversine(lat1, lon1, lat2, lon2):    \n",
    "    MILES = 3959\n",
    "    lat1, lon1, lat2, lon2 = map(F.radians, [lat1, lon1, lat2, lon2])\n",
    "    dlat = lat2 - lat1 \n",
    "    dlon = lon2 - lon1         \n",
    "    a = F.sin(dlat/2)**2 + F.cos(lat1) * F.cos(lat2) * F.sin(dlon/2)**2\n",
    "    c = 2 * F.asin(F.sqrt(a))  \n",
    "    total_miles = MILES * c\n",
    "    return total_miles\n"
   ]
  },
  {
   "cell_type": "code",
   "execution_count": null,
   "metadata": {},
   "outputs": [],
   "source": [
    "%%time\n",
    "df[\"distance\"] = haversine(40.671, -73.985, df['latitude'], df['longitude'])"
   ]
  },
  {
   "cell_type": "code",
   "execution_count": null,
   "metadata": {},
   "outputs": [],
   "source": [
    "import numpy as np\n",
    "np.cos(40.671)"
   ]
  },
  {
   "cell_type": "code",
   "execution_count": null,
   "metadata": {},
   "outputs": [],
   "source": []
  }
 ],
 "metadata": {
  "kernelspec": {
   "display_name": "Python 3",
   "language": "python",
   "name": "python3"
  },
  "language_info": {
   "codemirror_mode": {
    "name": "ipython",
    "version": 3
   },
   "file_extension": ".py",
   "mimetype": "text/x-python",
   "name": "python",
   "nbconvert_exporter": "python",
   "pygments_lexer": "ipython3",
   "version": "3.8.5"
  }
 },
 "nbformat": 4,
 "nbformat_minor": 4
}
