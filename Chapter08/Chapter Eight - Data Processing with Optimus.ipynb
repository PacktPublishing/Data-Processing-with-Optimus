{
 "cells": [
  {
   "cell_type": "code",
   "execution_count": 1,
   "metadata": {},
   "outputs": [],
   "source": [
    "%load_ext autoreload\n",
    "%autoreload 2"
   ]
  },
  {
   "cell_type": "code",
   "execution_count": 2,
   "metadata": {},
   "outputs": [],
   "source": [
    "import sys\n",
    "sys.path.append(\"../../Optimus\")"
   ]
  },
  {
   "cell_type": "code",
   "execution_count": 3,
   "metadata": {},
   "outputs": [],
   "source": [
    "# import os\n",
    "# os.path.getsize('C:\\\\Python27\\\\Lib\\\\genericpath.py')"
   ]
  },
  {
   "cell_type": "code",
   "execution_count": 4,
   "metadata": {},
   "outputs": [],
   "source": [
    "from optimus import Optimus"
   ]
  },
  {
   "cell_type": "markdown",
   "metadata": {},
   "source": [
    "https://medium.com/mindorks/speeding-up-text-pre-processing-using-dask-45cc3ede1366\n",
    "\n",
    "https://towardsdatascience.com/nlp-for-beginners-cleaning-preprocessing-text-data-ae8e306bef0f\n",
    "\n",
    "https://towardsdatascience.com/introduction-to-nlp-part-1-preprocessing-text-in-python-8f007d44ca96\n",
    "\n",
    "https://towardsdatascience.com/introduction-to-nlp-part-2-difference-between-lemmatisation-and-stemming-3789be1c55bc\n",
    "\n",
    "https://towardsdatascience.com/introduction-to-nlp-part-3-tf-idf-explained-cedb1fc1f7dc\n",
    "\n",
    "\n",
    "Kfolds and grid search\n",
    "https://ethen8181.github.io/machine-learning/model_selection/model_selection.html\n"
   ]
  },
  {
   "cell_type": "code",
   "execution_count": 5,
   "metadata": {},
   "outputs": [],
   "source": [
    "# op = Optimus(\"dask\", threads_per_worker=8, n_workers=1)\n",
    "op = Optimus(\"pandas\")"
   ]
  },
  {
   "cell_type": "code",
   "execution_count": 6,
   "metadata": {},
   "outputs": [
    {
     "data": {
      "text/plain": [
       "<module 'pandas' from 'C:\\\\Users\\\\argenisleon\\\\Anaconda3\\\\lib\\\\site-packages\\\\pandas\\\\__init__.py'>"
      ]
     },
     "execution_count": 6,
     "metadata": {},
     "output_type": "execute_result"
    }
   ],
   "source": [
    "# op = Optimus(\"dask\")\n",
    "op.client"
   ]
  },
  {
   "cell_type": "code",
   "execution_count": 7,
   "metadata": {},
   "outputs": [
    {
     "data": {
      "text/plain": [
       "[9, 4, 10, 8, 0]"
      ]
     },
     "execution_count": 7,
     "metadata": {},
     "output_type": "execute_result"
    }
   ],
   "source": [
    "import random\n",
    "[random.randint(0,10) for i in range(5)]"
   ]
  },
  {
   "cell_type": "code",
   "execution_count": 58,
   "metadata": {},
   "outputs": [],
   "source": [
    "import numpy as np\n",
    "size = 1000\n",
    "data = {\n",
    "    \"length\":[round(random.uniform(1,2),1) for i in range(size)], \n",
    "    \"width\": [round(random.uniform(1,1.5),1) for i in range(size)], \n",
    "    \"height\": [random.randint(20,50) for i in range(size)],\n",
    "    \"type\": [random.randint(0,1) for i in range(size)]\n",
    "}\n",
    "\n",
    "df = op.create.dataframe(data).repartition(4).execute()\n",
    "df[\"d_weight\"] = df[\"height\"]*df[\"width\"]*df[\"length\"]*[random.uniform(1,1) for i in range(size)]\n",
    "df = df.cols.round(\"d_weight\",1)"
   ]
  },
  {
   "cell_type": "code",
   "execution_count": 9,
   "metadata": {},
   "outputs": [],
   "source": [
    "df = df.cols.set(\"type\",value=1, where=df[\"d_weight\"]<40, default=0)"
   ]
  },
  {
   "cell_type": "code",
   "execution_count": 10,
   "metadata": {},
   "outputs": [
    {
     "name": "stdout",
     "output_type": "stream",
     "text": [
      "     length        width     height       type     d_weight\n",
      "  (float64)    (float64)    (int64)    (int64)    (float64)\n",
      "-----------  -----------  ---------  ---------  -----------\n",
      "        1.6          1.4         39          0         87.4\n",
      "        1.9          1.3         34          0         84\n",
      "        1.1          1.4         39          0         60.1\n",
      "        1.4          1.5         37          0         77.7\n",
      "        1.1          1.1         40          0         48.4\n",
      "        1.7          1.4         36          0         85.7\n",
      "        1.2          1.2         42          0         60.5\n",
      "        1.8          1.3         43          0        100.6\n",
      "        1.5          1           45          0         67.5\n"
     ]
    }
   ],
   "source": [
    "df.print()"
   ]
  },
  {
   "cell_type": "markdown",
   "metadata": {},
   "source": [
    "#### Cross Validation\n",
    "https://scikit-learn.org/stable/modules/cross_validation.html\n",
    "https://www.kaggle.com/jnikhilsai/cross-validation-with-linear-regression"
   ]
  },
  {
   "cell_type": "code",
   "execution_count": 11,
   "metadata": {},
   "outputs": [],
   "source": [
    "lm = df.ml.linear_regression(\"height\",\"d_weight\")"
   ]
  },
  {
   "cell_type": "code",
   "execution_count": 12,
   "metadata": {},
   "outputs": [
    {
     "data": {
      "text/plain": [
       "<optimus.engines.pandas.ml.models.Model at 0x259f6f79948>"
      ]
     },
     "execution_count": 12,
     "metadata": {},
     "output_type": "execute_result"
    }
   ],
   "source": [
    "lm"
   ]
  },
  {
   "cell_type": "code",
   "execution_count": 13,
   "metadata": {},
   "outputs": [
    {
     "data": {
      "text/plain": [
       "[66.32442295524834]"
      ]
     },
     "execution_count": 13,
     "metadata": {},
     "output_type": "execute_result"
    }
   ],
   "source": [
    "lm.predict(36)"
   ]
  },
  {
   "cell_type": "code",
   "execution_count": 14,
   "metadata": {},
   "outputs": [
    {
     "name": "stdout",
     "output_type": "stream",
     "text": [
      "{'neg_mean_absolute_error': [-13.046533859445827, -12.58565083857221, -12.659623675051286, -12.062844673614947, -12.995350375429535], 'neg_mean_squared_error': [-283.52806432093314, -243.08506430586368, -251.08576402403014, -220.35236107213444, -260.11636110595106], 'neg_root_mean_squared_error': [-16.83829160933297, -15.591185468265833, -15.84568597518044, -14.844270311205413, -16.128123297704263], 'r2': [0.5107837480012107, 0.5242205947499938, 0.44510735869020446, 0.5285236516651584, 0.5166597845465314]}\n"
     ]
    }
   ],
   "source": [
    "print(lm.scores())"
   ]
  },
  {
   "cell_type": "code",
   "execution_count": 15,
   "metadata": {},
   "outputs": [
    {
     "name": "stdout",
     "output_type": "stream",
     "text": [
      "{'accuracy': 0.5139094271448392, 'standard deviation': 0.030591851296177586}\n"
     ]
    }
   ],
   "source": [
    "print(lm.evaluate())"
   ]
  },
  {
   "cell_type": "code",
   "execution_count": 16,
   "metadata": {},
   "outputs": [
    {
     "data": {
      "text/plain": [
       "[1.786156292445545]"
      ]
     },
     "execution_count": 16,
     "metadata": {},
     "output_type": "execute_result"
    }
   ],
   "source": [
    "lm.coef()"
   ]
  },
  {
   "cell_type": "code",
   "execution_count": 17,
   "metadata": {},
   "outputs": [
    {
     "data": {
      "text/plain": [
       "2.022796427208725"
      ]
     },
     "execution_count": 17,
     "metadata": {},
     "output_type": "execute_result"
    }
   ],
   "source": [
    "lm.intercept()"
   ]
  },
  {
   "cell_type": "code",
   "execution_count": 18,
   "metadata": {},
   "outputs": [
    {
     "data": {
      "image/png": "[encoded data removed]",
      "text/plain": [
       "<Figure size 576x396 with 1 Axes>"
      ]
     },
     "metadata": {},
     "output_type": "display_data"
    }
   ],
   "source": [
    "lm.plot()"
   ]
  },
  {
   "cell_type": "markdown",
   "metadata": {},
   "source": [
    "Interpreting https://medium.com/analytics-vidhya/mae-mse-rmse-coefficient-of-determination-adjusted-r-squared-which-metric-is-better-cd0326a5697e"
   ]
  },
  {
   "cell_type": "markdown",
   "metadata": {},
   "source": [
    "## MLR Multiple Linear Regresion"
   ]
  },
  {
   "cell_type": "code",
   "execution_count": 19,
   "metadata": {},
   "outputs": [
    {
     "data": {
      "text/html": [
       "\n",
       "\n",
       "\n",
       "\n",
       "\n",
       "<div class=\"info_items\" style=\"margin: 10px 0; font-family: sans-serif; font-size: 10px;\">Viewing 10 of 1000 rows / 5 columns</div>\n",
       "<div class=\"info_items\" style=\"margin: 10px 0; font-family: sans-serif; font-size: 10px;\">1 partition(s) </div>\n",
       "\n",
       "\n",
       "<table class=\"optimus_table\" style=\"font-size: 12px;\">\n",
       "    <thead style=\"border-bottom: 1px solid black;\">\n",
       "    <tr>\n",
       "        \n",
       "        <th style=\"font-family: sans-serif;\">\n",
       "            <div class=\"column_name\" style=\"font-size: 1.2em;\">length</div>\n",
       "            <div class=\"data_type\" style=\"font-size: 0.8em; font-weight: normal;\">1 (float64)</div>\n",
       "            <div class=\"data_type\" style=\"font-size: 0.8em; font-weight: normal;\">\n",
       "                \n",
       "                not nullable\n",
       "                \n",
       "            </div>\n",
       "        </th>\n",
       "        \n",
       "        <th style=\"font-family: sans-serif;\">\n",
       "            <div class=\"column_name\" style=\"font-size: 1.2em;\">width</div>\n",
       "            <div class=\"data_type\" style=\"font-size: 0.8em; font-weight: normal;\">2 (float64)</div>\n",
       "            <div class=\"data_type\" style=\"font-size: 0.8em; font-weight: normal;\">\n",
       "                \n",
       "                not nullable\n",
       "                \n",
       "            </div>\n",
       "        </th>\n",
       "        \n",
       "        <th style=\"font-family: sans-serif;\">\n",
       "            <div class=\"column_name\" style=\"font-size: 1.2em;\">height</div>\n",
       "            <div class=\"data_type\" style=\"font-size: 0.8em; font-weight: normal;\">3 (int64)</div>\n",
       "            <div class=\"data_type\" style=\"font-size: 0.8em; font-weight: normal;\">\n",
       "                \n",
       "                not nullable\n",
       "                \n",
       "            </div>\n",
       "        </th>\n",
       "        \n",
       "        <th style=\"font-family: sans-serif;\">\n",
       "            <div class=\"column_name\" style=\"font-size: 1.2em;\">type</div>\n",
       "            <div class=\"data_type\" style=\"font-size: 0.8em; font-weight: normal;\">4 (int64)</div>\n",
       "            <div class=\"data_type\" style=\"font-size: 0.8em; font-weight: normal;\">\n",
       "                \n",
       "                not nullable\n",
       "                \n",
       "            </div>\n",
       "        </th>\n",
       "        \n",
       "        <th style=\"font-family: sans-serif;\">\n",
       "            <div class=\"column_name\" style=\"font-size: 1.2em;\">d_weight</div>\n",
       "            <div class=\"data_type\" style=\"font-size: 0.8em; font-weight: normal;\">5 (float64)</div>\n",
       "            <div class=\"data_type\" style=\"font-size: 0.8em; font-weight: normal;\">\n",
       "                \n",
       "                not nullable\n",
       "                \n",
       "            </div>\n",
       "        </th>\n",
       "        \n",
       "    </tr>\n",
       "\n",
       "    </thead>\n",
       "    <tbody style=\"font-family: monospace; border-bottom: 1px solid #cccccc;\">\n",
       "    \n",
       "    <tr>\n",
       "        \n",
       "        <td style=\"border: 0px;\">\n",
       "            <div style=\"min-height: 14px;\" title=\"1.6\">\n",
       "                \n",
       "                1.6\n",
       "                 \n",
       "            </div>\n",
       "        </td>\n",
       "        \n",
       "        <td style=\"border: 0px;\">\n",
       "            <div style=\"min-height: 14px;\" title=\"1.4\">\n",
       "                \n",
       "                1.4\n",
       "                 \n",
       "            </div>\n",
       "        </td>\n",
       "        \n",
       "        <td style=\"border: 0px;\">\n",
       "            <div style=\"min-height: 14px;\" title=\"39\">\n",
       "                \n",
       "                39\n",
       "                 \n",
       "            </div>\n",
       "        </td>\n",
       "        \n",
       "        <td style=\"border: 0px;\">\n",
       "            <div style=\"min-height: 14px;\" title=\"0\">\n",
       "                \n",
       "                0\n",
       "                 \n",
       "            </div>\n",
       "        </td>\n",
       "        \n",
       "        <td style=\"border: 0px;\">\n",
       "            <div style=\"min-height: 14px;\" title=\"87.4\">\n",
       "                \n",
       "                87.4\n",
       "                 \n",
       "            </div>\n",
       "        </td>\n",
       "        \n",
       "    </tr>\n",
       "    \n",
       "    <tr>\n",
       "        \n",
       "        <td style=\"border: 0px;\">\n",
       "            <div style=\"min-height: 14px;\" title=\"1.9\">\n",
       "                \n",
       "                1.9\n",
       "                 \n",
       "            </div>\n",
       "        </td>\n",
       "        \n",
       "        <td style=\"border: 0px;\">\n",
       "            <div style=\"min-height: 14px;\" title=\"1.3\">\n",
       "                \n",
       "                1.3\n",
       "                 \n",
       "            </div>\n",
       "        </td>\n",
       "        \n",
       "        <td style=\"border: 0px;\">\n",
       "            <div style=\"min-height: 14px;\" title=\"34\">\n",
       "                \n",
       "                34\n",
       "                 \n",
       "            </div>\n",
       "        </td>\n",
       "        \n",
       "        <td style=\"border: 0px;\">\n",
       "            <div style=\"min-height: 14px;\" title=\"0\">\n",
       "                \n",
       "                0\n",
       "                 \n",
       "            </div>\n",
       "        </td>\n",
       "        \n",
       "        <td style=\"border: 0px;\">\n",
       "            <div style=\"min-height: 14px;\" title=\"84.0\">\n",
       "                \n",
       "                84.0\n",
       "                 \n",
       "            </div>\n",
       "        </td>\n",
       "        \n",
       "    </tr>\n",
       "    \n",
       "    <tr>\n",
       "        \n",
       "        <td style=\"border: 0px;\">\n",
       "            <div style=\"min-height: 14px;\" title=\"1.1\">\n",
       "                \n",
       "                1.1\n",
       "                 \n",
       "            </div>\n",
       "        </td>\n",
       "        \n",
       "        <td style=\"border: 0px;\">\n",
       "            <div style=\"min-height: 14px;\" title=\"1.4\">\n",
       "                \n",
       "                1.4\n",
       "                 \n",
       "            </div>\n",
       "        </td>\n",
       "        \n",
       "        <td style=\"border: 0px;\">\n",
       "            <div style=\"min-height: 14px;\" title=\"39\">\n",
       "                \n",
       "                39\n",
       "                 \n",
       "            </div>\n",
       "        </td>\n",
       "        \n",
       "        <td style=\"border: 0px;\">\n",
       "            <div style=\"min-height: 14px;\" title=\"0\">\n",
       "                \n",
       "                0\n",
       "                 \n",
       "            </div>\n",
       "        </td>\n",
       "        \n",
       "        <td style=\"border: 0px;\">\n",
       "            <div style=\"min-height: 14px;\" title=\"60.1\">\n",
       "                \n",
       "                60.1\n",
       "                 \n",
       "            </div>\n",
       "        </td>\n",
       "        \n",
       "    </tr>\n",
       "    \n",
       "    <tr>\n",
       "        \n",
       "        <td style=\"border: 0px;\">\n",
       "            <div style=\"min-height: 14px;\" title=\"1.4\">\n",
       "                \n",
       "                1.4\n",
       "                 \n",
       "            </div>\n",
       "        </td>\n",
       "        \n",
       "        <td style=\"border: 0px;\">\n",
       "            <div style=\"min-height: 14px;\" title=\"1.5\">\n",
       "                \n",
       "                1.5\n",
       "                 \n",
       "            </div>\n",
       "        </td>\n",
       "        \n",
       "        <td style=\"border: 0px;\">\n",
       "            <div style=\"min-height: 14px;\" title=\"37\">\n",
       "                \n",
       "                37\n",
       "                 \n",
       "            </div>\n",
       "        </td>\n",
       "        \n",
       "        <td style=\"border: 0px;\">\n",
       "            <div style=\"min-height: 14px;\" title=\"0\">\n",
       "                \n",
       "                0\n",
       "                 \n",
       "            </div>\n",
       "        </td>\n",
       "        \n",
       "        <td style=\"border: 0px;\">\n",
       "            <div style=\"min-height: 14px;\" title=\"77.7\">\n",
       "                \n",
       "                77.7\n",
       "                 \n",
       "            </div>\n",
       "        </td>\n",
       "        \n",
       "    </tr>\n",
       "    \n",
       "    <tr>\n",
       "        \n",
       "        <td style=\"border: 0px;\">\n",
       "            <div style=\"min-height: 14px;\" title=\"1.1\">\n",
       "                \n",
       "                1.1\n",
       "                 \n",
       "            </div>\n",
       "        </td>\n",
       "        \n",
       "        <td style=\"border: 0px;\">\n",
       "            <div style=\"min-height: 14px;\" title=\"1.1\">\n",
       "                \n",
       "                1.1\n",
       "                 \n",
       "            </div>\n",
       "        </td>\n",
       "        \n",
       "        <td style=\"border: 0px;\">\n",
       "            <div style=\"min-height: 14px;\" title=\"40\">\n",
       "                \n",
       "                40\n",
       "                 \n",
       "            </div>\n",
       "        </td>\n",
       "        \n",
       "        <td style=\"border: 0px;\">\n",
       "            <div style=\"min-height: 14px;\" title=\"0\">\n",
       "                \n",
       "                0\n",
       "                 \n",
       "            </div>\n",
       "        </td>\n",
       "        \n",
       "        <td style=\"border: 0px;\">\n",
       "            <div style=\"min-height: 14px;\" title=\"48.4\">\n",
       "                \n",
       "                48.4\n",
       "                 \n",
       "            </div>\n",
       "        </td>\n",
       "        \n",
       "    </tr>\n",
       "    \n",
       "    <tr>\n",
       "        \n",
       "        <td style=\"border: 0px;\">\n",
       "            <div style=\"min-height: 14px;\" title=\"1.7\">\n",
       "                \n",
       "                1.7\n",
       "                 \n",
       "            </div>\n",
       "        </td>\n",
       "        \n",
       "        <td style=\"border: 0px;\">\n",
       "            <div style=\"min-height: 14px;\" title=\"1.4\">\n",
       "                \n",
       "                1.4\n",
       "                 \n",
       "            </div>\n",
       "        </td>\n",
       "        \n",
       "        <td style=\"border: 0px;\">\n",
       "            <div style=\"min-height: 14px;\" title=\"36\">\n",
       "                \n",
       "                36\n",
       "                 \n",
       "            </div>\n",
       "        </td>\n",
       "        \n",
       "        <td style=\"border: 0px;\">\n",
       "            <div style=\"min-height: 14px;\" title=\"0\">\n",
       "                \n",
       "                0\n",
       "                 \n",
       "            </div>\n",
       "        </td>\n",
       "        \n",
       "        <td style=\"border: 0px;\">\n",
       "            <div style=\"min-height: 14px;\" title=\"85.7\">\n",
       "                \n",
       "                85.7\n",
       "                 \n",
       "            </div>\n",
       "        </td>\n",
       "        \n",
       "    </tr>\n",
       "    \n",
       "    <tr>\n",
       "        \n",
       "        <td style=\"border: 0px;\">\n",
       "            <div style=\"min-height: 14px;\" title=\"1.2\">\n",
       "                \n",
       "                1.2\n",
       "                 \n",
       "            </div>\n",
       "        </td>\n",
       "        \n",
       "        <td style=\"border: 0px;\">\n",
       "            <div style=\"min-height: 14px;\" title=\"1.2\">\n",
       "                \n",
       "                1.2\n",
       "                 \n",
       "            </div>\n",
       "        </td>\n",
       "        \n",
       "        <td style=\"border: 0px;\">\n",
       "            <div style=\"min-height: 14px;\" title=\"42\">\n",
       "                \n",
       "                42\n",
       "                 \n",
       "            </div>\n",
       "        </td>\n",
       "        \n",
       "        <td style=\"border: 0px;\">\n",
       "            <div style=\"min-height: 14px;\" title=\"0\">\n",
       "                \n",
       "                0\n",
       "                 \n",
       "            </div>\n",
       "        </td>\n",
       "        \n",
       "        <td style=\"border: 0px;\">\n",
       "            <div style=\"min-height: 14px;\" title=\"60.5\">\n",
       "                \n",
       "                60.5\n",
       "                 \n",
       "            </div>\n",
       "        </td>\n",
       "        \n",
       "    </tr>\n",
       "    \n",
       "    <tr>\n",
       "        \n",
       "        <td style=\"border: 0px;\">\n",
       "            <div style=\"min-height: 14px;\" title=\"1.8\">\n",
       "                \n",
       "                1.8\n",
       "                 \n",
       "            </div>\n",
       "        </td>\n",
       "        \n",
       "        <td style=\"border: 0px;\">\n",
       "            <div style=\"min-height: 14px;\" title=\"1.3\">\n",
       "                \n",
       "                1.3\n",
       "                 \n",
       "            </div>\n",
       "        </td>\n",
       "        \n",
       "        <td style=\"border: 0px;\">\n",
       "            <div style=\"min-height: 14px;\" title=\"43\">\n",
       "                \n",
       "                43\n",
       "                 \n",
       "            </div>\n",
       "        </td>\n",
       "        \n",
       "        <td style=\"border: 0px;\">\n",
       "            <div style=\"min-height: 14px;\" title=\"0\">\n",
       "                \n",
       "                0\n",
       "                 \n",
       "            </div>\n",
       "        </td>\n",
       "        \n",
       "        <td style=\"border: 0px;\">\n",
       "            <div style=\"min-height: 14px;\" title=\"100.6\">\n",
       "                \n",
       "                100.6\n",
       "                 \n",
       "            </div>\n",
       "        </td>\n",
       "        \n",
       "    </tr>\n",
       "    \n",
       "    <tr>\n",
       "        \n",
       "        <td style=\"border: 0px;\">\n",
       "            <div style=\"min-height: 14px;\" title=\"1.5\">\n",
       "                \n",
       "                1.5\n",
       "                 \n",
       "            </div>\n",
       "        </td>\n",
       "        \n",
       "        <td style=\"border: 0px;\">\n",
       "            <div style=\"min-height: 14px;\" title=\"1.0\">\n",
       "                \n",
       "                1.0\n",
       "                 \n",
       "            </div>\n",
       "        </td>\n",
       "        \n",
       "        <td style=\"border: 0px;\">\n",
       "            <div style=\"min-height: 14px;\" title=\"45\">\n",
       "                \n",
       "                45\n",
       "                 \n",
       "            </div>\n",
       "        </td>\n",
       "        \n",
       "        <td style=\"border: 0px;\">\n",
       "            <div style=\"min-height: 14px;\" title=\"0\">\n",
       "                \n",
       "                0\n",
       "                 \n",
       "            </div>\n",
       "        </td>\n",
       "        \n",
       "        <td style=\"border: 0px;\">\n",
       "            <div style=\"min-height: 14px;\" title=\"67.5\">\n",
       "                \n",
       "                67.5\n",
       "                 \n",
       "            </div>\n",
       "        </td>\n",
       "        \n",
       "    </tr>\n",
       "    \n",
       "    </tbody>\n",
       "</table>\n",
       "\n",
       "<div class=\"info_items\" style=\"margin: 10px 0; font-family: sans-serif; font-size: 10px;\">Viewing 10 of 1000 rows / 5 columns</div>\n",
       "<div class=\"info_items\" style=\"margin: 10px 0; font-family: sans-serif; font-size: 10px;\">1 partition(s) &lt;class &#39;optimus.engines.pandas.dataframe.PandasDataFrame&#39;&gt;</div>\n",
       "\n"
      ],
      "text/plain": [
       "     length        width     height       type     d_weight\n",
       "  (float64)    (float64)    (int64)    (int64)    (float64)\n",
       "-----------  -----------  ---------  ---------  -----------\n",
       "        1.6          1.4         39          0         87.4\n",
       "        1.9          1.3         34          0         84\n",
       "        1.1          1.4         39          0         60.1\n",
       "        1.4          1.5         37          0         77.7\n",
       "        1.1          1.1         40          0         48.4\n",
       "        1.7          1.4         36          0         85.7\n",
       "        1.2          1.2         42          0         60.5\n",
       "        1.8          1.3         43          0        100.6\n",
       "        1.5          1           45          0         67.5"
      ]
     },
     "execution_count": 19,
     "metadata": {},
     "output_type": "execute_result"
    }
   ],
   "source": [
    "df"
   ]
  },
  {
   "cell_type": "code",
   "execution_count": 20,
   "metadata": {},
   "outputs": [],
   "source": [
    "lm = df.ml.linear_regression([\"length\",\"width\",\"height\"],\"d_weight\", test_size=0.2)"
   ]
  },
  {
   "cell_type": "code",
   "execution_count": 21,
   "metadata": {},
   "outputs": [
    {
     "name": "stdout",
     "output_type": "stream",
     "text": [
      "[49.54404714554343]\n"
     ]
    }
   ],
   "source": [
    "print(lm.predict([[1.4,1.38,25]]))"
   ]
  },
  {
   "cell_type": "code",
   "execution_count": 22,
   "metadata": {},
   "outputs": [
    {
     "name": "stdout",
     "output_type": "stream",
     "text": [
      "[42.91731948148191, 51.696074058828785, 1.8375222351794886]\n"
     ]
    }
   ],
   "source": [
    "print(lm.coef())"
   ]
  },
  {
   "cell_type": "code",
   "execution_count": 23,
   "metadata": {},
   "outputs": [
    {
     "name": "stdout",
     "output_type": "stream",
     "text": [
      "{'accuracy': 0.9669581465576755, 'standard deviation': 0.0027843466291981984}\n"
     ]
    }
   ],
   "source": [
    "# print(lm.intercept())\n",
    "print(lm.evaluate())\n",
    "# print(lm.scores())"
   ]
  },
  {
   "cell_type": "markdown",
   "metadata": {},
   "source": [
    "Can not be plot bease of multiple dimmensions"
   ]
  },
  {
   "cell_type": "code",
   "execution_count": 24,
   "metadata": {},
   "outputs": [],
   "source": [
    "# lm.plot()"
   ]
  },
  {
   "cell_type": "markdown",
   "metadata": {},
   "source": [
    "## Logistic regression "
   ]
  },
  {
   "cell_type": "markdown",
   "metadata": {},
   "source": [
    "* https://www.kaggle.com/ankitagarwal/logistic-regression-with-k-fold\n",
    "* https://medium.com/@lily_su/logistic-regression-accuracy-cross-validation-58d9eb58d6e6\n",
    "* https://medium.com/@oluwabukunmige/logistic-regression-in-scikit-learn-a-step-by-step-process-32f546241f32\n",
    "* https://towardsdatascience.com/logistic-regression-using-python-sklearn-numpy-mnist-handwriting-recognition-matplotlib-a6b31e2b166a"
   ]
  },
  {
   "cell_type": "code",
   "execution_count": 25,
   "metadata": {},
   "outputs": [],
   "source": [
    "import numpy as np\n",
    "import pandas as pd\n",
    "from sklearn.datasets import load_iris\n",
    "\n",
    "iris = load_iris()\n",
    "df = pd.DataFrame(data= np.c_[iris['data'], iris['target']],\n",
    "                     columns= iris['feature_names'] + ['target'])"
   ]
  },
  {
   "cell_type": "code",
   "execution_count": 26,
   "metadata": {},
   "outputs": [],
   "source": [
    "df = op.create.dataframe(df)"
   ]
  },
  {
   "cell_type": "code",
   "execution_count": 27,
   "metadata": {},
   "outputs": [
    {
     "data": {
      "text/plain": [
       "array(['setosa', 'versicolor', 'virginica'], dtype='<U10')"
      ]
     },
     "execution_count": 27,
     "metadata": {},
     "output_type": "execute_result"
    }
   ],
   "source": [
    "iris.target_names"
   ]
  },
  {
   "cell_type": "code",
   "execution_count": 44,
   "metadata": {},
   "outputs": [
    {
     "name": "stdout",
     "output_type": "stream",
     "text": [
      "  sepal length (cm)    sepal width (cm)    petal length (cm)    petal width (cm)       target\n",
      "          (float64)           (float64)            (float64)           (float64)    (float64)\n",
      "-------------------  ------------------  -------------------  ------------------  -----------\n",
      "                5.1                 3.5                  1.4                 0.2            0\n",
      "                4.9                 3                    1.4                 0.2            0\n",
      "                4.7                 3.2                  1.3                 0.2            0\n",
      "                4.6                 3.1                  1.5                 0.2            0\n",
      "                5                   3.6                  1.4                 0.2            0\n",
      "                5.4                 3.9                  1.7                 0.4            0\n",
      "                4.6                 3.4                  1.4                 0.3            0\n",
      "                5                   3.4                  1.5                 0.2            0\n",
      "                4.4                 2.9                  1.4                 0.2            0\n"
     ]
    }
   ],
   "source": [
    "df.print()"
   ]
  },
  {
   "cell_type": "code",
   "execution_count": 29,
   "metadata": {},
   "outputs": [],
   "source": [
    "lr = df.ml.logistic_regression([0,1,2,3],\"target\", test_size=0.2)"
   ]
  },
  {
   "cell_type": "code",
   "execution_count": 30,
   "metadata": {},
   "outputs": [
    {
     "data": {
      "text/plain": [
       "[0.0]"
      ]
     },
     "execution_count": 30,
     "metadata": {},
     "output_type": "execute_result"
    }
   ],
   "source": [
    "lr.predict([[5.1,3.5,1.4,0.2]])"
   ]
  },
  {
   "cell_type": "code",
   "execution_count": 31,
   "metadata": {},
   "outputs": [
    {
     "data": {
      "text/plain": [
       "[[0.876409999377024, 0.12355539519727043, 3.460542570566982e-05]]"
      ]
     },
     "execution_count": 31,
     "metadata": {},
     "output_type": "execute_result"
    }
   ],
   "source": [
    "lr.predict_proba([[5.1,3.5,1.4,0.2]])"
   ]
  },
  {
   "cell_type": "code",
   "execution_count": 32,
   "metadata": {},
   "outputs": [
    {
     "data": {
      "text/plain": [
       "{'accuracy': 0.94, 'standard deviation': 0.9}"
      ]
     },
     "execution_count": 32,
     "metadata": {},
     "output_type": "execute_result"
    }
   ],
   "source": [
    "lr.evaluate()"
   ]
  },
  {
   "cell_type": "code",
   "execution_count": 33,
   "metadata": {},
   "outputs": [
    {
     "name": "stderr",
     "output_type": "stream",
     "text": [
      "C:\\Users\\argenisleon\\AppData\\Roaming\\Python\\Python37\\site-packages\\sklearn\\utils\\validation.py:63: DataConversionWarning: A column-vector y was passed when a 1d array was expected. Please change the shape of y to (n_samples, ), for example using ravel().\n",
      "  return f(*args, **kwargs)\n"
     ]
    },
    {
     "data": {
      "image/png": "[encoded data removed]",
      "text/plain": [
       "<Figure size 576x396 with 1 Axes>"
      ]
     },
     "metadata": {},
     "output_type": "display_data"
    }
   ],
   "source": [
    "lr.confusion_matrix()"
   ]
  },
  {
   "cell_type": "code",
   "execution_count": 34,
   "metadata": {},
   "outputs": [
    {
     "data": {
      "text/plain": [
       "'0.24.1'"
      ]
     },
     "execution_count": 34,
     "metadata": {},
     "output_type": "execute_result"
    }
   ],
   "source": [
    "import sklearn\n",
    "sklearn.__version__\n",
    "\n",
    "# !pip install --upgrade --force-reinstall --user sklearn"
   ]
  },
  {
   "cell_type": "code",
   "execution_count": 35,
   "metadata": {},
   "outputs": [
    {
     "data": {
      "image/png": "[encoded data removed]",
      "text/plain": [
       "<Figure size 576x396 with 1 Axes>"
      ]
     },
     "metadata": {},
     "output_type": "display_data"
    }
   ],
   "source": [
    "lr.roc_auc()"
   ]
  },
  {
   "cell_type": "code",
   "execution_count": 36,
   "metadata": {},
   "outputs": [
    {
     "data": {
      "image/png": "[encoded data removed]",
      "text/plain": [
       "<Figure size 576x396 with 1 Axes>"
      ]
     },
     "metadata": {},
     "output_type": "display_data"
    }
   ],
   "source": [
    "lr.precision_recall()"
   ]
  },
  {
   "cell_type": "code",
   "execution_count": null,
   "metadata": {},
   "outputs": [],
   "source": []
  },
  {
   "cell_type": "markdown",
   "metadata": {},
   "source": [
    "ROC https://medium.com/@douglaspsteen/precision-recall-curves-d32e5b290248#:~:text=The%20precision%2Drecall%20curve%20is%20constructed%20by%20calculating%20and%20plotting,belonging%20to%20the%20positive%20class.\n",
    "\n",
    "\n",
    "https://towardsdatascience.com/understanding-the-roc-curve-and-auc-dd4f9a192ecb\n",
    "precision, recall, F1 Score, ROC Curve, etc"
   ]
  },
  {
   "cell_type": "markdown",
   "metadata": {},
   "source": [
    "## Random Forest"
   ]
  },
  {
   "cell_type": "markdown",
   "metadata": {},
   "source": [
    "https://medium.com/analytics-vidhya/evaluating-a-random-forest-model-9d165595ad56"
   ]
  },
  {
   "cell_type": "code",
   "execution_count": 63,
   "metadata": {},
   "outputs": [
    {
     "name": "stdout",
     "output_type": "stream",
     "text": [
      "model <optimus.engines.pandas.ml.models.Model object at 0x00000259F6EF1948>\n"
     ]
    },
    {
     "name": "stderr",
     "output_type": "stream",
     "text": [
      "C:\\Users\\argenisleon\\AppData\\Roaming\\Python\\Python37\\site-packages\\sklearn\\utils\\validation.py:72: FutureWarning: Pass criterion=mse, max_depth=None, min_samples_split=2, min_samples_leaf=1, min_weight_fraction_leaf=0.0, max_features=auto, max_leaf_nodes=None, min_impurity_decrease=0.0, min_impurity_split=None, bootstrap=True, oob_score=False, n_jobs=None, random_state=0, verbose=0, warm_start=False, ccp_alpha=0.0, max_samples=None as keyword args. From version 1.0 (renaming of 0.25) passing these as positional arguments will result in an error\n",
      "  \"will result in an error\", FutureWarning)\n"
     ]
    },
    {
     "ename": "TypeError",
     "evalue": "'NoneType' object is not callable",
     "output_type": "error",
     "traceback": [
      "\u001b[1;31m---------------------------------------------------------------------------\u001b[0m",
      "\u001b[1;31mTypeError\u001b[0m                                 Traceback (most recent call last)",
      "\u001b[1;32m<ipython-input-63-fbd4a5a377cd>\u001b[0m in \u001b[0;36m<module>\u001b[1;34m\u001b[0m\n\u001b[0;32m      1\u001b[0m \u001b[0mrf\u001b[0m \u001b[1;33m=\u001b[0m \u001b[0mdf\u001b[0m\u001b[1;33m.\u001b[0m\u001b[0mml\u001b[0m\u001b[1;33m.\u001b[0m\u001b[0mrandom_forest\u001b[0m\u001b[1;33m(\u001b[0m\u001b[1;34m\"height\"\u001b[0m\u001b[1;33m,\u001b[0m\u001b[1;34m\"d_weight\"\u001b[0m\u001b[1;33m,\u001b[0m \u001b[0mtest_size\u001b[0m\u001b[1;33m=\u001b[0m\u001b[1;36m0.2\u001b[0m\u001b[1;33m,\u001b[0m\u001b[0mfit_intercept\u001b[0m\u001b[1;33m=\u001b[0m\u001b[1;32mFalse\u001b[0m\u001b[1;33m,\u001b[0m\u001b[1;33m)\u001b[0m\u001b[1;33m\u001b[0m\u001b[1;33m\u001b[0m\u001b[0m\n\u001b[1;32m----> 2\u001b[1;33m \u001b[0mrf\u001b[0m\u001b[1;33m.\u001b[0m\u001b[0mscore\u001b[0m\u001b[1;33m(\u001b[0m\u001b[1;33m)\u001b[0m\u001b[1;33m\u001b[0m\u001b[1;33m\u001b[0m\u001b[0m\n\u001b[0m\u001b[0;32m      3\u001b[0m \u001b[1;31m# df.ml.random_forest([\"reclat\",\"reclong\"],\"mass (g)\", test_size=0.2, n_estimators=100)\u001b[0m\u001b[1;33m\u001b[0m\u001b[1;33m\u001b[0m\u001b[1;33m\u001b[0m\u001b[0m\n",
      "\u001b[1;31mTypeError\u001b[0m: 'NoneType' object is not callable"
     ]
    }
   ],
   "source": [
    "rf = df.ml.random_forest(\"height\",\"d_weight\", test_size=0.2,fit_intercept=False,)\n",
    "rf.score()\n",
    "# df.ml.random_forest([\"reclat\",\"reclong\"],\"mass (g)\", test_size=0.2, n_estimators=100)"
   ]
  },
  {
   "cell_type": "code",
   "execution_count": 91,
   "metadata": {},
   "outputs": [
    {
     "data": {
      "image/png": "[encoded data removed]",
      "text/plain": [
       "<Figure size 432x288 with 1 Axes>"
      ]
     },
     "metadata": {},
     "output_type": "display_data"
    }
   ],
   "source": [
    "rf.plot()"
   ]
  },
  {
   "cell_type": "code",
   "execution_count": null,
   "metadata": {},
   "outputs": [],
   "source": [
    "rf = df.ml.random_forest([\"length\",\"width\",\"height\"],\"weight\", test_size=0.2,fit_intercept=False,)\n",
    "rf.score()\n",
    "# df.ml.random_forest([\"reclat\",\"reclong\"],\"mass (g)\", test_size=0.2, n_estimators=100)"
   ]
  },
  {
   "cell_type": "code",
   "execution_count": 83,
   "metadata": {},
   "outputs": [
    {
     "data": {
      "text/plain": [
       "{'mean_absolute_error': 1.9681966786884082,\n",
       " 'mean_squared_error': 6.834247717452712,\n",
       " 'root_mean_squared_error': 2.6142394147156285,\n",
       " 'r_square': 0.9848325157200486}"
      ]
     },
     "execution_count": 83,
     "metadata": {},
     "output_type": "execute_result"
    }
   ],
   "source": [
    "rf.eval()"
   ]
  },
  {
   "cell_type": "code",
   "execution_count": 653,
   "metadata": {},
   "outputs": [
    {
     "data": {
      "image/png": "[encoded data removed]",
      "text/plain": [
       "<Figure size 432x288 with 1 Axes>"
      ]
     },
     "metadata": {},
     "output_type": "display_data"
    }
   ],
   "source": [
    "rf.plot()"
   ]
  },
  {
   "cell_type": "markdown",
   "metadata": {},
   "source": [
    "## KMeans"
   ]
  },
  {
   "cell_type": "markdown",
   "metadata": {},
   "source": [
    "https://scikit-learn.org/stable/modules/clustering.html#clustering-evaluation\n",
    "\n",
    "Clustering performace evaluation\n",
    "https://scikit-learn.org/stable/modules/clustering.html#clustering-performance-evaluation"
   ]
  },
  {
   "cell_type": "code",
   "execution_count": 36,
   "metadata": {},
   "outputs": [
    {
     "data": {
      "text/html": [
       "\n",
       "\n",
       "\n",
       "\n",
       "\n",
       "<div class=\"info_items\" style=\"margin: 10px 0; font-family: sans-serif; font-size: 10px;\">Viewing 10 of 150 rows / 5 columns</div>\n",
       "<div class=\"info_items\" style=\"margin: 10px 0; font-family: sans-serif; font-size: 10px;\">1 partition(s) </div>\n",
       "\n",
       "\n",
       "<table class=\"optimus_table\" style=\"font-size: 12px;\">\n",
       "    <thead style=\"border-bottom: 1px solid black;\">\n",
       "    <tr>\n",
       "        \n",
       "        <th style=\"font-family: sans-serif;\">\n",
       "            <div class=\"column_name\" style=\"font-size: 1.2em;\">sepal length (cm)</div>\n",
       "            <div class=\"data_type\" style=\"font-size: 0.8em; font-weight: normal;\">1 (float64)</div>\n",
       "            <div class=\"data_type\" style=\"font-size: 0.8em; font-weight: normal;\">\n",
       "                \n",
       "                not nullable\n",
       "                \n",
       "            </div>\n",
       "        </th>\n",
       "        \n",
       "        <th style=\"font-family: sans-serif;\">\n",
       "            <div class=\"column_name\" style=\"font-size: 1.2em;\">sepal width (cm)</div>\n",
       "            <div class=\"data_type\" style=\"font-size: 0.8em; font-weight: normal;\">2 (float64)</div>\n",
       "            <div class=\"data_type\" style=\"font-size: 0.8em; font-weight: normal;\">\n",
       "                \n",
       "                not nullable\n",
       "                \n",
       "            </div>\n",
       "        </th>\n",
       "        \n",
       "        <th style=\"font-family: sans-serif;\">\n",
       "            <div class=\"column_name\" style=\"font-size: 1.2em;\">petal length (cm)</div>\n",
       "            <div class=\"data_type\" style=\"font-size: 0.8em; font-weight: normal;\">3 (float64)</div>\n",
       "            <div class=\"data_type\" style=\"font-size: 0.8em; font-weight: normal;\">\n",
       "                \n",
       "                not nullable\n",
       "                \n",
       "            </div>\n",
       "        </th>\n",
       "        \n",
       "        <th style=\"font-family: sans-serif;\">\n",
       "            <div class=\"column_name\" style=\"font-size: 1.2em;\">petal width (cm)</div>\n",
       "            <div class=\"data_type\" style=\"font-size: 0.8em; font-weight: normal;\">4 (float64)</div>\n",
       "            <div class=\"data_type\" style=\"font-size: 0.8em; font-weight: normal;\">\n",
       "                \n",
       "                not nullable\n",
       "                \n",
       "            </div>\n",
       "        </th>\n",
       "        \n",
       "        <th style=\"font-family: sans-serif;\">\n",
       "            <div class=\"column_name\" style=\"font-size: 1.2em;\">target</div>\n",
       "            <div class=\"data_type\" style=\"font-size: 0.8em; font-weight: normal;\">5 (float64)</div>\n",
       "            <div class=\"data_type\" style=\"font-size: 0.8em; font-weight: normal;\">\n",
       "                \n",
       "                not nullable\n",
       "                \n",
       "            </div>\n",
       "        </th>\n",
       "        \n",
       "    </tr>\n",
       "\n",
       "    </thead>\n",
       "    <tbody style=\"font-family: monospace; border-bottom: 1px solid #cccccc;\">\n",
       "    \n",
       "    <tr>\n",
       "        \n",
       "        <td style=\"border: 0px;\">\n",
       "            <div style=\"min-height: 14px;\" title=\"5.1\">\n",
       "                \n",
       "                5.1\n",
       "                 \n",
       "            </div>\n",
       "        </td>\n",
       "        \n",
       "        <td style=\"border: 0px;\">\n",
       "            <div style=\"min-height: 14px;\" title=\"3.5\">\n",
       "                \n",
       "                3.5\n",
       "                 \n",
       "            </div>\n",
       "        </td>\n",
       "        \n",
       "        <td style=\"border: 0px;\">\n",
       "            <div style=\"min-height: 14px;\" title=\"1.4\">\n",
       "                \n",
       "                1.4\n",
       "                 \n",
       "            </div>\n",
       "        </td>\n",
       "        \n",
       "        <td style=\"border: 0px;\">\n",
       "            <div style=\"min-height: 14px;\" title=\"0.2\">\n",
       "                \n",
       "                0.2\n",
       "                 \n",
       "            </div>\n",
       "        </td>\n",
       "        \n",
       "        <td style=\"border: 0px;\">\n",
       "            <div style=\"min-height: 14px;\" title=\"0.0\">\n",
       "                \n",
       "                0.0\n",
       "                 \n",
       "            </div>\n",
       "        </td>\n",
       "        \n",
       "    </tr>\n",
       "    \n",
       "    <tr>\n",
       "        \n",
       "        <td style=\"border: 0px;\">\n",
       "            <div style=\"min-height: 14px;\" title=\"4.9\">\n",
       "                \n",
       "                4.9\n",
       "                 \n",
       "            </div>\n",
       "        </td>\n",
       "        \n",
       "        <td style=\"border: 0px;\">\n",
       "            <div style=\"min-height: 14px;\" title=\"3.0\">\n",
       "                \n",
       "                3.0\n",
       "                 \n",
       "            </div>\n",
       "        </td>\n",
       "        \n",
       "        <td style=\"border: 0px;\">\n",
       "            <div style=\"min-height: 14px;\" title=\"1.4\">\n",
       "                \n",
       "                1.4\n",
       "                 \n",
       "            </div>\n",
       "        </td>\n",
       "        \n",
       "        <td style=\"border: 0px;\">\n",
       "            <div style=\"min-height: 14px;\" title=\"0.2\">\n",
       "                \n",
       "                0.2\n",
       "                 \n",
       "            </div>\n",
       "        </td>\n",
       "        \n",
       "        <td style=\"border: 0px;\">\n",
       "            <div style=\"min-height: 14px;\" title=\"0.0\">\n",
       "                \n",
       "                0.0\n",
       "                 \n",
       "            </div>\n",
       "        </td>\n",
       "        \n",
       "    </tr>\n",
       "    \n",
       "    <tr>\n",
       "        \n",
       "        <td style=\"border: 0px;\">\n",
       "            <div style=\"min-height: 14px;\" title=\"4.7\">\n",
       "                \n",
       "                4.7\n",
       "                 \n",
       "            </div>\n",
       "        </td>\n",
       "        \n",
       "        <td style=\"border: 0px;\">\n",
       "            <div style=\"min-height: 14px;\" title=\"3.2\">\n",
       "                \n",
       "                3.2\n",
       "                 \n",
       "            </div>\n",
       "        </td>\n",
       "        \n",
       "        <td style=\"border: 0px;\">\n",
       "            <div style=\"min-height: 14px;\" title=\"1.3\">\n",
       "                \n",
       "                1.3\n",
       "                 \n",
       "            </div>\n",
       "        </td>\n",
       "        \n",
       "        <td style=\"border: 0px;\">\n",
       "            <div style=\"min-height: 14px;\" title=\"0.2\">\n",
       "                \n",
       "                0.2\n",
       "                 \n",
       "            </div>\n",
       "        </td>\n",
       "        \n",
       "        <td style=\"border: 0px;\">\n",
       "            <div style=\"min-height: 14px;\" title=\"0.0\">\n",
       "                \n",
       "                0.0\n",
       "                 \n",
       "            </div>\n",
       "        </td>\n",
       "        \n",
       "    </tr>\n",
       "    \n",
       "    <tr>\n",
       "        \n",
       "        <td style=\"border: 0px;\">\n",
       "            <div style=\"min-height: 14px;\" title=\"4.6\">\n",
       "                \n",
       "                4.6\n",
       "                 \n",
       "            </div>\n",
       "        </td>\n",
       "        \n",
       "        <td style=\"border: 0px;\">\n",
       "            <div style=\"min-height: 14px;\" title=\"3.1\">\n",
       "                \n",
       "                3.1\n",
       "                 \n",
       "            </div>\n",
       "        </td>\n",
       "        \n",
       "        <td style=\"border: 0px;\">\n",
       "            <div style=\"min-height: 14px;\" title=\"1.5\">\n",
       "                \n",
       "                1.5\n",
       "                 \n",
       "            </div>\n",
       "        </td>\n",
       "        \n",
       "        <td style=\"border: 0px;\">\n",
       "            <div style=\"min-height: 14px;\" title=\"0.2\">\n",
       "                \n",
       "                0.2\n",
       "                 \n",
       "            </div>\n",
       "        </td>\n",
       "        \n",
       "        <td style=\"border: 0px;\">\n",
       "            <div style=\"min-height: 14px;\" title=\"0.0\">\n",
       "                \n",
       "                0.0\n",
       "                 \n",
       "            </div>\n",
       "        </td>\n",
       "        \n",
       "    </tr>\n",
       "    \n",
       "    <tr>\n",
       "        \n",
       "        <td style=\"border: 0px;\">\n",
       "            <div style=\"min-height: 14px;\" title=\"5.0\">\n",
       "                \n",
       "                5.0\n",
       "                 \n",
       "            </div>\n",
       "        </td>\n",
       "        \n",
       "        <td style=\"border: 0px;\">\n",
       "            <div style=\"min-height: 14px;\" title=\"3.6\">\n",
       "                \n",
       "                3.6\n",
       "                 \n",
       "            </div>\n",
       "        </td>\n",
       "        \n",
       "        <td style=\"border: 0px;\">\n",
       "            <div style=\"min-height: 14px;\" title=\"1.4\">\n",
       "                \n",
       "                1.4\n",
       "                 \n",
       "            </div>\n",
       "        </td>\n",
       "        \n",
       "        <td style=\"border: 0px;\">\n",
       "            <div style=\"min-height: 14px;\" title=\"0.2\">\n",
       "                \n",
       "                0.2\n",
       "                 \n",
       "            </div>\n",
       "        </td>\n",
       "        \n",
       "        <td style=\"border: 0px;\">\n",
       "            <div style=\"min-height: 14px;\" title=\"0.0\">\n",
       "                \n",
       "                0.0\n",
       "                 \n",
       "            </div>\n",
       "        </td>\n",
       "        \n",
       "    </tr>\n",
       "    \n",
       "    <tr>\n",
       "        \n",
       "        <td style=\"border: 0px;\">\n",
       "            <div style=\"min-height: 14px;\" title=\"5.4\">\n",
       "                \n",
       "                5.4\n",
       "                 \n",
       "            </div>\n",
       "        </td>\n",
       "        \n",
       "        <td style=\"border: 0px;\">\n",
       "            <div style=\"min-height: 14px;\" title=\"3.9\">\n",
       "                \n",
       "                3.9\n",
       "                 \n",
       "            </div>\n",
       "        </td>\n",
       "        \n",
       "        <td style=\"border: 0px;\">\n",
       "            <div style=\"min-height: 14px;\" title=\"1.7\">\n",
       "                \n",
       "                1.7\n",
       "                 \n",
       "            </div>\n",
       "        </td>\n",
       "        \n",
       "        <td style=\"border: 0px;\">\n",
       "            <div style=\"min-height: 14px;\" title=\"0.4\">\n",
       "                \n",
       "                0.4\n",
       "                 \n",
       "            </div>\n",
       "        </td>\n",
       "        \n",
       "        <td style=\"border: 0px;\">\n",
       "            <div style=\"min-height: 14px;\" title=\"0.0\">\n",
       "                \n",
       "                0.0\n",
       "                 \n",
       "            </div>\n",
       "        </td>\n",
       "        \n",
       "    </tr>\n",
       "    \n",
       "    <tr>\n",
       "        \n",
       "        <td style=\"border: 0px;\">\n",
       "            <div style=\"min-height: 14px;\" title=\"4.6\">\n",
       "                \n",
       "                4.6\n",
       "                 \n",
       "            </div>\n",
       "        </td>\n",
       "        \n",
       "        <td style=\"border: 0px;\">\n",
       "            <div style=\"min-height: 14px;\" title=\"3.4\">\n",
       "                \n",
       "                3.4\n",
       "                 \n",
       "            </div>\n",
       "        </td>\n",
       "        \n",
       "        <td style=\"border: 0px;\">\n",
       "            <div style=\"min-height: 14px;\" title=\"1.4\">\n",
       "                \n",
       "                1.4\n",
       "                 \n",
       "            </div>\n",
       "        </td>\n",
       "        \n",
       "        <td style=\"border: 0px;\">\n",
       "            <div style=\"min-height: 14px;\" title=\"0.3\">\n",
       "                \n",
       "                0.3\n",
       "                 \n",
       "            </div>\n",
       "        </td>\n",
       "        \n",
       "        <td style=\"border: 0px;\">\n",
       "            <div style=\"min-height: 14px;\" title=\"0.0\">\n",
       "                \n",
       "                0.0\n",
       "                 \n",
       "            </div>\n",
       "        </td>\n",
       "        \n",
       "    </tr>\n",
       "    \n",
       "    <tr>\n",
       "        \n",
       "        <td style=\"border: 0px;\">\n",
       "            <div style=\"min-height: 14px;\" title=\"5.0\">\n",
       "                \n",
       "                5.0\n",
       "                 \n",
       "            </div>\n",
       "        </td>\n",
       "        \n",
       "        <td style=\"border: 0px;\">\n",
       "            <div style=\"min-height: 14px;\" title=\"3.4\">\n",
       "                \n",
       "                3.4\n",
       "                 \n",
       "            </div>\n",
       "        </td>\n",
       "        \n",
       "        <td style=\"border: 0px;\">\n",
       "            <div style=\"min-height: 14px;\" title=\"1.5\">\n",
       "                \n",
       "                1.5\n",
       "                 \n",
       "            </div>\n",
       "        </td>\n",
       "        \n",
       "        <td style=\"border: 0px;\">\n",
       "            <div style=\"min-height: 14px;\" title=\"0.2\">\n",
       "                \n",
       "                0.2\n",
       "                 \n",
       "            </div>\n",
       "        </td>\n",
       "        \n",
       "        <td style=\"border: 0px;\">\n",
       "            <div style=\"min-height: 14px;\" title=\"0.0\">\n",
       "                \n",
       "                0.0\n",
       "                 \n",
       "            </div>\n",
       "        </td>\n",
       "        \n",
       "    </tr>\n",
       "    \n",
       "    <tr>\n",
       "        \n",
       "        <td style=\"border: 0px;\">\n",
       "            <div style=\"min-height: 14px;\" title=\"4.4\">\n",
       "                \n",
       "                4.4\n",
       "                 \n",
       "            </div>\n",
       "        </td>\n",
       "        \n",
       "        <td style=\"border: 0px;\">\n",
       "            <div style=\"min-height: 14px;\" title=\"2.9\">\n",
       "                \n",
       "                2.9\n",
       "                 \n",
       "            </div>\n",
       "        </td>\n",
       "        \n",
       "        <td style=\"border: 0px;\">\n",
       "            <div style=\"min-height: 14px;\" title=\"1.4\">\n",
       "                \n",
       "                1.4\n",
       "                 \n",
       "            </div>\n",
       "        </td>\n",
       "        \n",
       "        <td style=\"border: 0px;\">\n",
       "            <div style=\"min-height: 14px;\" title=\"0.2\">\n",
       "                \n",
       "                0.2\n",
       "                 \n",
       "            </div>\n",
       "        </td>\n",
       "        \n",
       "        <td style=\"border: 0px;\">\n",
       "            <div style=\"min-height: 14px;\" title=\"0.0\">\n",
       "                \n",
       "                0.0\n",
       "                 \n",
       "            </div>\n",
       "        </td>\n",
       "        \n",
       "    </tr>\n",
       "    \n",
       "    </tbody>\n",
       "</table>\n",
       "\n",
       "<div class=\"info_items\" style=\"margin: 10px 0; font-family: sans-serif; font-size: 10px;\">Viewing 10 of 150 rows / 5 columns</div>\n",
       "<div class=\"info_items\" style=\"margin: 10px 0; font-family: sans-serif; font-size: 10px;\">1 partition(s) &lt;class &#39;optimus.engines.pandas.dataframe.PandasDataFrame&#39;&gt;</div>\n",
       "\n"
      ],
      "text/plain": [
       "<IPython.core.display.HTML object>"
      ]
     },
     "metadata": {},
     "output_type": "display_data"
    }
   ],
   "source": [
    "df.display()"
   ]
  },
  {
   "cell_type": "code",
   "execution_count": 37,
   "metadata": {},
   "outputs": [],
   "source": [
    "km = df.ml.k_means([0,1,2,3],\"target\",3, methods=[\"k-means++\"])\n",
    "# km = df.ml.k_means([0,1,2,3],\"target\",3, methods=[\"random\",\"k-means++\"])"
   ]
  },
  {
   "cell_type": "code",
   "execution_count": 38,
   "metadata": {},
   "outputs": [
    {
     "data": {
      "text/plain": [
       "[0, 1]"
      ]
     },
     "execution_count": 38,
     "metadata": {},
     "output_type": "execute_result"
    }
   ],
   "source": [
    "km.predict([[5.1,3.5,1.4,0.2],[6.2,2.9,4.3,1.3]])\n",
    "# km.predict([[5.1,3.5,1.4,0.2]])"
   ]
  },
  {
   "cell_type": "code",
   "execution_count": 39,
   "metadata": {},
   "outputs": [
    {
     "data": {
      "text/plain": [
       "{'inertia': 139.82049635974974,\n",
       " 'homogeneity_score': 0.6591265018049008,\n",
       " 'completeness_score': 0.6598476779627759,\n",
       " 'v_measure_score': 0.659486892724918,\n",
       " 'adjusted_rand_score': 0.6201351808870379,\n",
       " 'adjusted_mutual_info_score': 0.6552228479234864,\n",
       " 'silhouette_score': 0.5061527484935536}"
      ]
     },
     "execution_count": 39,
     "metadata": {},
     "output_type": "execute_result"
    }
   ],
   "source": [
    "km.scores()"
   ]
  },
  {
   "cell_type": "code",
   "execution_count": 46,
   "metadata": {},
   "outputs": [
    {
     "data": {
      "image/png": "[encoded data removed]",
      "text/plain": [
       "<Figure size 576x396 with 1 Axes>"
      ]
     },
     "metadata": {},
     "output_type": "display_data"
    }
   ],
   "source": [
    "km.plot_clusters()"
   ]
  },
  {
   "cell_type": "code",
   "execution_count": 62,
   "metadata": {},
   "outputs": [
    {
     "data": {
      "image/png": "[encoded data removed]",
      "text/plain": [
       "<Figure size 576x396 with 2 Axes>"
      ]
     },
     "metadata": {},
     "output_type": "display_data"
    }
   ],
   "source": [
    "km.plot_elbow(2,8)"
   ]
  },
  {
   "cell_type": "markdown",
   "metadata": {},
   "source": [
    "## PCA\n",
    "https://towardsdatascience.com/pca-using-python-scikit-learn-e653f8989e60"
   ]
  },
  {
   "cell_type": "code",
   "execution_count": 65,
   "metadata": {},
   "outputs": [
    {
     "data": {
      "text/html": [
       "\n",
       "\n",
       "\n",
       "\n",
       "\n",
       "<div class=\"info_items\" style=\"margin: 10px 0; font-family: sans-serif; font-size: 10px;\">Viewing 10 of 150 rows / 5 columns</div>\n",
       "<div class=\"info_items\" style=\"margin: 10px 0; font-family: sans-serif; font-size: 10px;\">1 partition(s) </div>\n",
       "\n",
       "\n",
       "<table class=\"optimus_table\" style=\"font-size: 12px;\">\n",
       "    <thead style=\"border-bottom: 1px solid black;\">\n",
       "    <tr>\n",
       "        \n",
       "        <th style=\"font-family: sans-serif;\">\n",
       "            <div class=\"column_name\" style=\"font-size: 1.2em;\">sepal length (cm)</div>\n",
       "            <div class=\"data_type\" style=\"font-size: 0.8em; font-weight: normal;\">1 (float64)</div>\n",
       "            <div class=\"data_type\" style=\"font-size: 0.8em; font-weight: normal;\">\n",
       "                \n",
       "                not nullable\n",
       "                \n",
       "            </div>\n",
       "        </th>\n",
       "        \n",
       "        <th style=\"font-family: sans-serif;\">\n",
       "            <div class=\"column_name\" style=\"font-size: 1.2em;\">sepal width (cm)</div>\n",
       "            <div class=\"data_type\" style=\"font-size: 0.8em; font-weight: normal;\">2 (float64)</div>\n",
       "            <div class=\"data_type\" style=\"font-size: 0.8em; font-weight: normal;\">\n",
       "                \n",
       "                not nullable\n",
       "                \n",
       "            </div>\n",
       "        </th>\n",
       "        \n",
       "        <th style=\"font-family: sans-serif;\">\n",
       "            <div class=\"column_name\" style=\"font-size: 1.2em;\">petal length (cm)</div>\n",
       "            <div class=\"data_type\" style=\"font-size: 0.8em; font-weight: normal;\">3 (float64)</div>\n",
       "            <div class=\"data_type\" style=\"font-size: 0.8em; font-weight: normal;\">\n",
       "                \n",
       "                not nullable\n",
       "                \n",
       "            </div>\n",
       "        </th>\n",
       "        \n",
       "        <th style=\"font-family: sans-serif;\">\n",
       "            <div class=\"column_name\" style=\"font-size: 1.2em;\">petal width (cm)</div>\n",
       "            <div class=\"data_type\" style=\"font-size: 0.8em; font-weight: normal;\">4 (float64)</div>\n",
       "            <div class=\"data_type\" style=\"font-size: 0.8em; font-weight: normal;\">\n",
       "                \n",
       "                not nullable\n",
       "                \n",
       "            </div>\n",
       "        </th>\n",
       "        \n",
       "        <th style=\"font-family: sans-serif;\">\n",
       "            <div class=\"column_name\" style=\"font-size: 1.2em;\">target</div>\n",
       "            <div class=\"data_type\" style=\"font-size: 0.8em; font-weight: normal;\">5 (float64)</div>\n",
       "            <div class=\"data_type\" style=\"font-size: 0.8em; font-weight: normal;\">\n",
       "                \n",
       "                not nullable\n",
       "                \n",
       "            </div>\n",
       "        </th>\n",
       "        \n",
       "    </tr>\n",
       "\n",
       "    </thead>\n",
       "    <tbody style=\"font-family: monospace; border-bottom: 1px solid #cccccc;\">\n",
       "    \n",
       "    <tr>\n",
       "        \n",
       "        <td style=\"border: 0px;\">\n",
       "            <div style=\"min-height: 14px;\" title=\"5.1\">\n",
       "                \n",
       "                5.1\n",
       "                 \n",
       "            </div>\n",
       "        </td>\n",
       "        \n",
       "        <td style=\"border: 0px;\">\n",
       "            <div style=\"min-height: 14px;\" title=\"3.5\">\n",
       "                \n",
       "                3.5\n",
       "                 \n",
       "            </div>\n",
       "        </td>\n",
       "        \n",
       "        <td style=\"border: 0px;\">\n",
       "            <div style=\"min-height: 14px;\" title=\"1.4\">\n",
       "                \n",
       "                1.4\n",
       "                 \n",
       "            </div>\n",
       "        </td>\n",
       "        \n",
       "        <td style=\"border: 0px;\">\n",
       "            <div style=\"min-height: 14px;\" title=\"0.2\">\n",
       "                \n",
       "                0.2\n",
       "                 \n",
       "            </div>\n",
       "        </td>\n",
       "        \n",
       "        <td style=\"border: 0px;\">\n",
       "            <div style=\"min-height: 14px;\" title=\"0.0\">\n",
       "                \n",
       "                0.0\n",
       "                 \n",
       "            </div>\n",
       "        </td>\n",
       "        \n",
       "    </tr>\n",
       "    \n",
       "    <tr>\n",
       "        \n",
       "        <td style=\"border: 0px;\">\n",
       "            <div style=\"min-height: 14px;\" title=\"4.9\">\n",
       "                \n",
       "                4.9\n",
       "                 \n",
       "            </div>\n",
       "        </td>\n",
       "        \n",
       "        <td style=\"border: 0px;\">\n",
       "            <div style=\"min-height: 14px;\" title=\"3.0\">\n",
       "                \n",
       "                3.0\n",
       "                 \n",
       "            </div>\n",
       "        </td>\n",
       "        \n",
       "        <td style=\"border: 0px;\">\n",
       "            <div style=\"min-height: 14px;\" title=\"1.4\">\n",
       "                \n",
       "                1.4\n",
       "                 \n",
       "            </div>\n",
       "        </td>\n",
       "        \n",
       "        <td style=\"border: 0px;\">\n",
       "            <div style=\"min-height: 14px;\" title=\"0.2\">\n",
       "                \n",
       "                0.2\n",
       "                 \n",
       "            </div>\n",
       "        </td>\n",
       "        \n",
       "        <td style=\"border: 0px;\">\n",
       "            <div style=\"min-height: 14px;\" title=\"0.0\">\n",
       "                \n",
       "                0.0\n",
       "                 \n",
       "            </div>\n",
       "        </td>\n",
       "        \n",
       "    </tr>\n",
       "    \n",
       "    <tr>\n",
       "        \n",
       "        <td style=\"border: 0px;\">\n",
       "            <div style=\"min-height: 14px;\" title=\"4.7\">\n",
       "                \n",
       "                4.7\n",
       "                 \n",
       "            </div>\n",
       "        </td>\n",
       "        \n",
       "        <td style=\"border: 0px;\">\n",
       "            <div style=\"min-height: 14px;\" title=\"3.2\">\n",
       "                \n",
       "                3.2\n",
       "                 \n",
       "            </div>\n",
       "        </td>\n",
       "        \n",
       "        <td style=\"border: 0px;\">\n",
       "            <div style=\"min-height: 14px;\" title=\"1.3\">\n",
       "                \n",
       "                1.3\n",
       "                 \n",
       "            </div>\n",
       "        </td>\n",
       "        \n",
       "        <td style=\"border: 0px;\">\n",
       "            <div style=\"min-height: 14px;\" title=\"0.2\">\n",
       "                \n",
       "                0.2\n",
       "                 \n",
       "            </div>\n",
       "        </td>\n",
       "        \n",
       "        <td style=\"border: 0px;\">\n",
       "            <div style=\"min-height: 14px;\" title=\"0.0\">\n",
       "                \n",
       "                0.0\n",
       "                 \n",
       "            </div>\n",
       "        </td>\n",
       "        \n",
       "    </tr>\n",
       "    \n",
       "    <tr>\n",
       "        \n",
       "        <td style=\"border: 0px;\">\n",
       "            <div style=\"min-height: 14px;\" title=\"4.6\">\n",
       "                \n",
       "                4.6\n",
       "                 \n",
       "            </div>\n",
       "        </td>\n",
       "        \n",
       "        <td style=\"border: 0px;\">\n",
       "            <div style=\"min-height: 14px;\" title=\"3.1\">\n",
       "                \n",
       "                3.1\n",
       "                 \n",
       "            </div>\n",
       "        </td>\n",
       "        \n",
       "        <td style=\"border: 0px;\">\n",
       "            <div style=\"min-height: 14px;\" title=\"1.5\">\n",
       "                \n",
       "                1.5\n",
       "                 \n",
       "            </div>\n",
       "        </td>\n",
       "        \n",
       "        <td style=\"border: 0px;\">\n",
       "            <div style=\"min-height: 14px;\" title=\"0.2\">\n",
       "                \n",
       "                0.2\n",
       "                 \n",
       "            </div>\n",
       "        </td>\n",
       "        \n",
       "        <td style=\"border: 0px;\">\n",
       "            <div style=\"min-height: 14px;\" title=\"0.0\">\n",
       "                \n",
       "                0.0\n",
       "                 \n",
       "            </div>\n",
       "        </td>\n",
       "        \n",
       "    </tr>\n",
       "    \n",
       "    <tr>\n",
       "        \n",
       "        <td style=\"border: 0px;\">\n",
       "            <div style=\"min-height: 14px;\" title=\"5.0\">\n",
       "                \n",
       "                5.0\n",
       "                 \n",
       "            </div>\n",
       "        </td>\n",
       "        \n",
       "        <td style=\"border: 0px;\">\n",
       "            <div style=\"min-height: 14px;\" title=\"3.6\">\n",
       "                \n",
       "                3.6\n",
       "                 \n",
       "            </div>\n",
       "        </td>\n",
       "        \n",
       "        <td style=\"border: 0px;\">\n",
       "            <div style=\"min-height: 14px;\" title=\"1.4\">\n",
       "                \n",
       "                1.4\n",
       "                 \n",
       "            </div>\n",
       "        </td>\n",
       "        \n",
       "        <td style=\"border: 0px;\">\n",
       "            <div style=\"min-height: 14px;\" title=\"0.2\">\n",
       "                \n",
       "                0.2\n",
       "                 \n",
       "            </div>\n",
       "        </td>\n",
       "        \n",
       "        <td style=\"border: 0px;\">\n",
       "            <div style=\"min-height: 14px;\" title=\"0.0\">\n",
       "                \n",
       "                0.0\n",
       "                 \n",
       "            </div>\n",
       "        </td>\n",
       "        \n",
       "    </tr>\n",
       "    \n",
       "    <tr>\n",
       "        \n",
       "        <td style=\"border: 0px;\">\n",
       "            <div style=\"min-height: 14px;\" title=\"5.4\">\n",
       "                \n",
       "                5.4\n",
       "                 \n",
       "            </div>\n",
       "        </td>\n",
       "        \n",
       "        <td style=\"border: 0px;\">\n",
       "            <div style=\"min-height: 14px;\" title=\"3.9\">\n",
       "                \n",
       "                3.9\n",
       "                 \n",
       "            </div>\n",
       "        </td>\n",
       "        \n",
       "        <td style=\"border: 0px;\">\n",
       "            <div style=\"min-height: 14px;\" title=\"1.7\">\n",
       "                \n",
       "                1.7\n",
       "                 \n",
       "            </div>\n",
       "        </td>\n",
       "        \n",
       "        <td style=\"border: 0px;\">\n",
       "            <div style=\"min-height: 14px;\" title=\"0.4\">\n",
       "                \n",
       "                0.4\n",
       "                 \n",
       "            </div>\n",
       "        </td>\n",
       "        \n",
       "        <td style=\"border: 0px;\">\n",
       "            <div style=\"min-height: 14px;\" title=\"0.0\">\n",
       "                \n",
       "                0.0\n",
       "                 \n",
       "            </div>\n",
       "        </td>\n",
       "        \n",
       "    </tr>\n",
       "    \n",
       "    <tr>\n",
       "        \n",
       "        <td style=\"border: 0px;\">\n",
       "            <div style=\"min-height: 14px;\" title=\"4.6\">\n",
       "                \n",
       "                4.6\n",
       "                 \n",
       "            </div>\n",
       "        </td>\n",
       "        \n",
       "        <td style=\"border: 0px;\">\n",
       "            <div style=\"min-height: 14px;\" title=\"3.4\">\n",
       "                \n",
       "                3.4\n",
       "                 \n",
       "            </div>\n",
       "        </td>\n",
       "        \n",
       "        <td style=\"border: 0px;\">\n",
       "            <div style=\"min-height: 14px;\" title=\"1.4\">\n",
       "                \n",
       "                1.4\n",
       "                 \n",
       "            </div>\n",
       "        </td>\n",
       "        \n",
       "        <td style=\"border: 0px;\">\n",
       "            <div style=\"min-height: 14px;\" title=\"0.3\">\n",
       "                \n",
       "                0.3\n",
       "                 \n",
       "            </div>\n",
       "        </td>\n",
       "        \n",
       "        <td style=\"border: 0px;\">\n",
       "            <div style=\"min-height: 14px;\" title=\"0.0\">\n",
       "                \n",
       "                0.0\n",
       "                 \n",
       "            </div>\n",
       "        </td>\n",
       "        \n",
       "    </tr>\n",
       "    \n",
       "    <tr>\n",
       "        \n",
       "        <td style=\"border: 0px;\">\n",
       "            <div style=\"min-height: 14px;\" title=\"5.0\">\n",
       "                \n",
       "                5.0\n",
       "                 \n",
       "            </div>\n",
       "        </td>\n",
       "        \n",
       "        <td style=\"border: 0px;\">\n",
       "            <div style=\"min-height: 14px;\" title=\"3.4\">\n",
       "                \n",
       "                3.4\n",
       "                 \n",
       "            </div>\n",
       "        </td>\n",
       "        \n",
       "        <td style=\"border: 0px;\">\n",
       "            <div style=\"min-height: 14px;\" title=\"1.5\">\n",
       "                \n",
       "                1.5\n",
       "                 \n",
       "            </div>\n",
       "        </td>\n",
       "        \n",
       "        <td style=\"border: 0px;\">\n",
       "            <div style=\"min-height: 14px;\" title=\"0.2\">\n",
       "                \n",
       "                0.2\n",
       "                 \n",
       "            </div>\n",
       "        </td>\n",
       "        \n",
       "        <td style=\"border: 0px;\">\n",
       "            <div style=\"min-height: 14px;\" title=\"0.0\">\n",
       "                \n",
       "                0.0\n",
       "                 \n",
       "            </div>\n",
       "        </td>\n",
       "        \n",
       "    </tr>\n",
       "    \n",
       "    <tr>\n",
       "        \n",
       "        <td style=\"border: 0px;\">\n",
       "            <div style=\"min-height: 14px;\" title=\"4.4\">\n",
       "                \n",
       "                4.4\n",
       "                 \n",
       "            </div>\n",
       "        </td>\n",
       "        \n",
       "        <td style=\"border: 0px;\">\n",
       "            <div style=\"min-height: 14px;\" title=\"2.9\">\n",
       "                \n",
       "                2.9\n",
       "                 \n",
       "            </div>\n",
       "        </td>\n",
       "        \n",
       "        <td style=\"border: 0px;\">\n",
       "            <div style=\"min-height: 14px;\" title=\"1.4\">\n",
       "                \n",
       "                1.4\n",
       "                 \n",
       "            </div>\n",
       "        </td>\n",
       "        \n",
       "        <td style=\"border: 0px;\">\n",
       "            <div style=\"min-height: 14px;\" title=\"0.2\">\n",
       "                \n",
       "                0.2\n",
       "                 \n",
       "            </div>\n",
       "        </td>\n",
       "        \n",
       "        <td style=\"border: 0px;\">\n",
       "            <div style=\"min-height: 14px;\" title=\"0.0\">\n",
       "                \n",
       "                0.0\n",
       "                 \n",
       "            </div>\n",
       "        </td>\n",
       "        \n",
       "    </tr>\n",
       "    \n",
       "    </tbody>\n",
       "</table>\n",
       "\n",
       "<div class=\"info_items\" style=\"margin: 10px 0; font-family: sans-serif; font-size: 10px;\">Viewing 10 of 150 rows / 5 columns</div>\n",
       "<div class=\"info_items\" style=\"margin: 10px 0; font-family: sans-serif; font-size: 10px;\">1 partition(s) &lt;class &#39;optimus.engines.pandas.dataframe.PandasDataFrame&#39;&gt;</div>\n",
       "\n"
      ],
      "text/plain": [
       "  sepal length (cm)    sepal width (cm)    petal length (cm)    petal width (cm)       target\n",
       "          (float64)           (float64)            (float64)           (float64)    (float64)\n",
       "-------------------  ------------------  -------------------  ------------------  -----------\n",
       "                5.1                 3.5                  1.4                 0.2            0\n",
       "                4.9                 3                    1.4                 0.2            0\n",
       "                4.7                 3.2                  1.3                 0.2            0\n",
       "                4.6                 3.1                  1.5                 0.2            0\n",
       "                5                   3.6                  1.4                 0.2            0\n",
       "                5.4                 3.9                  1.7                 0.4            0\n",
       "                4.6                 3.4                  1.4                 0.3            0\n",
       "                5                   3.4                  1.5                 0.2            0\n",
       "                4.4                 2.9                  1.4                 0.2            0"
      ]
     },
     "execution_count": 65,
     "metadata": {},
     "output_type": "execute_result"
    }
   ],
   "source": [
    "df"
   ]
  },
  {
   "cell_type": "code",
   "execution_count": 105,
   "metadata": {},
   "outputs": [
    {
     "name": "stdout",
     "output_type": "stream",
     "text": [
      "      PCA_0        PCA_1\n",
      "  (float64)    (float64)\n",
      "-----------  -----------\n",
      "   -2.2647      0.480027\n",
      "   -2.08096    -0.674134\n",
      "   -2.36423    -0.341908\n",
      "   -2.29938    -0.597395\n",
      "   -2.38984     0.646835\n"
     ]
    }
   ],
   "source": [
    "df.ml.PCA([0,1,2,3],n_components=2).print(6)"
   ]
  },
  {
   "cell_type": "code",
   "execution_count": 108,
   "metadata": {},
   "outputs": [
    {
     "name": "stdout",
     "output_type": "stream",
     "text": [
      "      PCA_0        PCA_1       target\n",
      "  (float64)    (float64)    (float64)\n",
      "-----------  -----------  -----------\n",
      "   -2.2647      0.480027            0\n",
      "   -2.08096    -0.674134            0\n",
      "   -2.36423    -0.341908            0\n",
      "   -2.29938    -0.597395            0\n",
      "   -2.38984     0.646835            0\n"
     ]
    }
   ],
   "source": [
    "df.ml.PCA([0,1,2,3], \"target\",n_components=2).print(6)"
   ]
  },
  {
   "cell_type": "markdown",
   "metadata": {},
   "source": [
    "## Loading and Saving Models"
   ]
  },
  {
   "cell_type": "code",
   "execution_count": 55,
   "metadata": {},
   "outputs": [],
   "source": [
    "lr.save(\"model.sav\")"
   ]
  },
  {
   "cell_type": "code",
   "execution_count": 56,
   "metadata": {},
   "outputs": [],
   "source": [
    "m =op.load.model(\"model.sav\")"
   ]
  },
  {
   "cell_type": "code",
   "execution_count": 57,
   "metadata": {},
   "outputs": [
    {
     "data": {
      "text/plain": [
       "LogisticRegression(n_jobs=1, solver='liblinear')"
      ]
     },
     "execution_count": 57,
     "metadata": {},
     "output_type": "execute_result"
    }
   ],
   "source": [
    "m"
   ]
  },
  {
   "cell_type": "code",
   "execution_count": 53,
   "metadata": {},
   "outputs": [
    {
     "data": {
      "text/plain": [
       "array([2.])"
      ]
     },
     "execution_count": 53,
     "metadata": {},
     "output_type": "execute_result"
    }
   ],
   "source": [
    "m.predict([[6.3,3.3,4.7,1.6]])"
   ]
  }
 ],
 "metadata": {
  "kernelspec": {
   "display_name": "Python 3",
   "language": "python",
   "name": "python3"
  },
  "language_info": {
   "codemirror_mode": {
    "name": "ipython",
    "version": 3
   },
   "file_extension": ".py",
   "mimetype": "text/x-python",
   "name": "python",
   "nbconvert_exporter": "python",
   "pygments_lexer": "ipython3",
   "version": "3.7.6"
  }
 },
 "nbformat": 4,
 "nbformat_minor": 4
}
