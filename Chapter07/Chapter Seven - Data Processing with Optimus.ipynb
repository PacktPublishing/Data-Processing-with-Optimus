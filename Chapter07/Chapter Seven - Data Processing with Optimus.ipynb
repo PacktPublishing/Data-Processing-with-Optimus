{
 "cells": [
  {
   "cell_type": "markdown",
   "metadata": {},
   "source": [
    "# Chapter Seven - Data Processing with Optimus "
   ]
  },
  {
   "cell_type": "code",
   "execution_count": 1,
   "metadata": {},
   "outputs": [],
   "source": [
    "%load_ext autoreload\n",
    "%autoreload 2"
   ]
  },
  {
   "cell_type": "code",
   "execution_count": 2,
   "metadata": {},
   "outputs": [],
   "source": [
    "import sys\n",
    "sys.path.append(\"../../Optimus\")"
   ]
  },
  {
   "cell_type": "code",
   "execution_count": 4,
   "metadata": {},
   "outputs": [],
   "source": [
    "from optimus import Optimus"
   ]
  },
  {
   "cell_type": "code",
   "execution_count": 31,
   "metadata": {},
   "outputs": [
    {
     "name": "stdout",
     "output_type": "stream",
     "text": [
      " 4 G \n",
      "4\n"
     ]
    }
   ],
   "source": [
    "import re\n",
    "size=\"4G\"\n",
    "size = size.upper()\n",
    "size = re.sub(r'([KMGT]?B?)', r' \\1', size)\n",
    "print(size)\n",
    "number, unit = [string.strip() for string in size.split()]\n",
    "print(number)"
   ]
  },
  {
   "cell_type": "code",
   "execution_count": 39,
   "metadata": {},
   "outputs": [
    {
     "name": "stdout",
     "output_type": "stream",
     "text": [
      "4G\n"
     ]
    }
   ],
   "source": [
    "engine = \"dask\"\n",
    "op = Optimus(engine, n_workers=1, threads_per_worker=8, silence_logs=30, memory_limit=\"4 GB\")\n",
    "conn = op.connect.s3(endpoint_url=\"https://nyc3.digitaloceanspaces.com\", bucket=\"bumblebee\", key=\"H4MX3NNBKJJN65JNXUXM\", secret=\"fhZFWr++ltSHsN/KKqKw6JevlXd2yf/OWt9Q0qqB6D8\")\n",
    "df = op.load.file(\"store.csv\", conn=conn)\n",
    "df = df.repartition(\"auto\").execute()"
   ]
  },
  {
   "cell_type": "code",
   "execution_count": 64,
   "metadata": {},
   "outputs": [],
   "source": [
    "from optimus import Optimus\n",
    "op = Optimus(\"dask\")"
   ]
  },
  {
   "cell_type": "code",
   "execution_count": 65,
   "metadata": {},
   "outputs": [
    {
     "data": {
      "text/html": [
       "<table style=\"border: 2px solid white;\">\n",
       "<tr>\n",
       "<td style=\"vertical-align: top; border: 0px solid white\">\n",
       "<h3 style=\"text-align: left;\">Client</h3>\n",
       "<ul style=\"text-align: left; list-style: none; margin: 0; padding: 0;\">\n",
       "  <li><b>Scheduler: </b>inproc://192.168.100.4/19556/1</li>\n",
       "  <li><b>Dashboard: </b><a href='http://192.168.100.4:8787/status' target='_blank'>http://192.168.100.4:8787/status</a></li>\n",
       "</ul>\n",
       "</td>\n",
       "<td style=\"vertical-align: top; border: 0px solid white\">\n",
       "<h3 style=\"text-align: left;\">Cluster</h3>\n",
       "<ul style=\"text-align: left; list-style:none; margin: 0; padding: 0;\">\n",
       "  <li><b>Workers: </b>1</li>\n",
       "  <li><b>Cores: </b>8</li>\n",
       "  <li><b>Memory: </b>4.00 GB</li>\n",
       "</ul>\n",
       "</td>\n",
       "</tr>\n",
       "</table>"
      ],
      "text/plain": [
       "<Client: 'inproc://192.168.100.4/19556/1' processes=1 threads=8, memory=4.00 GB>"
      ]
     },
     "execution_count": 65,
     "metadata": {},
     "output_type": "execute_result"
    }
   ],
   "source": [
    "op.client"
   ]
  },
  {
   "cell_type": "code",
   "execution_count": 25,
   "metadata": {},
   "outputs": [
    {
     "name": "stdout",
     "output_type": "stream",
     "text": [
      "A                     B            C            D            E\n",
      "(object)      (float64)    (float64)    (float64)    (float64)\n",
      "----------  -----------  -----------  -----------  -----------\n",
      "                      1            1            1            1\n",
      "2                     2            2            2            2\n",
      "3                     3            3            3            3\n",
      "45                   45           45           45           45\n",
      "6                     6            6            6            6\n",
      "2                     2            2            2            2\n",
      "nan                 nan          nan          nan          nan\n"
     ]
    },
    {
     "name": "stderr",
     "output_type": "stream",
     "text": [
      "C:\\Users\\argenisleon\\Anaconda3\\lib\\site-packages\\dask\\dataframe\\core.py:6181: UserWarning: Insufficient elements for `head`. 10 elements requested, only 7 elements available. Try passing larger `npartitions` to `head`.\n",
      "  warnings.warn(msg.format(n, len(r)))\n"
     ]
    }
   ],
   "source": [
    "import numpy as np\n",
    "df = op.create.dataframe({\"A\":[\"\",2,3,45,6,2,np.nan],\"B\":[1,2,3,45,6,2,np.nan],\"C\":[1,2,3,45,6,2,np.nan],\"D\":[1,2,3,45,6,2,np.nan],\"E\":[1,2,3,45,6,2,np.nan]})\n",
    "df.print()"
   ]
  },
  {
   "cell_type": "code",
   "execution_count": 62,
   "metadata": {},
   "outputs": [
    {
     "name": "stdout",
     "output_type": "stream",
     "text": [
      "col_name E 2\n",
      "col_name D 2\n"
     ]
    },
    {
     "data": {
      "text/plain": [
       "['A', 'B', 'D', 'E', 'C']"
      ]
     },
     "metadata": {},
     "output_type": "display_data"
    },
    {
     "name": "stdout",
     "output_type": "stream",
     "text": [
      "col_name B 4\n",
      "col_name A 4\n"
     ]
    },
    {
     "data": {
      "text/plain": [
       "['C', 'D', 'E', 'B', 'A']"
      ]
     },
     "metadata": {},
     "output_type": "display_data"
    },
    {
     "name": "stdout",
     "output_type": "stream",
     "text": [
      "col_name D 1\n",
      "col_name E 1\n"
     ]
    },
    {
     "data": {
      "text/plain": [
       "['A', 'E', 'D', 'B', 'C']"
      ]
     },
     "metadata": {},
     "output_type": "display_data"
    },
    {
     "name": "stdout",
     "output_type": "stream",
     "text": [
      "col_name B 3\n",
      "col_name A 3\n"
     ]
    },
    {
     "data": {
      "text/plain": [
       "['C', 'D', 'E', 'A', 'B']"
      ]
     },
     "metadata": {},
     "output_type": "display_data"
    },
    {
     "name": "stdout",
     "output_type": "stream",
     "text": [
      "col_name A 5\n"
     ]
    },
    {
     "data": {
      "text/plain": [
       "['B', 'C', 'D', 'E', 'A']"
      ]
     },
     "metadata": {},
     "output_type": "display_data"
    },
    {
     "name": "stdout",
     "output_type": "stream",
     "text": [
      "col_name D 0\n"
     ]
    },
    {
     "data": {
      "text/plain": [
       "['D', 'A', 'B', 'C', 'E']"
      ]
     },
     "metadata": {},
     "output_type": "display_data"
    }
   ],
   "source": [
    "display(df.cols.move([\"D\",\"E\"],\"after\",[\"B\"]).cols.names())\n",
    "display(df.cols.move([\"A\",\"B\"],\"after\",[\"D\"]).cols.names())\n",
    "display(df.cols.move([\"E\",\"D\"],\"before\",[\"B\"]).cols.names())\n",
    "display(df.cols.move([\"A\",\"B\"],\"before\",[\"D\"]).cols.names())\n",
    "display(df.cols.move([\"A\"],\"end\").cols.names())\n",
    "display(df.cols.move([\"D\"],\"beginning\").cols.names())"
   ]
  },
  {
   "cell_type": "code",
   "execution_count": 7,
   "metadata": {},
   "outputs": [
    {
     "name": "stdout",
     "output_type": "stream",
     "text": [
      "          A\n",
      "  (float64)\n",
      "-----------\n",
      "    1\n",
      "    2\n",
      "    3\n",
      "   45\n",
      "    6\n",
      "    2\n",
      "    9.83333\n"
     ]
    }
   ],
   "source": [
    "df.cols.impute(\"A\",strategy=\"mean\").print()"
   ]
  },
  {
   "cell_type": "code",
   "execution_count": 8,
   "metadata": {},
   "outputs": [
    {
     "name": "stdout",
     "output_type": "stream",
     "text": [
      "          A\n",
      "  (float64)\n",
      "-----------\n",
      "        1\n",
      "        2\n",
      "        3\n",
      "       45\n",
      "        6\n",
      "        2\n",
      "        2.5\n"
     ]
    }
   ],
   "source": [
    "df.cols.impute(\"A\",strategy=\"median\").print()"
   ]
  },
  {
   "cell_type": "code",
   "execution_count": 9,
   "metadata": {},
   "outputs": [
    {
     "name": "stdout",
     "output_type": "stream",
     "text": [
      "          A\n",
      "  (float64)\n",
      "-----------\n",
      "          1\n",
      "          2\n",
      "          3\n",
      "         45\n",
      "          6\n",
      "          2\n",
      "          2\n"
     ]
    }
   ],
   "source": [
    "print(df.cols.impute(\"A\",strategy=\"most_frequent\"))"
   ]
  },
  {
   "cell_type": "code",
   "execution_count": 10,
   "metadata": {},
   "outputs": [
    {
     "name": "stdout",
     "output_type": "stream",
     "text": [
      "          A\n",
      "  (float64)\n",
      "-----------\n",
      "          1\n",
      "          2\n",
      "          3\n",
      "         45\n",
      "          6\n",
      "          2\n",
      "          1\n"
     ]
    }
   ],
   "source": [
    "print(df.cols.impute(\"A\",strategy=\"constant\", fill_value=1))"
   ]
  },
  {
   "cell_type": "code",
   "execution_count": 108,
   "metadata": {},
   "outputs": [
    {
     "name": "stdout",
     "output_type": "stream",
     "text": [
      "          A  B\n",
      "  (float64)  (object)\n",
      "-----------  ----------\n",
      "          1  Optimus\n",
      "          2  Bumblebee\n",
      "          3  Eject\n",
      "         45  Optimus\n",
      "          6  Bumblebee\n",
      "        -50  Eject\n",
      "        nan  Bumblebee\n"
     ]
    }
   ],
   "source": [
    "df = op.create.dataframe({\"A\":[1,2,3,45,6,2,np.nan], \"B\":[\"Optimus\",\"Bumblebee\",\"Eject\",\"Optimus\",\"Bumblebee\",\"Eject\",np.nan]})\n",
    "print(df.cols.impute(\"B\",strategy=\"most_frequent\"))"
   ]
  },
  {
   "cell_type": "markdown",
   "metadata": {},
   "source": [
    "## Outliers"
   ]
  },
  {
   "cell_type": "markdown",
   "metadata": {},
   "source": [
    "### Tukey"
   ]
  },
  {
   "cell_type": "code",
   "execution_count": 122,
   "metadata": {},
   "outputs": [],
   "source": [
    "df = op.create.dataframe({\"A\":[1,2,3,45,6,-50,np.nan], \"B\":[\"Optimus\",\"Bumblebee\",\"Eject\",\"Optimus\",\"Bumblebee\",\"Eject\",np.nan]})"
   ]
  },
  {
   "cell_type": "code",
   "execution_count": 123,
   "metadata": {},
   "outputs": [
    {
     "data": {
      "text/html": [
       "\n",
       "\n",
       "\n",
       "\n",
       "\n",
       "<div class=\"info_items\" style=\"margin: 10px 0; font-family: sans-serif; font-size: 10px;\">Viewing 7 of 7 rows / 2 columns</div>\n",
       "<div class=\"info_items\" style=\"margin: 10px 0; font-family: sans-serif; font-size: 10px;\">1 partition(s) </div>\n",
       "\n",
       "\n",
       "<table class=\"optimus_table\" style=\"font-size: 12px;\">\n",
       "    <thead style=\"border-bottom: 1px solid black;\">\n",
       "    <tr>\n",
       "        \n",
       "        <th style=\"font-family: sans-serif;\">\n",
       "            <div class=\"column_name\" style=\"font-size: 1.2em;\">A</div>\n",
       "            <div class=\"data_type\" style=\"font-size: 0.8em; font-weight: normal;\">1 (float64)</div>\n",
       "            <div class=\"data_type\" style=\"font-size: 0.8em; font-weight: normal;\">\n",
       "                \n",
       "                not nullable\n",
       "                \n",
       "            </div>\n",
       "        </th>\n",
       "        \n",
       "        <th style=\"font-family: sans-serif;\">\n",
       "            <div class=\"column_name\" style=\"font-size: 1.2em;\">B</div>\n",
       "            <div class=\"data_type\" style=\"font-size: 0.8em; font-weight: normal;\">2 (object)</div>\n",
       "            <div class=\"data_type\" style=\"font-size: 0.8em; font-weight: normal;\">\n",
       "                \n",
       "                not nullable\n",
       "                \n",
       "            </div>\n",
       "        </th>\n",
       "        \n",
       "    </tr>\n",
       "\n",
       "    </thead>\n",
       "    <tbody style=\"font-family: monospace; border-bottom: 1px solid #cccccc;\">\n",
       "    \n",
       "    <tr>\n",
       "        \n",
       "        <td style=\"border: 0px;\">\n",
       "            <div style=\"min-height: 14px;\" title=\"1.0\">\n",
       "                \n",
       "                1.0\n",
       "                 \n",
       "            </div>\n",
       "        </td>\n",
       "        \n",
       "        <td style=\"border: 0px;\">\n",
       "            <div style=\"min-height: 14px;\" title=\"Optimus\">\n",
       "                \n",
       "                Optimus\n",
       "                 \n",
       "            </div>\n",
       "        </td>\n",
       "        \n",
       "    </tr>\n",
       "    \n",
       "    <tr>\n",
       "        \n",
       "        <td style=\"border: 0px;\">\n",
       "            <div style=\"min-height: 14px;\" title=\"2.0\">\n",
       "                \n",
       "                2.0\n",
       "                 \n",
       "            </div>\n",
       "        </td>\n",
       "        \n",
       "        <td style=\"border: 0px;\">\n",
       "            <div style=\"min-height: 14px;\" title=\"Bumblebee\">\n",
       "                \n",
       "                Bumblebee\n",
       "                 \n",
       "            </div>\n",
       "        </td>\n",
       "        \n",
       "    </tr>\n",
       "    \n",
       "    <tr>\n",
       "        \n",
       "        <td style=\"border: 0px;\">\n",
       "            <div style=\"min-height: 14px;\" title=\"3.0\">\n",
       "                \n",
       "                3.0\n",
       "                 \n",
       "            </div>\n",
       "        </td>\n",
       "        \n",
       "        <td style=\"border: 0px;\">\n",
       "            <div style=\"min-height: 14px;\" title=\"Eject\">\n",
       "                \n",
       "                Eject\n",
       "                 \n",
       "            </div>\n",
       "        </td>\n",
       "        \n",
       "    </tr>\n",
       "    \n",
       "    <tr>\n",
       "        \n",
       "        <td style=\"border: 0px;\">\n",
       "            <div style=\"min-height: 14px;\" title=\"45.0\">\n",
       "                \n",
       "                45.0\n",
       "                 \n",
       "            </div>\n",
       "        </td>\n",
       "        \n",
       "        <td style=\"border: 0px;\">\n",
       "            <div style=\"min-height: 14px;\" title=\"Optimus\">\n",
       "                \n",
       "                Optimus\n",
       "                 \n",
       "            </div>\n",
       "        </td>\n",
       "        \n",
       "    </tr>\n",
       "    \n",
       "    <tr>\n",
       "        \n",
       "        <td style=\"border: 0px;\">\n",
       "            <div style=\"min-height: 14px;\" title=\"6.0\">\n",
       "                \n",
       "                6.0\n",
       "                 \n",
       "            </div>\n",
       "        </td>\n",
       "        \n",
       "        <td style=\"border: 0px;\">\n",
       "            <div style=\"min-height: 14px;\" title=\"Bumblebee\">\n",
       "                \n",
       "                Bumblebee\n",
       "                 \n",
       "            </div>\n",
       "        </td>\n",
       "        \n",
       "    </tr>\n",
       "    \n",
       "    <tr>\n",
       "        \n",
       "        <td style=\"border: 0px;\">\n",
       "            <div style=\"min-height: 14px;\" title=\"-50.0\">\n",
       "                \n",
       "                -50.0\n",
       "                 \n",
       "            </div>\n",
       "        </td>\n",
       "        \n",
       "        <td style=\"border: 0px;\">\n",
       "            <div style=\"min-height: 14px;\" title=\"Eject\">\n",
       "                \n",
       "                Eject\n",
       "                 \n",
       "            </div>\n",
       "        </td>\n",
       "        \n",
       "    </tr>\n",
       "    \n",
       "    <tr>\n",
       "        \n",
       "        <td style=\"border: 0px;\">\n",
       "            <div style=\"min-height: 14px;\" title=\"nan\">\n",
       "                \n",
       "                nan\n",
       "                 \n",
       "            </div>\n",
       "        </td>\n",
       "        \n",
       "        <td style=\"border: 0px;\">\n",
       "            <div style=\"min-height: 14px;\" title=\"nan\">\n",
       "                \n",
       "                nan\n",
       "                 \n",
       "            </div>\n",
       "        </td>\n",
       "        \n",
       "    </tr>\n",
       "    \n",
       "    </tbody>\n",
       "</table>\n",
       "\n",
       "<div class=\"info_items\" style=\"margin: 10px 0; font-family: sans-serif; font-size: 10px;\">Viewing 7 of 7 rows / 2 columns</div>\n",
       "<div class=\"info_items\" style=\"margin: 10px 0; font-family: sans-serif; font-size: 10px;\">1 partition(s) &lt;class &#39;optimus.engines.pandas.dataframe.PandasDataFrame&#39;&gt;</div>\n",
       "\n"
      ],
      "text/plain": [
       "          A  B\n",
       "  (float64)  (object)\n",
       "-----------  ----------\n",
       "          1  Optimus\n",
       "          2  Bumblebee\n",
       "          3  Eject\n",
       "         45  Optimus\n",
       "          6  Bumblebee\n",
       "        -50  Eject\n",
       "        nan  nan"
      ]
     },
     "execution_count": 123,
     "metadata": {},
     "output_type": "execute_result"
    }
   ],
   "source": [
    "df"
   ]
  },
  {
   "cell_type": "code",
   "execution_count": 109,
   "metadata": {},
   "outputs": [
    {
     "data": {
      "text/plain": [
       "{'count_outliers': 2,\n",
       " 'count_non_outliers': 4,\n",
       " 'lower_bound': -4.75,\n",
       " 'lower_bound_count': 1,\n",
       " 'upper_bound': 11.25,\n",
       " 'upper_bound_count': 1,\n",
       " 'q1': 1.25,\n",
       " 'median': 2.5,\n",
       " 'q3': 5.25,\n",
       " 'iqr': 4.0}"
      ]
     },
     "execution_count": 109,
     "metadata": {},
     "output_type": "execute_result"
    }
   ],
   "source": [
    "df.outliers.tukey(\"A\").info()"
   ]
  },
  {
   "cell_type": "code",
   "execution_count": 110,
   "metadata": {},
   "outputs": [
    {
     "name": "stdout",
     "output_type": "stream",
     "text": [
      "          A  B\n",
      "  (float64)  (object)\n",
      "-----------  ----------\n",
      "         45  Optimus\n",
      "        -50  Eject\n"
     ]
    }
   ],
   "source": [
    "print(df.outliers.tukey(\"A\").select())"
   ]
  },
  {
   "cell_type": "code",
   "execution_count": 111,
   "metadata": {},
   "outputs": [
    {
     "name": "stdout",
     "output_type": "stream",
     "text": [
      "          A  B\n",
      "  (float64)  (object)\n",
      "-----------  ----------\n",
      "          1  Optimus\n",
      "          2  Bumblebee\n",
      "          3  Eject\n",
      "          6  Bumblebee\n",
      "        nan  nan\n"
     ]
    }
   ],
   "source": [
    "print(df.outliers.tukey(\"A\").drop())"
   ]
  },
  {
   "cell_type": "code",
   "execution_count": 112,
   "metadata": {},
   "outputs": [
    {
     "data": {
      "text/plain": [
       "4"
      ]
     },
     "execution_count": 112,
     "metadata": {},
     "output_type": "execute_result"
    }
   ],
   "source": [
    "## Not outliers count\n",
    "df.outliers.tukey(\"A\").non_outliers_count()"
   ]
  },
  {
   "cell_type": "code",
   "execution_count": 113,
   "metadata": {},
   "outputs": [
    {
     "data": {
      "text/plain": [
       "2"
      ]
     },
     "execution_count": 113,
     "metadata": {},
     "output_type": "execute_result"
    }
   ],
   "source": [
    "## Outliers count\n",
    "df.outliers.tukey(\"A\").count()"
   ]
  },
  {
   "cell_type": "code",
   "execution_count": 114,
   "metadata": {},
   "outputs": [
    {
     "data": {
      "text/plain": [
       "{'lower_bound': -4.75,\n",
       " 'upper_bound': 11.25,\n",
       " 'q1': 1.25,\n",
       " 'median': 2.5,\n",
       " 'q3': 5.25,\n",
       " 'iqr': 4.0}"
      ]
     },
     "execution_count": 114,
     "metadata": {},
     "output_type": "execute_result"
    }
   ],
   "source": [
    "## Wiskers\n",
    "df.outliers.tukey(\"A\").whiskers()"
   ]
  },
  {
   "cell_type": "code",
   "execution_count": 115,
   "metadata": {},
   "outputs": [
    {
     "name": "stdout",
     "output_type": "stream",
     "text": [
      "          A  B\n",
      "  (float64)  (object)\n",
      "-----------  ----------\n",
      "        -50  Eject\n"
     ]
    }
   ],
   "source": [
    "print(df.outliers.tukey(\"A\").select_lower_bound())"
   ]
  },
  {
   "cell_type": "code",
   "execution_count": 116,
   "metadata": {},
   "outputs": [
    {
     "name": "stdout",
     "output_type": "stream",
     "text": [
      "          A  B\n",
      "  (float64)  (object)\n",
      "-----------  ----------\n",
      "         45  Optimus\n"
     ]
    }
   ],
   "source": [
    "print(df.outliers.tukey(\"A\").select_upper_bound())"
   ]
  },
  {
   "cell_type": "markdown",
   "metadata": {},
   "source": [
    "### Zscore"
   ]
  },
  {
   "cell_type": "code",
   "execution_count": 171,
   "metadata": {},
   "outputs": [
    {
     "name": "stdout",
     "output_type": "stream",
     "text": [
      "          A\n",
      "  (float64)\n",
      "-----------\n",
      "          1\n",
      "          2\n",
      "          3\n",
      "         31\n",
      "          6\n",
      "        -21\n",
      "        nan\n",
      "          2\n",
      "          4\n"
     ]
    }
   ],
   "source": [
    "df = op.create.dataframe({\"A\":[1,2,3,31,6,-21,np.nan,2,4,6]})\n",
    "import numpy as np\n",
    "df.print()"
   ]
  },
  {
   "cell_type": "code",
   "execution_count": 213,
   "metadata": {},
   "outputs": [
    {
     "data": {
      "text/html": [
       "\n",
       "\n",
       "\n",
       "\n",
       "\n",
       "<div class=\"info_items\" style=\"margin: 10px 0; font-family: sans-serif; font-size: 10px;\">Viewing 10 of 10 rows / 1 columns</div>\n",
       "<div class=\"info_items\" style=\"margin: 10px 0; font-family: sans-serif; font-size: 10px;\">1 partition(s) </div>\n",
       "\n",
       "\n",
       "<table class=\"optimus_table\" style=\"font-size: 12px;\">\n",
       "    <thead style=\"border-bottom: 1px solid black;\">\n",
       "    <tr>\n",
       "        \n",
       "        <th style=\"font-family: sans-serif;\">\n",
       "            <div class=\"column_name\" style=\"font-size: 1.2em;\">A</div>\n",
       "            <div class=\"data_type\" style=\"font-size: 0.8em; font-weight: normal;\">1 (float64)</div>\n",
       "            <div class=\"data_type\" style=\"font-size: 0.8em; font-weight: normal;\">\n",
       "                \n",
       "                not nullable\n",
       "                \n",
       "            </div>\n",
       "        </th>\n",
       "        \n",
       "    </tr>\n",
       "\n",
       "    </thead>\n",
       "    <tbody style=\"font-family: monospace; border-bottom: 1px solid #cccccc;\">\n",
       "    \n",
       "    <tr>\n",
       "        \n",
       "        <td style=\"border: 0px;\">\n",
       "            <div style=\"min-height: 14px;\" title=\"1.0\">\n",
       "                \n",
       "                1.0\n",
       "                 \n",
       "            </div>\n",
       "        </td>\n",
       "        \n",
       "    </tr>\n",
       "    \n",
       "    <tr>\n",
       "        \n",
       "        <td style=\"border: 0px;\">\n",
       "            <div style=\"min-height: 14px;\" title=\"2.0\">\n",
       "                \n",
       "                2.0\n",
       "                 \n",
       "            </div>\n",
       "        </td>\n",
       "        \n",
       "    </tr>\n",
       "    \n",
       "    <tr>\n",
       "        \n",
       "        <td style=\"border: 0px;\">\n",
       "            <div style=\"min-height: 14px;\" title=\"3.0\">\n",
       "                \n",
       "                3.0\n",
       "                 \n",
       "            </div>\n",
       "        </td>\n",
       "        \n",
       "    </tr>\n",
       "    \n",
       "    <tr>\n",
       "        \n",
       "        <td style=\"border: 0px;\">\n",
       "            <div style=\"min-height: 14px;\" title=\"31.0\">\n",
       "                \n",
       "                31.0\n",
       "                 \n",
       "            </div>\n",
       "        </td>\n",
       "        \n",
       "    </tr>\n",
       "    \n",
       "    <tr>\n",
       "        \n",
       "        <td style=\"border: 0px;\">\n",
       "            <div style=\"min-height: 14px;\" title=\"6.0\">\n",
       "                \n",
       "                6.0\n",
       "                 \n",
       "            </div>\n",
       "        </td>\n",
       "        \n",
       "    </tr>\n",
       "    \n",
       "    <tr>\n",
       "        \n",
       "        <td style=\"border: 0px;\">\n",
       "            <div style=\"min-height: 14px;\" title=\"-21.0\">\n",
       "                \n",
       "                -21.0\n",
       "                 \n",
       "            </div>\n",
       "        </td>\n",
       "        \n",
       "    </tr>\n",
       "    \n",
       "    <tr>\n",
       "        \n",
       "        <td style=\"border: 0px;\">\n",
       "            <div style=\"min-height: 14px;\" title=\"nan\">\n",
       "                \n",
       "                nan\n",
       "                 \n",
       "            </div>\n",
       "        </td>\n",
       "        \n",
       "    </tr>\n",
       "    \n",
       "    <tr>\n",
       "        \n",
       "        <td style=\"border: 0px;\">\n",
       "            <div style=\"min-height: 14px;\" title=\"2.0\">\n",
       "                \n",
       "                2.0\n",
       "                 \n",
       "            </div>\n",
       "        </td>\n",
       "        \n",
       "    </tr>\n",
       "    \n",
       "    <tr>\n",
       "        \n",
       "        <td style=\"border: 0px;\">\n",
       "            <div style=\"min-height: 14px;\" title=\"4.0\">\n",
       "                \n",
       "                4.0\n",
       "                 \n",
       "            </div>\n",
       "        </td>\n",
       "        \n",
       "    </tr>\n",
       "    \n",
       "    </tbody>\n",
       "</table>\n",
       "\n",
       "<div class=\"info_items\" style=\"margin: 10px 0; font-family: sans-serif; font-size: 10px;\">Viewing 10 of 10 rows / 1 columns</div>\n",
       "<div class=\"info_items\" style=\"margin: 10px 0; font-family: sans-serif; font-size: 10px;\">1 partition(s) &lt;class &#39;optimus.engines.pandas.dataframe.PandasDataFrame&#39;&gt;</div>\n",
       "\n"
      ],
      "text/plain": [
       "          A\n",
       "  (float64)\n",
       "-----------\n",
       "          1\n",
       "          2\n",
       "          3\n",
       "         31\n",
       "          6\n",
       "        -21\n",
       "        nan\n",
       "          2\n",
       "          4"
      ]
     },
     "execution_count": 213,
     "metadata": {},
     "output_type": "execute_result"
    }
   ],
   "source": [
    "df"
   ]
  },
  {
   "cell_type": "code",
   "execution_count": 253,
   "metadata": {},
   "outputs": [
    {
     "name": "stdout",
     "output_type": "stream",
     "text": [
      "          A\n",
      "  (float64)\n",
      "-----------\n",
      "         31\n",
      "        -21\n"
     ]
    }
   ],
   "source": [
    "threshold=2\n",
    "print(df.outliers.z_score(\"A\", threshold).select())"
   ]
  },
  {
   "cell_type": "code",
   "execution_count": 257,
   "metadata": {},
   "outputs": [
    {
     "name": "stdout",
     "output_type": "stream",
     "text": [
      "          A\n",
      "  (float64)\n",
      "-----------\n",
      " -0.224362\n",
      " -0.143592\n",
      " -0.0628213\n",
      "  2.19875\n",
      "  0.17949\n",
      " -2.00131\n",
      "nan\n",
      " -0.143592\n",
      "  0.017949\n"
     ]
    }
   ],
   "source": [
    "print(df.cols.z_score(\"A\"))"
   ]
  },
  {
   "cell_type": "code",
   "execution_count": 258,
   "metadata": {},
   "outputs": [
    {
     "name": "stdout",
     "output_type": "stream",
     "text": [
      "          A\n",
      "  (float64)\n",
      "-----------\n",
      "          1\n",
      "          2\n",
      "          3\n",
      "          6\n",
      "        nan\n",
      "          2\n",
      "          4\n",
      "          6\n"
     ]
    }
   ],
   "source": [
    "print(df.outliers.z_score(\"A\", threshold).drop())"
   ]
  },
  {
   "cell_type": "code",
   "execution_count": 251,
   "metadata": {},
   "outputs": [
    {
     "name": "stdout",
     "output_type": "stream",
     "text": [
      "          A\n",
      "  (float64)\n",
      "-----------\n",
      "        -21\n"
     ]
    }
   ],
   "source": [
    "print(df.outliers.z_score(\"A\", threshold).select_lower_bound())"
   ]
  },
  {
   "cell_type": "code",
   "execution_count": 252,
   "metadata": {},
   "outputs": [
    {
     "name": "stdout",
     "output_type": "stream",
     "text": [
      "          A\n",
      "  (float64)\n",
      "-----------\n",
      "         31\n"
     ]
    }
   ],
   "source": [
    "print(df.outliers.z_score(\"A\", threshold).select_upper_bound())"
   ]
  },
  {
   "cell_type": "code",
   "execution_count": 247,
   "metadata": {},
   "outputs": [
    {
     "name": "stdout",
     "output_type": "stream",
     "text": [
      "df           A\n",
      "  (float64)\n",
      "-----------\n",
      "          1\n",
      "          2\n",
      "          3\n",
      "         31\n",
      "          6\n",
      "        -21\n",
      "        nan\n",
      "          2\n",
      "          4\n"
     ]
    },
    {
     "data": {
      "text/html": [
       "\n",
       "\n",
       "\n",
       "\n",
       "\n",
       "<div class=\"info_items\" style=\"margin: 10px 0; font-family: sans-serif; font-size: 10px;\">Viewing 1 of 1 rows / 1 columns</div>\n",
       "<div class=\"info_items\" style=\"margin: 10px 0; font-family: sans-serif; font-size: 10px;\">1 partition(s) </div>\n",
       "\n",
       "\n",
       "<table class=\"optimus_table\" style=\"font-size: 12px;\">\n",
       "    <thead style=\"border-bottom: 1px solid black;\">\n",
       "    <tr>\n",
       "        \n",
       "        <th style=\"font-family: sans-serif;\">\n",
       "            <div class=\"column_name\" style=\"font-size: 1.2em;\">A</div>\n",
       "            <div class=\"data_type\" style=\"font-size: 0.8em; font-weight: normal;\">1 (float64)</div>\n",
       "            <div class=\"data_type\" style=\"font-size: 0.8em; font-weight: normal;\">\n",
       "                \n",
       "                not nullable\n",
       "                \n",
       "            </div>\n",
       "        </th>\n",
       "        \n",
       "    </tr>\n",
       "\n",
       "    </thead>\n",
       "    <tbody style=\"font-family: monospace; border-bottom: 1px solid #cccccc;\">\n",
       "    \n",
       "    <tr>\n",
       "        \n",
       "        <td style=\"border: 0px;\">\n",
       "            <div style=\"min-height: 14px;\" title=\"nan\">\n",
       "                \n",
       "                nan\n",
       "                 \n",
       "            </div>\n",
       "        </td>\n",
       "        \n",
       "    </tr>\n",
       "    \n",
       "    </tbody>\n",
       "</table>\n",
       "\n",
       "<div class=\"info_items\" style=\"margin: 10px 0; font-family: sans-serif; font-size: 10px;\">Viewing 1 of 1 rows / 1 columns</div>\n",
       "<div class=\"info_items\" style=\"margin: 10px 0; font-family: sans-serif; font-size: 10px;\">1 partition(s) &lt;class &#39;optimus.engines.pandas.dataframe.PandasDataFrame&#39;&gt;</div>\n",
       "\n"
      ],
      "text/plain": [
       "          A\n",
       "  (float64)\n",
       "-----------\n",
       "        nan"
      ]
     },
     "execution_count": 247,
     "metadata": {},
     "output_type": "execute_result"
    }
   ],
   "source": [
    "df.outliers.z_score(\"A\", threshold).non_outliers_count()\n",
    "df.outliers.z_score(\"A\", threshold).count()\n",
    "df.outliers.z_score(\"A\", threshold).info()\n",
    "# df.outliers.z_score(\"A\", threshold).drop()"
   ]
  },
  {
   "cell_type": "markdown",
   "metadata": {},
   "source": [
    "### Modified Z Score"
   ]
  },
  {
   "cell_type": "code",
   "execution_count": 290,
   "metadata": {},
   "outputs": [],
   "source": [
    "df = op.create.dataframe({\"A\":[1,2,3,31,6,-21,np.nan,2,4,6]})"
   ]
  },
  {
   "cell_type": "code",
   "execution_count": 291,
   "metadata": {},
   "outputs": [
    {
     "data": {
      "text/plain": [
       "2.0"
      ]
     },
     "execution_count": 291,
     "metadata": {},
     "output_type": "execute_result"
    }
   ],
   "source": [
    "df.cols.mad()"
   ]
  },
  {
   "cell_type": "code",
   "execution_count": 315,
   "metadata": {},
   "outputs": [
    {
     "name": "stdout",
     "output_type": "stream",
     "text": [
      "          A\n",
      "  (float64)\n",
      "-----------\n",
      "         31\n",
      "        -21\n"
     ]
    }
   ],
   "source": [
    "threshold=3.5\n",
    "print(df.outliers.modified_z_score(\"A\", threshold).select())"
   ]
  },
  {
   "cell_type": "code",
   "execution_count": 293,
   "metadata": {},
   "outputs": [
    {
     "name": "stdout",
     "output_type": "stream",
     "text": [
      "          A\n",
      "  (float64)\n",
      "-----------\n",
      "    0.6745\n",
      "    0.33725\n",
      "    0\n",
      "    9.443\n",
      "    1.01175\n",
      "    8.094\n",
      "  nan\n",
      "    0.33725\n",
      "    0.33725\n"
     ]
    }
   ],
   "source": [
    "print(df.cols.modified_z_score(\"A\"))"
   ]
  },
  {
   "cell_type": "code",
   "execution_count": 316,
   "metadata": {},
   "outputs": [
    {
     "name": "stdout",
     "output_type": "stream",
     "text": [
      "          A\n",
      "  (float64)\n",
      "-----------\n",
      "          1\n",
      "          2\n",
      "          3\n",
      "          6\n",
      "        nan\n",
      "          2\n",
      "          4\n",
      "          6\n"
     ]
    }
   ],
   "source": [
    "print(df.outliers.modified_z_score(\"A\", threshold).drop())"
   ]
  },
  {
   "cell_type": "code",
   "execution_count": 326,
   "metadata": {},
   "outputs": [
    {
     "name": "stdout",
     "output_type": "stream",
     "text": [
      "{'count_outliers': 2, 'count_non_outliers': 7, 'max_m_z_score': 31.0}\n",
      "2\n",
      "7\n"
     ]
    }
   ],
   "source": [
    "print(df.outliers.modified_z_score(\"A\", threshold).info())\n",
    "print(df.outliers.modified_z_score(\"A\", threshold).count())\n",
    "print(df.outliers.modified_z_score(\"A\", threshold).non_outliers_count())"
   ]
  },
  {
   "cell_type": "markdown",
   "metadata": {},
   "source": [
    "### MAD"
   ]
  },
  {
   "cell_type": "code",
   "execution_count": 327,
   "metadata": {},
   "outputs": [
    {
     "name": "stdout",
     "output_type": "stream",
     "text": [
      "{'count_outliers': 2, 'count_non_outliers': 7, 'lower_bound': -4.0, 'lower_bound_count': 1, 'upper_bound': 10.0, 'upper_bound_count': 1}\n"
     ]
    }
   ],
   "source": [
    "print(df.outliers.mad(\"A\", threshold).info())"
   ]
  },
  {
   "cell_type": "code",
   "execution_count": 329,
   "metadata": {},
   "outputs": [
    {
     "data": {
      "text/html": [
       "\n",
       "\n",
       "\n",
       "\n",
       "\n",
       "<div class=\"info_items\" style=\"margin: 10px 0; font-family: sans-serif; font-size: 10px;\">Viewing 4 of 4 rows / 1 columns</div>\n",
       "<div class=\"info_items\" style=\"margin: 10px 0; font-family: sans-serif; font-size: 10px;\">1 partition(s) </div>\n",
       "\n",
       "\n",
       "<table class=\"optimus_table\" style=\"font-size: 12px;\">\n",
       "    <thead style=\"border-bottom: 1px solid black;\">\n",
       "    <tr>\n",
       "        \n",
       "        <th style=\"font-family: sans-serif;\">\n",
       "            <div class=\"column_name\" style=\"font-size: 1.2em;\">A</div>\n",
       "            <div class=\"data_type\" style=\"font-size: 0.8em; font-weight: normal;\">1 (float64)</div>\n",
       "            <div class=\"data_type\" style=\"font-size: 0.8em; font-weight: normal;\">\n",
       "                \n",
       "                not nullable\n",
       "                \n",
       "            </div>\n",
       "        </th>\n",
       "        \n",
       "    </tr>\n",
       "\n",
       "    </thead>\n",
       "    <tbody style=\"font-family: monospace; border-bottom: 1px solid #cccccc;\">\n",
       "    \n",
       "    <tr>\n",
       "        \n",
       "        <td style=\"border: 0px;\">\n",
       "            <div style=\"min-height: 14px;\" title=\"31.0\">\n",
       "                \n",
       "                31.0\n",
       "                 \n",
       "            </div>\n",
       "        </td>\n",
       "        \n",
       "    </tr>\n",
       "    \n",
       "    <tr>\n",
       "        \n",
       "        <td style=\"border: 0px;\">\n",
       "            <div style=\"min-height: 14px;\" title=\"6.0\">\n",
       "                \n",
       "                6.0\n",
       "                 \n",
       "            </div>\n",
       "        </td>\n",
       "        \n",
       "    </tr>\n",
       "    \n",
       "    <tr>\n",
       "        \n",
       "        <td style=\"border: 0px;\">\n",
       "            <div style=\"min-height: 14px;\" title=\"-21.0\">\n",
       "                \n",
       "                -21.0\n",
       "                 \n",
       "            </div>\n",
       "        </td>\n",
       "        \n",
       "    </tr>\n",
       "    \n",
       "    <tr>\n",
       "        \n",
       "        <td style=\"border: 0px;\">\n",
       "            <div style=\"min-height: 14px;\" title=\"6.0\">\n",
       "                \n",
       "                6.0\n",
       "                 \n",
       "            </div>\n",
       "        </td>\n",
       "        \n",
       "    </tr>\n",
       "    \n",
       "    </tbody>\n",
       "</table>\n",
       "\n",
       "<div class=\"info_items\" style=\"margin: 10px 0; font-family: sans-serif; font-size: 10px;\">Viewing 4 of 4 rows / 1 columns</div>\n",
       "<div class=\"info_items\" style=\"margin: 10px 0; font-family: sans-serif; font-size: 10px;\">1 partition(s) &lt;class &#39;optimus.engines.pandas.dataframe.PandasDataFrame&#39;&gt;</div>\n",
       "\n"
      ],
      "text/plain": [
       "          A\n",
       "  (float64)\n",
       "-----------\n",
       "         31\n",
       "          6\n",
       "        -21\n",
       "          6"
      ]
     },
     "execution_count": 329,
     "metadata": {},
     "output_type": "execute_result"
    }
   ],
   "source": [
    "threshold=1\n",
    "df.outliers.mad(\"A\", threshold).select()\n",
    "# df.outliers.mad(\"A\", threshold).non_outliers_count()\n",
    "# df.outliers.mad(\"A\", threshold).count()\n",
    "# df.outliers.mad(\"A\", threshold).info()\n",
    "# df.outliers.mad(\"A\", threshold).drop()"
   ]
  },
  {
   "cell_type": "code",
   "execution_count": 13,
   "metadata": {},
   "outputs": [
    {
     "data": {
      "text/html": [
       "\n",
       "\n",
       "\n",
       "\n",
       "\n",
       "<div class=\"info_items\" style=\"margin: 10px 0; font-family: sans-serif; font-size: 10px;\">Viewing 7 of 7 rows / 1 columns</div>\n",
       "<div class=\"info_items\" style=\"margin: 10px 0; font-family: sans-serif; font-size: 10px;\">1 partition(s) </div>\n",
       "\n",
       "\n",
       "<table class=\"optimus_table\" style=\"font-size: 12px;\">\n",
       "    <thead style=\"border-bottom: 1px solid black;\">\n",
       "    <tr>\n",
       "        \n",
       "        <th style=\"font-family: sans-serif;\">\n",
       "            <div class=\"column_name\" style=\"font-size: 1.2em;\">A</div>\n",
       "            <div class=\"data_type\" style=\"font-size: 0.8em; font-weight: normal;\">1 (float64)</div>\n",
       "            <div class=\"data_type\" style=\"font-size: 0.8em; font-weight: normal;\">\n",
       "                \n",
       "                not nullable\n",
       "                \n",
       "            </div>\n",
       "        </th>\n",
       "        \n",
       "    </tr>\n",
       "\n",
       "    </thead>\n",
       "    <tbody style=\"font-family: monospace; border-bottom: 1px solid #cccccc;\">\n",
       "    \n",
       "    <tr>\n",
       "        \n",
       "        <td style=\"border: 0px;\">\n",
       "            <div style=\"min-height: 14px;\" title=\"1.0\">\n",
       "                \n",
       "                1.0\n",
       "                 \n",
       "            </div>\n",
       "        </td>\n",
       "        \n",
       "    </tr>\n",
       "    \n",
       "    <tr>\n",
       "        \n",
       "        <td style=\"border: 0px;\">\n",
       "            <div style=\"min-height: 14px;\" title=\"2.0\">\n",
       "                \n",
       "                2.0\n",
       "                 \n",
       "            </div>\n",
       "        </td>\n",
       "        \n",
       "    </tr>\n",
       "    \n",
       "    <tr>\n",
       "        \n",
       "        <td style=\"border: 0px;\">\n",
       "            <div style=\"min-height: 14px;\" title=\"3.0\">\n",
       "                \n",
       "                3.0\n",
       "                 \n",
       "            </div>\n",
       "        </td>\n",
       "        \n",
       "    </tr>\n",
       "    \n",
       "    <tr>\n",
       "        \n",
       "        <td style=\"border: 0px;\">\n",
       "            <div style=\"min-height: 14px;\" title=\"45.0\">\n",
       "                \n",
       "                45.0\n",
       "                 \n",
       "            </div>\n",
       "        </td>\n",
       "        \n",
       "    </tr>\n",
       "    \n",
       "    <tr>\n",
       "        \n",
       "        <td style=\"border: 0px;\">\n",
       "            <div style=\"min-height: 14px;\" title=\"6.0\">\n",
       "                \n",
       "                6.0\n",
       "                 \n",
       "            </div>\n",
       "        </td>\n",
       "        \n",
       "    </tr>\n",
       "    \n",
       "    <tr>\n",
       "        \n",
       "        <td style=\"border: 0px;\">\n",
       "            <div style=\"min-height: 14px;\" title=\"7.0\">\n",
       "                \n",
       "                7.0\n",
       "                 \n",
       "            </div>\n",
       "        </td>\n",
       "        \n",
       "    </tr>\n",
       "    \n",
       "    <tr>\n",
       "        \n",
       "        <td style=\"border: 0px;\">\n",
       "            <div style=\"min-height: 14px;\" title=\"nan\">\n",
       "                \n",
       "                nan\n",
       "                 \n",
       "            </div>\n",
       "        </td>\n",
       "        \n",
       "    </tr>\n",
       "    \n",
       "    </tbody>\n",
       "</table>\n",
       "\n",
       "<div class=\"info_items\" style=\"margin: 10px 0; font-family: sans-serif; font-size: 10px;\">Viewing 7 of 7 rows / 1 columns</div>\n",
       "<div class=\"info_items\" style=\"margin: 10px 0; font-family: sans-serif; font-size: 10px;\">1 partition(s) &lt;class &#39;optimus.engines.pandas.dataframe.PandasDataFrame&#39;&gt;</div>\n",
       "\n"
      ],
      "text/plain": [
       "          A\n",
       "  (float64)\n",
       "-----------\n",
       "          1\n",
       "          2\n",
       "          3\n",
       "         45\n",
       "          6\n",
       "          7\n",
       "        nan"
      ]
     },
     "execution_count": 13,
     "metadata": {},
     "output_type": "execute_result"
    }
   ],
   "source": [
    "df"
   ]
  },
  {
   "cell_type": "markdown",
   "metadata": {},
   "source": [
    "## Binning"
   ]
  },
  {
   "cell_type": "code",
   "execution_count": 5,
   "metadata": {},
   "outputs": [],
   "source": [
    "import numpy as np\n",
    "df = op.create.dataframe({\"A\":[1,2,3,31,6,-21,np.nan,2,4,6]})"
   ]
  },
  {
   "cell_type": "code",
   "execution_count": 6,
   "metadata": {},
   "outputs": [
    {
     "name": "stdout",
     "output_type": "stream",
     "text": [
      "          A\n",
      "  (float64)\n",
      "-----------\n",
      "          1\n",
      "          2\n",
      "          3\n",
      "         31\n",
      "          6\n",
      "        -21\n",
      "        nan\n",
      "          2\n",
      "          4\n"
     ]
    }
   ],
   "source": [
    "print(df)"
   ]
  },
  {
   "cell_type": "code",
   "execution_count": 7,
   "metadata": {},
   "outputs": [
    {
     "data": {
      "text/html": [
       "<div>\n",
       "<style scoped>\n",
       "    .dataframe tbody tr th:only-of-type {\n",
       "        vertical-align: middle;\n",
       "    }\n",
       "\n",
       "    .dataframe tbody tr th {\n",
       "        vertical-align: top;\n",
       "    }\n",
       "\n",
       "    .dataframe thead th {\n",
       "        text-align: right;\n",
       "    }\n",
       "</style>\n",
       "<table border=\"1\" class=\"dataframe\">\n",
       "  <thead>\n",
       "    <tr style=\"text-align: right;\">\n",
       "      <th></th>\n",
       "      <th>value</th>\n",
       "      <th>log+1</th>\n",
       "    </tr>\n",
       "  </thead>\n",
       "  <tbody>\n",
       "    <tr>\n",
       "      <th>0</th>\n",
       "      <td>2</td>\n",
       "      <td>1.098612</td>\n",
       "    </tr>\n",
       "    <tr>\n",
       "      <th>1</th>\n",
       "      <td>45</td>\n",
       "      <td>3.828641</td>\n",
       "    </tr>\n",
       "    <tr>\n",
       "      <th>2</th>\n",
       "      <td>-23</td>\n",
       "      <td>NaN</td>\n",
       "    </tr>\n",
       "    <tr>\n",
       "      <th>3</th>\n",
       "      <td>85</td>\n",
       "      <td>4.454347</td>\n",
       "    </tr>\n",
       "    <tr>\n",
       "      <th>4</th>\n",
       "      <td>28</td>\n",
       "      <td>3.367296</td>\n",
       "    </tr>\n",
       "    <tr>\n",
       "      <th>5</th>\n",
       "      <td>2</td>\n",
       "      <td>1.098612</td>\n",
       "    </tr>\n",
       "    <tr>\n",
       "      <th>6</th>\n",
       "      <td>35</td>\n",
       "      <td>3.583519</td>\n",
       "    </tr>\n",
       "    <tr>\n",
       "      <th>7</th>\n",
       "      <td>-12</td>\n",
       "      <td>NaN</td>\n",
       "    </tr>\n",
       "  </tbody>\n",
       "</table>\n",
       "</div>"
      ],
      "text/plain": [
       "   value     log+1\n",
       "0      2  1.098612\n",
       "1     45  3.828641\n",
       "2    -23       NaN\n",
       "3     85  4.454347\n",
       "4     28  3.367296\n",
       "5      2  1.098612\n",
       "6     35  3.583519\n",
       "7    -12       NaN"
      ]
     },
     "execution_count": 7,
     "metadata": {},
     "output_type": "execute_result"
    }
   ],
   "source": [
    "import pandas as pd\n",
    "data = pd.DataFrame({'value':[2,45, -23, 85, 28, 2, 35, -12]})\n",
    "data['log+1'] = (data['value']+1).transform(np.log)\n",
    "data"
   ]
  },
  {
   "cell_type": "code",
   "execution_count": 357,
   "metadata": {},
   "outputs": [
    {
     "name": "stdout",
     "output_type": "stream",
     "text": [
      "A\n",
      "(category)\n",
      "------------\n",
      "low\n",
      "low\n",
      "low\n",
      "high\n",
      "medium\n",
      "nan\n",
      "nan\n",
      "low\n",
      "low\n"
     ]
    }
   ],
   "source": [
    "print(df.cols.cut(\"A\",bins = [0,4,6,35] ,labels = [\"low\", \"medium\",\"high\"]))"
   ]
  },
  {
   "cell_type": "code",
   "execution_count": 360,
   "metadata": {},
   "outputs": [
    {
     "name": "stdout",
     "output_type": "stream",
     "text": [
      "A\n",
      "(object)\n",
      "----------\n",
      "Venezuela\n",
      "Venezuela\n",
      "Mexico\n",
      "Mexico\n",
      "Colombia\n"
     ]
    }
   ],
   "source": [
    "df = op.create.dataframe({\"A\":[\"Maracaibo\",\"Caracas\",\"CDMX\",\"Monterrey\",\"Bogota\"]})\n",
    "print(df.cols.cut(\"A\",[\"Maracaibo\",\"Caracas\",\"CDMX\",\"Monterrey\",\"Bogota\"], labels = [\"Venezuela\",\"Venezuela\",\"Mexico\",\"Mexico\",\"Colombia\"]))"
   ]
  },
  {
   "cell_type": "markdown",
   "metadata": {},
   "source": [
    "## Variable Transformation"
   ]
  },
  {
   "cell_type": "code",
   "execution_count": null,
   "metadata": {},
   "outputs": [],
   "source": []
  },
  {
   "cell_type": "code",
   "execution_count": 7,
   "metadata": {},
   "outputs": [
    {
     "name": "stdout",
     "output_type": "stream",
     "text": [
      "          A\n",
      "  (float64)\n",
      "-----------\n",
      "   0\n",
      "   0.30103\n",
      "   0.477121\n",
      "   1.65321\n",
      "   0.778151\n",
      "   0.845098\n",
      " nan\n"
     ]
    }
   ],
   "source": [
    "df = op.create.dataframe({\"A\":[1,2,3,45,6,7,np.nan]})\n",
    "print(df.cols.log(\"A\"))"
   ]
  },
  {
   "cell_type": "code",
   "execution_count": 8,
   "metadata": {},
   "outputs": [
    {
     "name": "stdout",
     "output_type": "stream",
     "text": [
      "          A\n",
      "  (float64)\n",
      "-----------\n",
      "    1\n",
      "    1.41421\n",
      "    1.73205\n",
      "    6.7082\n",
      "    2.44949\n",
      "    2.64575\n",
      "  nan\n"
     ]
    }
   ],
   "source": [
    "print(df.cols.sqrt(\"A\"))"
   ]
  },
  {
   "cell_type": "code",
   "execution_count": 9,
   "metadata": {},
   "outputs": [
    {
     "name": "stdout",
     "output_type": "stream",
     "text": [
      "          A\n",
      "  (float64)\n",
      "-----------\n",
      "  1\n",
      "  0.5\n",
      "  0.333333\n",
      "  0.0222222\n",
      "  0.166667\n",
      "  0.142857\n",
      "nan\n"
     ]
    }
   ],
   "source": [
    "print(df.cols.reciprocal(\"A\"))"
   ]
  },
  {
   "cell_type": "code",
   "execution_count": 11,
   "metadata": {},
   "outputs": [
    {
     "name": "stdout",
     "output_type": "stream",
     "text": [
      "          A\n",
      "  (float64)\n",
      "-----------\n",
      "          1\n",
      "          4\n",
      "          9\n",
      "       2025\n",
      "         36\n",
      "         49\n",
      "        nan\n"
     ]
    }
   ],
   "source": [
    "print(df.cols.pow(\"A\", 2))"
   ]
  },
  {
   "cell_type": "code",
   "execution_count": 12,
   "metadata": {},
   "outputs": [
    {
     "name": "stdout",
     "output_type": "stream",
     "text": [
      "          A\n",
      "  (float64)\n",
      "-----------\n",
      "          1\n",
      "          8\n",
      "         27\n",
      "      91125\n",
      "        216\n",
      "        343\n",
      "        nan\n"
     ]
    }
   ],
   "source": [
    "print(df.cols.pow(\"A\", 3))"
   ]
  },
  {
   "cell_type": "code",
   "execution_count": 31,
   "metadata": {},
   "outputs": [
    {
     "data": {
      "text/plain": [
       "{'A': [{'lower': 1.0, 'upper': 3.3157894736842106, 'count': 3},\n",
       "  {'lower': 3.3157894736842106, 'upper': 5.631578947368421, 'count': 0},\n",
       "  {'lower': 5.631578947368421, 'upper': 7.947368421052632, 'count': 2},\n",
       "  {'lower': 7.947368421052632, 'upper': 10.263157894736842, 'count': 0},\n",
       "  {'lower': 10.263157894736842, 'upper': 12.578947368421053, 'count': 0},\n",
       "  {'lower': 12.578947368421053, 'upper': 14.894736842105264, 'count': 0},\n",
       "  {'lower': 14.894736842105264, 'upper': 17.210526315789473, 'count': 0},\n",
       "  {'lower': 17.210526315789473, 'upper': 19.526315789473685, 'count': 0},\n",
       "  {'lower': 19.526315789473685, 'upper': 21.842105263157897, 'count': 0},\n",
       "  {'lower': 21.842105263157897, 'upper': 24.157894736842106, 'count': 0},\n",
       "  {'lower': 24.157894736842106, 'upper': 26.473684210526315, 'count': 0},\n",
       "  {'lower': 26.473684210526315, 'upper': 28.789473684210527, 'count': 0},\n",
       "  {'lower': 28.789473684210527, 'upper': 31.10526315789474, 'count': 0},\n",
       "  {'lower': 31.10526315789474, 'upper': 33.421052631578945, 'count': 0},\n",
       "  {'lower': 33.421052631578945, 'upper': 35.73684210526316, 'count': 0},\n",
       "  {'lower': 35.73684210526316, 'upper': 38.05263157894737, 'count': 0},\n",
       "  {'lower': 38.05263157894737, 'upper': 40.36842105263158, 'count': 0},\n",
       "  {'lower': 40.36842105263158, 'upper': 42.684210526315795, 'count': 0},\n",
       "  {'lower': 42.684210526315795, 'upper': 45.0, 'count': 1}]}"
      ]
     },
     "execution_count": 31,
     "metadata": {},
     "output_type": "execute_result"
    }
   ],
   "source": [
    "df.cols.hist(\"A\",)[\"hist\"]"
   ]
  },
  {
   "cell_type": "code",
   "execution_count": null,
   "metadata": {},
   "outputs": [],
   "source": [
    "df = op.create.dataframe({\"A\":[1,2,3,45,6,7,np.nan]})\n",
    "df.cols.log(\"A\")"
   ]
  },
  {
   "cell_type": "markdown",
   "metadata": {},
   "source": [
    "## One-hot encoding"
   ]
  },
  {
   "cell_type": "code",
   "execution_count": 50,
   "metadata": {},
   "outputs": [],
   "source": [
    "df = op.create.dataframe({\"A\":[\"Optimus\",\"Bumblebee\",\"Eject\", \"Megatron\"], \"B\":[\"Transformer\",\"Transformer\",\"Transformer\",\"Decepticon\"]})"
   ]
  },
  {
   "cell_type": "code",
   "execution_count": 51,
   "metadata": {},
   "outputs": [
    {
     "name": "stdout",
     "output_type": "stream",
     "text": [
      "A           B\n",
      "(object)    (object)\n",
      "----------  -----------\n",
      "Optimus     Transformer\n",
      "Bumblebee   Transformer\n",
      "Eject       Transformer\n",
      "Megatron    Decepticon\n"
     ]
    }
   ],
   "source": [
    "print(df)"
   ]
  },
  {
   "cell_type": "code",
   "execution_count": 52,
   "metadata": {},
   "outputs": [
    {
     "name": "stdout",
     "output_type": "stream",
     "text": [
      "A           B              B_Decepticon    B_Transformer\n",
      "(object)    (object)            (uint8)          (uint8)\n",
      "----------  -----------  --------------  ---------------\n",
      "Optimus     Transformer               0                1\n",
      "Bumblebee   Transformer               0                1\n",
      "Eject       Transformer               0                1\n",
      "Megatron    Decepticon                1                0\n"
     ]
    }
   ],
   "source": [
    "print(df.encoding.one_hot_encoder(\"B\"))"
   ]
  },
  {
   "cell_type": "code",
   "execution_count": 18,
   "metadata": {},
   "outputs": [],
   "source": [
    "df = op.create.dataframe({\"A\":[1.12,3.2,4.35,6.3,7.3,np.nan]})"
   ]
  },
  {
   "cell_type": "code",
   "execution_count": 19,
   "metadata": {},
   "outputs": [
    {
     "data": {
      "text/html": [
       "\n",
       "\n",
       "\n",
       "\n",
       "\n",
       "<div class=\"info_items\" style=\"margin: 10px 0; font-family: sans-serif; font-size: 10px;\">Viewing 6 of 6 rows / 1 columns</div>\n",
       "<div class=\"info_items\" style=\"margin: 10px 0; font-family: sans-serif; font-size: 10px;\">1 partition(s) </div>\n",
       "\n",
       "\n",
       "<table class=\"optimus_table\" style=\"font-size: 12px;\">\n",
       "    <thead style=\"border-bottom: 1px solid black;\">\n",
       "    <tr>\n",
       "        \n",
       "        <th style=\"font-family: sans-serif;\">\n",
       "            <div class=\"column_name\" style=\"font-size: 1.2em;\">A</div>\n",
       "            <div class=\"data_type\" style=\"font-size: 0.8em; font-weight: normal;\">1 (float64)</div>\n",
       "            <div class=\"data_type\" style=\"font-size: 0.8em; font-weight: normal;\">\n",
       "                \n",
       "                not nullable\n",
       "                \n",
       "            </div>\n",
       "        </th>\n",
       "        \n",
       "    </tr>\n",
       "\n",
       "    </thead>\n",
       "    <tbody style=\"font-family: monospace; border-bottom: 1px solid #cccccc;\">\n",
       "    \n",
       "    <tr>\n",
       "        \n",
       "        <td style=\"border: 0px;\">\n",
       "            <div style=\"min-height: 14px;\" title=\"1.12\">\n",
       "                \n",
       "                1.12\n",
       "                 \n",
       "            </div>\n",
       "        </td>\n",
       "        \n",
       "    </tr>\n",
       "    \n",
       "    <tr>\n",
       "        \n",
       "        <td style=\"border: 0px;\">\n",
       "            <div style=\"min-height: 14px;\" title=\"3.2\">\n",
       "                \n",
       "                3.2\n",
       "                 \n",
       "            </div>\n",
       "        </td>\n",
       "        \n",
       "    </tr>\n",
       "    \n",
       "    <tr>\n",
       "        \n",
       "        <td style=\"border: 0px;\">\n",
       "            <div style=\"min-height: 14px;\" title=\"4.35\">\n",
       "                \n",
       "                4.35\n",
       "                 \n",
       "            </div>\n",
       "        </td>\n",
       "        \n",
       "    </tr>\n",
       "    \n",
       "    <tr>\n",
       "        \n",
       "        <td style=\"border: 0px;\">\n",
       "            <div style=\"min-height: 14px;\" title=\"6.3\">\n",
       "                \n",
       "                6.3\n",
       "                 \n",
       "            </div>\n",
       "        </td>\n",
       "        \n",
       "    </tr>\n",
       "    \n",
       "    <tr>\n",
       "        \n",
       "        <td style=\"border: 0px;\">\n",
       "            <div style=\"min-height: 14px;\" title=\"7.3\">\n",
       "                \n",
       "                7.3\n",
       "                 \n",
       "            </div>\n",
       "        </td>\n",
       "        \n",
       "    </tr>\n",
       "    \n",
       "    <tr>\n",
       "        \n",
       "        <td style=\"border: 0px;\">\n",
       "            <div style=\"min-height: 14px;\" title=\"nan\">\n",
       "                \n",
       "                nan\n",
       "                 \n",
       "            </div>\n",
       "        </td>\n",
       "        \n",
       "    </tr>\n",
       "    \n",
       "    </tbody>\n",
       "</table>\n",
       "\n",
       "<div class=\"info_items\" style=\"margin: 10px 0; font-family: sans-serif; font-size: 10px;\">Viewing 6 of 6 rows / 1 columns</div>\n",
       "<div class=\"info_items\" style=\"margin: 10px 0; font-family: sans-serif; font-size: 10px;\">1 partition(s) &lt;class &#39;optimus.engines.pandas.dataframe.PandasDataFrame&#39;&gt;</div>\n",
       "\n"
      ],
      "text/plain": [
       "          A\n",
       "  (float64)\n",
       "-----------\n",
       "       1.12\n",
       "       3.2\n",
       "       4.35\n",
       "       6.3\n",
       "       7.3\n",
       "     nan"
      ]
     },
     "execution_count": 19,
     "metadata": {},
     "output_type": "execute_result"
    }
   ],
   "source": [
    "df"
   ]
  },
  {
   "cell_type": "markdown",
   "metadata": {},
   "source": [
    "## splitting"
   ]
  },
  {
   "cell_type": "code",
   "execution_count": 60,
   "metadata": {},
   "outputs": [],
   "source": [
    "df = op.create.dataframe({\"A\":[\"Argenis Leon\",\"Luis Aguirre\",\"Favio Vasquez\",np.nan]})"
   ]
  },
  {
   "cell_type": "code",
   "execution_count": 65,
   "metadata": {},
   "outputs": [
    {
     "name": "stdout",
     "output_type": "stream",
     "text": [
      "A_0         A_1\n",
      "(object)    (object)\n",
      "----------  ----------\n",
      "Argenis     Leon\n",
      "Luis        Aguirre\n",
      "Favio       Vasquez\n",
      "nan\n"
     ]
    }
   ],
   "source": [
    "# df.cols.unnest(\"A\",\" \", index=0, drop=True)\n",
    "print(df.cols.unnest(\"A\",\" \", drop=True))"
   ]
  },
  {
   "cell_type": "code",
   "execution_count": 66,
   "metadata": {},
   "outputs": [],
   "source": [
    "df = op.create.dataframe({\"A\":[\"10/04/1980\",\"20/05/1995\",\"01/08/1990\",np.nan]})"
   ]
  },
  {
   "cell_type": "code",
   "execution_count": 67,
   "metadata": {},
   "outputs": [
    {
     "name": "stdout",
     "output_type": "stream",
     "text": [
      "A                  day       month        year\n",
      "(object)      (object)    (object)    (object)\n",
      "----------  ----------  ----------  ----------\n",
      "10/04/1980          10          04        1980\n",
      "20/05/1995          20          05        1995\n",
      "01/08/1990           1          08        1990\n",
      "nan                nan\n"
     ]
    }
   ],
   "source": [
    "print(df.cols.unnest(\"A\",\"/\", splits=3, output_cols=[\"day\",\"month\",\"year\"]))"
   ]
  },
  {
   "cell_type": "markdown",
   "metadata": {},
   "source": [
    "## Scaling"
   ]
  },
  {
   "cell_type": "code",
   "execution_count": 73,
   "metadata": {},
   "outputs": [],
   "source": [
    "df = op.create.dataframe({\"A\":[1.12,3.2,4.35,6.3,7.3,np.nan]})"
   ]
  },
  {
   "cell_type": "code",
   "execution_count": 74,
   "metadata": {},
   "outputs": [
    {
     "name": "stdout",
     "output_type": "stream",
     "text": [
      "          A\n",
      "  (float64)\n",
      "-----------\n",
      " -1.51526\n",
      " -0.569926\n",
      " -0.0472666\n",
      "  0.838981\n",
      "  1.29347\n",
      "nan\n"
     ]
    }
   ],
   "source": [
    "print(df.cols.standard_scaler(\"*\"))"
   ]
  },
  {
   "cell_type": "code",
   "execution_count": 70,
   "metadata": {},
   "outputs": [
    {
     "name": "stdout",
     "output_type": "stream",
     "text": [
      "          A\n",
      "  (float64)\n",
      "-----------\n",
      "   0\n",
      "   0.33657\n",
      "   0.522654\n",
      "   0.838188\n",
      "   1\n",
      " nan\n"
     ]
    }
   ],
   "source": [
    "print(df.cols.min_max_scaler(\"*\"))"
   ]
  },
  {
   "cell_type": "code",
   "execution_count": 69,
   "metadata": {},
   "outputs": [
    {
     "name": "stdout",
     "output_type": "stream",
     "text": [
      "          A\n",
      "  (float64)\n",
      "-----------\n",
      "   0.153425\n",
      "   0.438356\n",
      "   0.59589\n",
      "   0.863014\n",
      "   1\n",
      " nan\n"
     ]
    }
   ],
   "source": [
    "print(df.cols.max_abs_scaler(\"*\"))"
   ]
  },
  {
   "cell_type": "markdown",
   "metadata": {},
   "source": [
    "## String to index, index to string"
   ]
  },
  {
   "cell_type": "code",
   "execution_count": 84,
   "metadata": {},
   "outputs": [],
   "source": [
    "df = op.create.dataframe({\"A\":[\"Optimus\",\"Bumblebee\",\"Eject\",\"Optimus\",\"Eject\"]})"
   ]
  },
  {
   "cell_type": "code",
   "execution_count": 87,
   "metadata": {},
   "outputs": [
    {
     "name": "stdout",
     "output_type": "stream",
     "text": [
      "A\n",
      "(object)\n",
      "----------\n",
      "Optimus\n",
      "Bumblebee\n",
      "Eject\n",
      "Optimus\n",
      "Eject\n"
     ]
    }
   ],
   "source": [
    "print(df)"
   ]
  },
  {
   "cell_type": "code",
   "execution_count": 86,
   "metadata": {},
   "outputs": [
    {
     "name": "stdout",
     "output_type": "stream",
     "text": [
      "A             A_string_to_index\n",
      "(object)                (int32)\n",
      "----------  -------------------\n",
      "Optimus                       2\n",
      "Bumblebee                     0\n",
      "Eject                         1\n",
      "Optimus                       2\n",
      "Eject                         1\n"
     ]
    }
   ],
   "source": [
    "print(df.cols.string_to_index())"
   ]
  },
  {
   "cell_type": "code",
   "execution_count": 51,
   "metadata": {},
   "outputs": [
    {
     "ename": "NotFittedError",
     "evalue": "This LabelEncoder instance is not fitted yet. Call 'fit' with appropriate arguments before using this estimator.",
     "output_type": "error",
     "traceback": [
      "\u001b[1;31m---------------------------------------------------------------------------\u001b[0m",
      "\u001b[1;31mNotFittedError\u001b[0m                            Traceback (most recent call last)",
      "\u001b[1;32m<ipython-input-51-318210b97366>\u001b[0m in \u001b[0;36m<module>\u001b[1;34m\u001b[0m\n\u001b[0;32m      1\u001b[0m \u001b[1;31m# df = op.create.dataframe({\"A\":[\"Optimus\",\"Bumblebee\",\"Eject\",np.nan]})\u001b[0m\u001b[1;33m\u001b[0m\u001b[1;33m\u001b[0m\u001b[1;33m\u001b[0m\u001b[0m\n\u001b[1;32m----> 2\u001b[1;33m \u001b[0mdf\u001b[0m\u001b[1;33m.\u001b[0m\u001b[0mcols\u001b[0m\u001b[1;33m.\u001b[0m\u001b[0mindex_to_string\u001b[0m\u001b[1;33m(\u001b[0m\u001b[1;34m\"A\"\u001b[0m\u001b[1;33m)\u001b[0m\u001b[1;33m\u001b[0m\u001b[1;33m\u001b[0m\u001b[0m\n\u001b[0m",
      "\u001b[1;32m~\\Documents\\Optimus\\optimus\\engines\\pandas\\columns.py\u001b[0m in \u001b[0;36mindex_to_string\u001b[1;34m(self, input_cols, output_cols, columns)\u001b[0m\n\u001b[0;32m    146\u001b[0m         \u001b[0mdf\u001b[0m \u001b[1;33m=\u001b[0m \u001b[0mself\u001b[0m\u001b[1;33m.\u001b[0m\u001b[0mroot\u001b[0m\u001b[1;33m\u001b[0m\u001b[1;33m\u001b[0m\u001b[0m\n\u001b[0;32m    147\u001b[0m         \u001b[0mle\u001b[0m \u001b[1;33m=\u001b[0m \u001b[0mpreprocessing\u001b[0m\u001b[1;33m.\u001b[0m\u001b[0mLabelEncoder\u001b[0m\u001b[1;33m(\u001b[0m\u001b[1;33m)\u001b[0m\u001b[1;33m\u001b[0m\u001b[1;33m\u001b[0m\u001b[0m\n\u001b[1;32m--> 148\u001b[1;33m         \u001b[0mdf\u001b[0m \u001b[1;33m=\u001b[0m \u001b[0mindex_to_string\u001b[0m\u001b[1;33m(\u001b[0m\u001b[0mdf\u001b[0m\u001b[1;33m,\u001b[0m \u001b[0minput_cols\u001b[0m\u001b[1;33m,\u001b[0m \u001b[0moutput_cols\u001b[0m\u001b[1;33m,\u001b[0m \u001b[0mle\u001b[0m\u001b[1;33m)\u001b[0m\u001b[1;33m\u001b[0m\u001b[1;33m\u001b[0m\u001b[0m\n\u001b[0m\u001b[0;32m    149\u001b[0m \u001b[1;33m\u001b[0m\u001b[0m\n\u001b[0;32m    150\u001b[0m         \u001b[1;32mreturn\u001b[0m \u001b[0mdf\u001b[0m\u001b[1;33m\u001b[0m\u001b[1;33m\u001b[0m\u001b[0m\n",
      "\u001b[1;32m~\\Documents\\Optimus\\optimus\\engines\\base\\commons\\functions.py\u001b[0m in \u001b[0;36mindex_to_string\u001b[1;34m(df, input_cols, output_cols, le, **kwargs)\u001b[0m\n\u001b[0;32m    168\u001b[0m     return df.cols.apply(input_cols, _index_to_string, output_cols=output_cols,\n\u001b[0;32m    169\u001b[0m                          \u001b[0mmeta_action\u001b[0m\u001b[1;33m=\u001b[0m\u001b[0mActions\u001b[0m\u001b[1;33m.\u001b[0m\u001b[0mINDEX_TO_STRING\u001b[0m\u001b[1;33m.\u001b[0m\u001b[0mvalue\u001b[0m\u001b[1;33m,\u001b[0m\u001b[1;33m\u001b[0m\u001b[1;33m\u001b[0m\u001b[0m\n\u001b[1;32m--> 170\u001b[1;33m                          mode=\"vectorized\", default=INDEX_TO_STRING)\n\u001b[0m\u001b[0;32m    171\u001b[0m \u001b[1;33m\u001b[0m\u001b[0m\n\u001b[0;32m    172\u001b[0m \u001b[1;33m\u001b[0m\u001b[0m\n",
      "\u001b[1;32m~\\Documents\\Optimus\\optimus\\engines\\base\\columns.py\u001b[0m in \u001b[0;36mapply\u001b[1;34m(self, input_cols, func, func_return_type, args, func_type, when, filter_col_by_dtypes, output_cols, skip_output_cols_processing, meta_action, mode, set_index, default, **kwargs)\u001b[0m\n\u001b[0;32m    193\u001b[0m             \u001b[1;32mif\u001b[0m \u001b[0mmode\u001b[0m \u001b[1;33m==\u001b[0m \u001b[1;34m\"vectorized\"\u001b[0m\u001b[1;33m:\u001b[0m\u001b[1;33m\u001b[0m\u001b[1;33m\u001b[0m\u001b[0m\n\u001b[0;32m    194\u001b[0m                 \u001b[1;31m# kw_columns[output_col] = self.F.delayed(func)(part, *args)\u001b[0m\u001b[1;33m\u001b[0m\u001b[1;33m\u001b[0m\u001b[1;33m\u001b[0m\u001b[0m\n\u001b[1;32m--> 195\u001b[1;33m                 \u001b[0mkw_columns\u001b[0m\u001b[1;33m[\u001b[0m\u001b[0moutput_col\u001b[0m\u001b[1;33m]\u001b[0m \u001b[1;33m=\u001b[0m \u001b[0mfunc\u001b[0m\u001b[1;33m(\u001b[0m\u001b[0mdfd\u001b[0m\u001b[1;33m[\u001b[0m\u001b[0minput_col\u001b[0m\u001b[1;33m]\u001b[0m\u001b[1;33m,\u001b[0m \u001b[1;33m*\u001b[0m\u001b[0margs\u001b[0m\u001b[1;33m)\u001b[0m\u001b[1;33m\u001b[0m\u001b[1;33m\u001b[0m\u001b[0m\n\u001b[0m\u001b[0;32m    196\u001b[0m \u001b[1;33m\u001b[0m\u001b[0m\n\u001b[0;32m    197\u001b[0m             \u001b[1;32melif\u001b[0m \u001b[0mmode\u001b[0m \u001b[1;33m==\u001b[0m \u001b[1;34m\"partitioned\"\u001b[0m\u001b[1;33m:\u001b[0m\u001b[1;33m\u001b[0m\u001b[1;33m\u001b[0m\u001b[0m\n",
      "\u001b[1;32m~\\Documents\\Optimus\\optimus\\engines\\base\\commons\\functions.py\u001b[0m in \u001b[0;36m_index_to_string\u001b[1;34m(value)\u001b[0m\n\u001b[0;32m    164\u001b[0m \u001b[1;33m\u001b[0m\u001b[0m\n\u001b[0;32m    165\u001b[0m     \u001b[1;32mdef\u001b[0m \u001b[0m_index_to_string\u001b[0m\u001b[1;33m(\u001b[0m\u001b[0mvalue\u001b[0m\u001b[1;33m)\u001b[0m\u001b[1;33m:\u001b[0m\u001b[1;33m\u001b[0m\u001b[1;33m\u001b[0m\u001b[0m\n\u001b[1;32m--> 166\u001b[1;33m         \u001b[1;32mreturn\u001b[0m \u001b[0mle\u001b[0m\u001b[1;33m.\u001b[0m\u001b[0minverse_transform\u001b[0m\u001b[1;33m(\u001b[0m\u001b[0mvalue\u001b[0m\u001b[1;33m)\u001b[0m\u001b[1;33m\u001b[0m\u001b[1;33m\u001b[0m\u001b[0m\n\u001b[0m\u001b[0;32m    167\u001b[0m \u001b[1;33m\u001b[0m\u001b[0m\n\u001b[0;32m    168\u001b[0m     return df.cols.apply(input_cols, _index_to_string, output_cols=output_cols,\n",
      "\u001b[1;32m~\\Anaconda3\\lib\\site-packages\\sklearn\\preprocessing\\_label.py\u001b[0m in \u001b[0;36minverse_transform\u001b[1;34m(self, y)\u001b[0m\n\u001b[0;32m    286\u001b[0m         \u001b[0my\u001b[0m \u001b[1;33m:\u001b[0m \u001b[0mnumpy\u001b[0m \u001b[0marray\u001b[0m \u001b[0mof\u001b[0m \u001b[0mshape\u001b[0m \u001b[1;33m[\u001b[0m\u001b[0mn_samples\u001b[0m\u001b[1;33m]\u001b[0m\u001b[1;33m\u001b[0m\u001b[1;33m\u001b[0m\u001b[0m\n\u001b[0;32m    287\u001b[0m         \"\"\"\n\u001b[1;32m--> 288\u001b[1;33m         \u001b[0mcheck_is_fitted\u001b[0m\u001b[1;33m(\u001b[0m\u001b[0mself\u001b[0m\u001b[1;33m)\u001b[0m\u001b[1;33m\u001b[0m\u001b[1;33m\u001b[0m\u001b[0m\n\u001b[0m\u001b[0;32m    289\u001b[0m         \u001b[0my\u001b[0m \u001b[1;33m=\u001b[0m \u001b[0mcolumn_or_1d\u001b[0m\u001b[1;33m(\u001b[0m\u001b[0my\u001b[0m\u001b[1;33m,\u001b[0m \u001b[0mwarn\u001b[0m\u001b[1;33m=\u001b[0m\u001b[1;32mTrue\u001b[0m\u001b[1;33m)\u001b[0m\u001b[1;33m\u001b[0m\u001b[1;33m\u001b[0m\u001b[0m\n\u001b[0;32m    290\u001b[0m         \u001b[1;31m# inverse transform of empty array is empty array\u001b[0m\u001b[1;33m\u001b[0m\u001b[1;33m\u001b[0m\u001b[1;33m\u001b[0m\u001b[0m\n",
      "\u001b[1;32m~\\Anaconda3\\lib\\site-packages\\sklearn\\utils\\validation.py\u001b[0m in \u001b[0;36mcheck_is_fitted\u001b[1;34m(estimator, attributes, msg, all_or_any)\u001b[0m\n\u001b[0;32m    965\u001b[0m \u001b[1;33m\u001b[0m\u001b[0m\n\u001b[0;32m    966\u001b[0m     \u001b[1;32mif\u001b[0m \u001b[1;32mnot\u001b[0m \u001b[0mattrs\u001b[0m\u001b[1;33m:\u001b[0m\u001b[1;33m\u001b[0m\u001b[1;33m\u001b[0m\u001b[0m\n\u001b[1;32m--> 967\u001b[1;33m         \u001b[1;32mraise\u001b[0m \u001b[0mNotFittedError\u001b[0m\u001b[1;33m(\u001b[0m\u001b[0mmsg\u001b[0m \u001b[1;33m%\u001b[0m \u001b[1;33m{\u001b[0m\u001b[1;34m'name'\u001b[0m\u001b[1;33m:\u001b[0m \u001b[0mtype\u001b[0m\u001b[1;33m(\u001b[0m\u001b[0mestimator\u001b[0m\u001b[1;33m)\u001b[0m\u001b[1;33m.\u001b[0m\u001b[0m__name__\u001b[0m\u001b[1;33m}\u001b[0m\u001b[1;33m)\u001b[0m\u001b[1;33m\u001b[0m\u001b[1;33m\u001b[0m\u001b[0m\n\u001b[0m\u001b[0;32m    968\u001b[0m \u001b[1;33m\u001b[0m\u001b[0m\n\u001b[0;32m    969\u001b[0m \u001b[1;33m\u001b[0m\u001b[0m\n",
      "\u001b[1;31mNotFittedError\u001b[0m: This LabelEncoder instance is not fitted yet. Call 'fit' with appropriate arguments before using this estimator."
     ]
    }
   ],
   "source": [
    "# df = op.create.dataframe({\"A\":[\"Optimus\",\"Bumblebee\",\"Eject\",np.nan]})\n",
    "df.cols.index_to_string(\"A\")"
   ]
  },
  {
   "cell_type": "code",
   "execution_count": null,
   "metadata": {},
   "outputs": [],
   "source": []
  }
 ],
 "metadata": {
  "kernelspec": {
   "display_name": "Python 3",
   "language": "python",
   "name": "python3"
  },
  "language_info": {
   "codemirror_mode": {
    "name": "ipython",
    "version": 3
   },
   "file_extension": ".py",
   "mimetype": "text/x-python",
   "name": "python",
   "nbconvert_exporter": "python",
   "pygments_lexer": "ipython3",
   "version": "3.7.6"
  }
 },
 "nbformat": 4,
 "nbformat_minor": 4
}
