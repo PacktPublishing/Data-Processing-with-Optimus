{
 "cells": [
  {
   "cell_type": "markdown",
   "metadata": {},
   "source": [
    "# Chapter One - Data Processing with Optimus "
   ]
  },
  {
   "cell_type": "markdown",
   "metadata": {},
   "source": [
    "## Hi Optimus! "
   ]
  },
  {
   "cell_type": "markdown",
   "metadata": {},
   "source": [
    "### One API to rule them all "
   ]
  },
  {
   "cell_type": "markdown",
   "metadata": {},
   "source": [
    "Some examples of how datasets are created without using Optimus"
   ]
  },
  {
   "cell_type": "markdown",
   "metadata": {},
   "source": [
    "#### pandas"
   ]
  },
  {
   "cell_type": "code",
   "execution_count": null,
   "metadata": {},
   "outputs": [],
   "source": [
    "import pandas as pd \n",
    "import numpy as np \n",
    "\n",
    "data = {\"A\":[0, 1,2,3,4,5]} \n",
    "pdf = pd.DataFrame(data) \n",
    "pdf[\"A\"] = np.sqrt(pdf[\"A\"]) \n",
    "pdf "
   ]
  },
  {
   "cell_type": "markdown",
   "metadata": {},
   "source": [
    "#### cuDF"
   ]
  },
  {
   "cell_type": "code",
   "execution_count": null,
   "metadata": {},
   "outputs": [],
   "source": [
    "try:\n",
    "    import cudf\n",
    "\n",
    "    # You need to use dtype=”float” to return floats \n",
    "\n",
    "    cdf = cudf.DataFrame(data, dtype = \"float\") \n",
    "    cdf[\"A\"] = cdf[\"A\"].sqrt() \n",
    "except:\n",
    "    cdf = \"This could not run in your machine if \"\\\n",
    "          \"you don't have cuDF or any compatible \"\\\n",
    "          \"drivers installed.\"\n",
    "cdf"
   ]
  },
  {
   "cell_type": "markdown",
   "metadata": {},
   "source": [
    "#### dask"
   ]
  },
  {
   "cell_type": "code",
   "execution_count": null,
   "metadata": {},
   "outputs": [],
   "source": [
    "from dask import dataframe as dd  \n",
    "# You cannot create a dataframe directly from a dict. You need to use a pandas dataframe. \n",
    "ddf = dd.from_pandas(pdf, npartitions=1) \n",
    "\n",
    "import dask.array as da \n",
    "ddf[\"A\"]=da.sqrt(ddf.A) \n",
    "\n",
    "# You need to user compute to materialize the pandas dataframe \n",
    "ddf.compute() "
   ]
  },
  {
   "cell_type": "markdown",
   "metadata": {},
   "source": [
    "#### dask cuDF"
   ]
  },
  {
   "cell_type": "code",
   "execution_count": null,
   "metadata": {},
   "outputs": [],
   "source": [
    "try:\n",
    "    import dask_cudf \n",
    "\n",
    "    dcdf = dask_cudf.from_cudf(cdf, npartitions=2) \n",
    "    dcdf.map_partitions(cudf.sqrt).compute()\n",
    "except:\n",
    "    dcdf = \"This could not run in your machine if \"\\\n",
    "           \"you don't have Dask-cuDF or any compatible \"\\\n",
    "           \"drivers installed.\"\n",
    "dcdf"
   ]
  },
  {
   "cell_type": "markdown",
   "metadata": {},
   "source": [
    "#### vaex"
   ]
  },
  {
   "cell_type": "code",
   "execution_count": null,
   "metadata": {},
   "outputs": [],
   "source": [
    "import vaex \n",
    "import numpy as np \n",
    "  \n",
    "data = {\"A\":[0, 1,2,3,4,5]}\n",
    "vdf = vaex.from_dict(data)\n",
    "vdf[\"A\"] = np.sqrt(vdf[\"A\"]) \n",
    "vdf "
   ]
  },
  {
   "cell_type": "markdown",
   "metadata": {},
   "source": [
    "## Using Optimus "
   ]
  },
  {
   "cell_type": "markdown",
   "metadata": {},
   "source": [
    "Instantiating Optimus"
   ]
  },
  {
   "cell_type": "code",
   "execution_count": null,
   "metadata": {},
   "outputs": [],
   "source": [
    "from optimus import Optimus \n",
    "op = Optimus(\"pandas\")"
   ]
  },
  {
   "cell_type": "markdown",
   "metadata": {},
   "source": [
    "Using a Dask remote cluster"
   ]
  },
  {
   "cell_type": "code",
   "execution_count": null,
   "metadata": {},
   "outputs": [],
   "source": [
    "from dask.distributed import Client \n",
    "client = Client(\"127.0.0.105\") \n",
    "op = Optimus(engine=\"dask\", session=client) "
   ]
  },
  {
   "cell_type": "markdown",
   "metadata": {},
   "source": [
    "Using Dask locally with a different number of workers"
   ]
  },
  {
   "cell_type": "code",
   "execution_count": null,
   "metadata": {},
   "outputs": [],
   "source": [
    "op = Optimus(engine=\"dask\", n_workers=2)"
   ]
  },
  {
   "cell_type": "markdown",
   "metadata": {},
   "source": [
    "Loading a file"
   ]
  },
  {
   "cell_type": "code",
   "execution_count": null,
   "metadata": {},
   "outputs": [],
   "source": [
    "op.load.csv(\"path/to/file.csv\")"
   ]
  },
  {
   "cell_type": "code",
   "execution_count": null,
   "metadata": {},
   "outputs": [],
   "source": [
    "df = op.load.file(\"path/to/file.csv\")\n",
    "df"
   ]
  },
  {
   "cell_type": "markdown",
   "metadata": {},
   "source": [
    "Connecting to a database or an external bucket and loading a file"
   ]
  },
  {
   "cell_type": "code",
   "execution_count": null,
   "metadata": {},
   "outputs": [],
   "source": [
    "db = op.connect.database(*db_args)\n",
    "op.load.database_table(\"table name\", connection=db) "
   ]
  },
  {
   "cell_type": "code",
   "execution_count": null,
   "metadata": {},
   "outputs": [],
   "source": [
    "conn = op.connect.s3(*s3_args) \n",
    "op.load.file(\"relative/path/to/file.csv\", connection=conn) "
   ]
  },
  {
   "cell_type": "markdown",
   "metadata": {},
   "source": [
    "Saving a file"
   ]
  },
  {
   "cell_type": "code",
   "execution_count": null,
   "metadata": {},
   "outputs": [],
   "source": [
    "df.save.csv(\"path/to/output-file.csv\") "
   ]
  },
  {
   "cell_type": "code",
   "execution_count": null,
   "metadata": {},
   "outputs": [],
   "source": [
    "df.save.database_table(\"table_name\", db=db) "
   ]
  },
  {
   "cell_type": "code",
   "execution_count": null,
   "metadata": {},
   "outputs": [],
   "source": [
    "df.save.csv(\"relative/path/to/output-file.csv\", connection=conn) "
   ]
  },
  {
   "cell_type": "markdown",
   "metadata": {},
   "source": [
    "## The Optimus Dataframe"
   ]
  },
  {
   "cell_type": "code",
   "execution_count": null,
   "metadata": {},
   "outputs": [],
   "source": [
    "df.cols.rename(\"function\", \"job\") "
   ]
  },
  {
   "cell_type": "code",
   "execution_count": null,
   "metadata": {},
   "outputs": [],
   "source": [
    "df = df.cols.rename(\"function\", \"job\")\n",
    "df"
   ]
  },
  {
   "cell_type": "code",
   "execution_count": null,
   "metadata": {},
   "outputs": [],
   "source": [
    "df = df.cols.upper(\"name\").cols.lower(\"job\")\n",
    "df"
   ]
  },
  {
   "cell_type": "code",
   "execution_count": null,
   "metadata": {},
   "outputs": [],
   "source": [
    "df.cols.drop(\"name\") "
   ]
  },
  {
   "cell_type": "code",
   "execution_count": null,
   "metadata": {},
   "outputs": [],
   "source": [
    "df.rows.drop(df[\"name\"]==\"MEGATRON\") "
   ]
  },
  {
   "cell_type": "code",
   "execution_count": null,
   "metadata": {},
   "outputs": [],
   "source": [
    "df.display()"
   ]
  },
  {
   "cell_type": "code",
   "execution_count": null,
   "metadata": {},
   "outputs": [],
   "source": [
    "dfn = op.create.dataframe({\"A\":[\"1\",2,\"4\",\"!\",None]})"
   ]
  },
  {
   "cell_type": "code",
   "execution_count": null,
   "metadata": {},
   "outputs": [],
   "source": [
    "dfn.cols.min(\"A\"), dfn.cols.max(\"A\")"
   ]
  },
  {
   "cell_type": "code",
   "execution_count": null,
   "metadata": {},
   "outputs": [],
   "source": [
    "df.cols.capitalize(\"name\", output_cols=\"cap_name\") "
   ]
  },
  {
   "cell_type": "code",
   "execution_count": null,
   "metadata": {},
   "outputs": [],
   "source": [
    "df = op.create.dataframe({\n",
    "    \"A\":[\"1\",2,\"4\",\"!\",None],\n",
    "    \"B\":[\"Optimus\",\"Bumblebee\", \"Eject\", None, None]\n",
    "})  \n",
    "df.profile(bins=10) "
   ]
  },
  {
   "cell_type": "code",
   "execution_count": null,
   "metadata": {},
   "outputs": [],
   "source": [
    "df.columns_sample(\"*\") "
   ]
  },
  {
   "cell_type": "code",
   "execution_count": null,
   "metadata": {},
   "outputs": [],
   "source": [
    "df.execute()"
   ]
  },
  {
   "cell_type": "code",
   "execution_count": null,
   "metadata": {},
   "outputs": [],
   "source": [
    "op = Optimus(\"pandas\") \n",
    "df = op.load.csv(\"foo.txt\", sep=\",\") \n",
    "type(df.data)"
   ]
  },
  {
   "cell_type": "markdown",
   "metadata": {},
   "source": [
    "## Meta"
   ]
  },
  {
   "cell_type": "code",
   "execution_count": null,
   "metadata": {},
   "outputs": [],
   "source": [
    "from optimus import Optimus  \n",
    "op = Optimus(\"pandas\")  \n",
    "df = op.load.csv(\"foo.txt\", sep=\",\") \n",
    "df.meta "
   ]
  },
  {
   "cell_type": "markdown",
   "metadata": {},
   "source": [
    "### Actions"
   ]
  },
  {
   "cell_type": "code",
   "execution_count": null,
   "metadata": {},
   "outputs": [],
   "source": [
    "from optimus import Optimus  \n",
    "op = Optimus(\"pandas\")  \n",
    "df = op.load.csv(\"foo.txt\", sep=\",\") \n",
    "df = df.cols.upper(\"*\") "
   ]
  },
  {
   "cell_type": "code",
   "execution_count": null,
   "metadata": {},
   "outputs": [],
   "source": [
    "df.meta[\"transformations\"] "
   ]
  }
 ],
 "metadata": {
  "kernelspec": {
   "display_name": "Python 3",
   "language": "python",
   "name": "python3"
  },
  "language_info": {
   "codemirror_mode": {
    "name": "ipython",
    "version": 3
   },
   "file_extension": ".py",
   "mimetype": "text/x-python",
   "name": "python",
   "nbconvert_exporter": "python",
   "pygments_lexer": "ipython3",
   "version": "3.8.5"
  }
 },
 "nbformat": 4,
 "nbformat_minor": 4
}
